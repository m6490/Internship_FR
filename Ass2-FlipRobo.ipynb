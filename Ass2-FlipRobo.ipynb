{
 "cells": [
  {
   "cell_type": "code",
   "execution_count": 1,
   "id": "c3e703de",
   "metadata": {},
   "outputs": [],
   "source": [
    "#Installing Selenium"
   ]
  },
  {
   "cell_type": "code",
   "execution_count": 1,
   "id": "b755b694",
   "metadata": {},
   "outputs": [
    {
     "name": "stdout",
     "output_type": "stream",
     "text": [
      "Requirement already satisfied: selenium in c:\\users\\maahi\\anaconda3\\lib\\site-packages (4.7.2)\n",
      "Requirement already satisfied: trio-websocket~=0.9 in c:\\users\\maahi\\anaconda3\\lib\\site-packages (from selenium) (0.9.2)\n",
      "Requirement already satisfied: certifi>=2021.10.8 in c:\\users\\maahi\\anaconda3\\lib\\site-packages (from selenium) (2021.10.8)\n",
      "Requirement already satisfied: urllib3[socks]~=1.26 in c:\\users\\maahi\\anaconda3\\lib\\site-packages (from selenium) (1.26.9)\n",
      "Requirement already satisfied: trio~=0.17 in c:\\users\\maahi\\anaconda3\\lib\\site-packages (from selenium) (0.22.0)\n",
      "Requirement already satisfied: async-generator>=1.9 in c:\\users\\maahi\\anaconda3\\lib\\site-packages (from trio~=0.17->selenium) (1.10)\n",
      "Requirement already satisfied: sortedcontainers in c:\\users\\maahi\\anaconda3\\lib\\site-packages (from trio~=0.17->selenium) (2.4.0)\n",
      "Requirement already satisfied: attrs>=19.2.0 in c:\\users\\maahi\\anaconda3\\lib\\site-packages (from trio~=0.17->selenium) (21.4.0)\n",
      "Requirement already satisfied: outcome in c:\\users\\maahi\\anaconda3\\lib\\site-packages (from trio~=0.17->selenium) (1.2.0)\n",
      "Requirement already satisfied: exceptiongroup>=1.0.0rc9 in c:\\users\\maahi\\anaconda3\\lib\\site-packages (from trio~=0.17->selenium) (1.0.4)\n",
      "Requirement already satisfied: idna in c:\\users\\maahi\\anaconda3\\lib\\site-packages (from trio~=0.17->selenium) (3.3)\n",
      "Requirement already satisfied: cffi>=1.14 in c:\\users\\maahi\\anaconda3\\lib\\site-packages (from trio~=0.17->selenium) (1.15.0)\n",
      "Requirement already satisfied: sniffio in c:\\users\\maahi\\anaconda3\\lib\\site-packages (from trio~=0.17->selenium) (1.2.0)\n",
      "Requirement already satisfied: pycparser in c:\\users\\maahi\\anaconda3\\lib\\site-packages (from cffi>=1.14->trio~=0.17->selenium) (2.21)\n",
      "Requirement already satisfied: wsproto>=0.14 in c:\\users\\maahi\\anaconda3\\lib\\site-packages (from trio-websocket~=0.9->selenium) (1.2.0)\n",
      "Requirement already satisfied: PySocks!=1.5.7,<2.0,>=1.5.6 in c:\\users\\maahi\\anaconda3\\lib\\site-packages (from urllib3[socks]~=1.26->selenium) (1.7.1)\n",
      "Requirement already satisfied: h11<1,>=0.9.0 in c:\\users\\maahi\\anaconda3\\lib\\site-packages (from wsproto>=0.14->trio-websocket~=0.9->selenium) (0.14.0)\n"
     ]
    }
   ],
   "source": [
    "!pip install selenium"
   ]
  },
  {
   "cell_type": "code",
   "execution_count": 3,
   "id": "8bd0a9f0",
   "metadata": {},
   "outputs": [],
   "source": [
    "#importing the required libraries"
   ]
  },
  {
   "cell_type": "code",
   "execution_count": 2,
   "id": "36a2716d",
   "metadata": {},
   "outputs": [],
   "source": [
    "import selenium\n",
    "import pandas as pd\n",
    "from selenium import webdriver\n",
    "import warnings\n",
    "warnings.filterwarnings('ignore')\n",
    "from selenium.common.exceptions import StaleElementReferenceException,NoSuchElementException\n",
    "from selenium.webdriver.common.by import By\n",
    "import time"
   ]
  },
  {
   "cell_type": "markdown",
   "id": "40569dd2",
   "metadata": {},
   "source": [
    "# Program1"
   ]
  },
  {
   "cell_type": "code",
   "execution_count": 3,
   "id": "46f132e7",
   "metadata": {},
   "outputs": [],
   "source": [
    "#Creating the driver\n",
    "driver=webdriver.Chrome(r\"C:\\Users\\maahi\\Downloads\\chromedriver_win32\\chromedriver.exe\")"
   ]
  },
  {
   "cell_type": "code",
   "execution_count": 4,
   "id": "fd3f520a",
   "metadata": {},
   "outputs": [],
   "source": [
    "#Opening the desired page\n",
    "driver.get(\"https://www.naukri.com/\")"
   ]
  },
  {
   "cell_type": "code",
   "execution_count": 7,
   "id": "5f9794cb",
   "metadata": {},
   "outputs": [],
   "source": [
    "#Entering Designation and Location as provided and then searching for it"
   ]
  },
  {
   "cell_type": "code",
   "execution_count": 5,
   "id": "f7cc4883",
   "metadata": {},
   "outputs": [],
   "source": [
    "designation=driver.find_element(By.XPATH,'/html/body/div[1]/div[6]/div/div/div[1]/div/div/div/input')\n",
    "designation.send_keys(\"Data Analyst\")"
   ]
  },
  {
   "cell_type": "code",
   "execution_count": 6,
   "id": "6b0bf0b1",
   "metadata": {},
   "outputs": [],
   "source": [
    "location=driver.find_element(By.XPATH,\"/html/body/div[1]/div[6]/div/div/div[5]/div/div/div/input\")\n",
    "location.send_keys(\"Banglore\")"
   ]
  },
  {
   "cell_type": "code",
   "execution_count": 7,
   "id": "6a9b0530",
   "metadata": {},
   "outputs": [],
   "source": [
    "search=driver.find_element(By.CLASS_NAME,\"qsbSubmit\")\n",
    "search.click()"
   ]
  },
  {
   "cell_type": "code",
   "execution_count": 11,
   "id": "ce2c2901",
   "metadata": {},
   "outputs": [],
   "source": [
    "#Creating the fields required"
   ]
  },
  {
   "cell_type": "code",
   "execution_count": 8,
   "id": "1d5e476c",
   "metadata": {},
   "outputs": [],
   "source": [
    "job_titles=[]\n",
    "job_locations=[]\n",
    "company_names=[]\n",
    "experience_required=[]"
   ]
  },
  {
   "cell_type": "code",
   "execution_count": 10,
   "id": "dc75bf5e",
   "metadata": {},
   "outputs": [
    {
     "data": {
      "text/plain": [
       "['Data Analyst',\n",
       " 'Data Analyst',\n",
       " 'Data Analyst',\n",
       " 'Senior Data Analyst II',\n",
       " 'Project Data Analyst',\n",
       " 'Data Analyst, Business Analyst',\n",
       " 'Data Analyst',\n",
       " 'Executive - Data Analyst',\n",
       " 'Data Analyst',\n",
       " 'Data Analyst']"
      ]
     },
     "execution_count": 10,
     "metadata": {},
     "output_type": "execute_result"
    }
   ],
   "source": [
    "#scrapping job title from given page\n",
    "title_tags=driver.find_elements(By.XPATH,'//a[@class=\"title fw500 ellipsis\"]')\n",
    "for i in title_tags[0:10]:\n",
    "    title=i.text\n",
    "    job_titles.append(title)\n",
    "job_titles"
   ]
  },
  {
   "cell_type": "code",
   "execution_count": 11,
   "id": "1c709e54",
   "metadata": {},
   "outputs": [
    {
     "data": {
      "text/plain": [
       "10"
      ]
     },
     "execution_count": 11,
     "metadata": {},
     "output_type": "execute_result"
    }
   ],
   "source": [
    "len(job_titles)"
   ]
  },
  {
   "cell_type": "code",
   "execution_count": 12,
   "id": "f3e3ce5f",
   "metadata": {},
   "outputs": [
    {
     "data": {
      "text/plain": [
       "['Bangalore/Bengaluru',\n",
       " 'Bangalore/Bengaluru',\n",
       " 'Bangalore/Bengaluru',\n",
       " 'Bangalore/Bengaluru',\n",
       " 'Bangalore/Bengaluru',\n",
       " 'Bangalore/Bengaluru(HSR Layout +1)',\n",
       " 'Temp. WFH - Bangalore/Bengaluru',\n",
       " 'Bangalore/Bengaluru',\n",
       " 'Bangalore/Bengaluru',\n",
       " 'Bangalore/Bengaluru']"
      ]
     },
     "execution_count": 12,
     "metadata": {},
     "output_type": "execute_result"
    }
   ],
   "source": [
    "#scrapping job loc from given page\n",
    "loc_tags=driver.find_elements(By.XPATH,'//li[@class=\"fleft grey-text br2 placeHolderLi location\"]')\n",
    "for i in loc_tags[0:10]:\n",
    "    loc=i.text\n",
    "    job_locations.append(loc)\n",
    "job_locations"
   ]
  },
  {
   "cell_type": "code",
   "execution_count": 13,
   "id": "5909f800",
   "metadata": {},
   "outputs": [
    {
     "data": {
      "text/plain": [
       "10"
      ]
     },
     "execution_count": 13,
     "metadata": {},
     "output_type": "execute_result"
    }
   ],
   "source": [
    "len(job_locations)"
   ]
  },
  {
   "cell_type": "code",
   "execution_count": 14,
   "id": "54fb3c49",
   "metadata": {},
   "outputs": [
    {
     "data": {
      "text/plain": [
       "['Shell Pvt Ltd',\n",
       " 'Shell Pvt Ltd',\n",
       " 'Shell Pvt Ltd',\n",
       " 'Flipkart',\n",
       " 'WSP',\n",
       " 'Clinilaunch Research Institute Llp',\n",
       " 'Treebo Hotels',\n",
       " 'Flipkart',\n",
       " 'Cargill',\n",
       " 'Eli Lilly And Company']"
      ]
     },
     "execution_count": 14,
     "metadata": {},
     "output_type": "execute_result"
    }
   ],
   "source": [
    "#scrapping company name from given page\n",
    "com_tags=driver.find_elements(By.XPATH,'//a[@class=\"subTitle ellipsis fleft\"]')\n",
    "for i in com_tags[0:10]:\n",
    "    com=i.text\n",
    "    company_names.append(com) \n",
    "company_names"
   ]
  },
  {
   "cell_type": "code",
   "execution_count": 15,
   "id": "7c2e8891",
   "metadata": {},
   "outputs": [
    {
     "data": {
      "text/plain": [
       "10"
      ]
     },
     "execution_count": 15,
     "metadata": {},
     "output_type": "execute_result"
    }
   ],
   "source": [
    "len(company_names)"
   ]
  },
  {
   "cell_type": "code",
   "execution_count": 16,
   "id": "320cbc0f",
   "metadata": {},
   "outputs": [
    {
     "data": {
      "text/plain": [
       "['2-5 Yrs',\n",
       " '3-5 Yrs',\n",
       " '2-5 Yrs',\n",
       " '2-4 Yrs',\n",
       " '0-4 Yrs',\n",
       " '0-5 Yrs',\n",
       " '1-5 Yrs',\n",
       " '1-5 Yrs',\n",
       " '2-4 Yrs',\n",
       " '2-6 Yrs']"
      ]
     },
     "execution_count": 16,
     "metadata": {},
     "output_type": "execute_result"
    }
   ],
   "source": [
    "#scrapping experience required for given page\n",
    "exp_tag=driver.find_elements(By.XPATH,'//li[@class=\"fleft grey-text br2 placeHolderLi experience\"]//span')\n",
    "for i in exp_tag[0:10]:\n",
    "    exp=i.text\n",
    "    experience_required.append(exp)\n",
    "experience_required"
   ]
  },
  {
   "cell_type": "code",
   "execution_count": 17,
   "id": "0b336262",
   "metadata": {},
   "outputs": [
    {
     "data": {
      "text/plain": [
       "10"
      ]
     },
     "execution_count": 17,
     "metadata": {},
     "output_type": "execute_result"
    }
   ],
   "source": [
    "len(experience_required)"
   ]
  },
  {
   "cell_type": "code",
   "execution_count": 18,
   "id": "4b389db6",
   "metadata": {},
   "outputs": [
    {
     "name": "stdout",
     "output_type": "stream",
     "text": [
      "Jobs for Data Analyst in Banglore\n"
     ]
    },
    {
     "data": {
      "text/html": [
       "<div>\n",
       "<style scoped>\n",
       "    .dataframe tbody tr th:only-of-type {\n",
       "        vertical-align: middle;\n",
       "    }\n",
       "\n",
       "    .dataframe tbody tr th {\n",
       "        vertical-align: top;\n",
       "    }\n",
       "\n",
       "    .dataframe thead th {\n",
       "        text-align: right;\n",
       "    }\n",
       "</style>\n",
       "<table border=\"1\" class=\"dataframe\">\n",
       "  <thead>\n",
       "    <tr style=\"text-align: right;\">\n",
       "      <th></th>\n",
       "      <th>JobTitle</th>\n",
       "      <th>JobLocation</th>\n",
       "      <th>CompanyName</th>\n",
       "      <th>ExpierenceRequired</th>\n",
       "    </tr>\n",
       "  </thead>\n",
       "  <tbody>\n",
       "    <tr>\n",
       "      <th>0</th>\n",
       "      <td>Data Analyst</td>\n",
       "      <td>Bangalore/Bengaluru</td>\n",
       "      <td>Shell Pvt Ltd</td>\n",
       "      <td>2-5 Yrs</td>\n",
       "    </tr>\n",
       "    <tr>\n",
       "      <th>1</th>\n",
       "      <td>Data Analyst</td>\n",
       "      <td>Bangalore/Bengaluru</td>\n",
       "      <td>Shell Pvt Ltd</td>\n",
       "      <td>3-5 Yrs</td>\n",
       "    </tr>\n",
       "    <tr>\n",
       "      <th>2</th>\n",
       "      <td>Data Analyst</td>\n",
       "      <td>Bangalore/Bengaluru</td>\n",
       "      <td>Shell Pvt Ltd</td>\n",
       "      <td>2-5 Yrs</td>\n",
       "    </tr>\n",
       "    <tr>\n",
       "      <th>3</th>\n",
       "      <td>Senior Data Analyst II</td>\n",
       "      <td>Bangalore/Bengaluru</td>\n",
       "      <td>Flipkart</td>\n",
       "      <td>2-4 Yrs</td>\n",
       "    </tr>\n",
       "    <tr>\n",
       "      <th>4</th>\n",
       "      <td>Project Data Analyst</td>\n",
       "      <td>Bangalore/Bengaluru</td>\n",
       "      <td>WSP</td>\n",
       "      <td>0-4 Yrs</td>\n",
       "    </tr>\n",
       "    <tr>\n",
       "      <th>5</th>\n",
       "      <td>Data Analyst, Business Analyst</td>\n",
       "      <td>Bangalore/Bengaluru(HSR Layout +1)</td>\n",
       "      <td>Clinilaunch Research Institute Llp</td>\n",
       "      <td>0-5 Yrs</td>\n",
       "    </tr>\n",
       "    <tr>\n",
       "      <th>6</th>\n",
       "      <td>Data Analyst</td>\n",
       "      <td>Temp. WFH - Bangalore/Bengaluru</td>\n",
       "      <td>Treebo Hotels</td>\n",
       "      <td>1-5 Yrs</td>\n",
       "    </tr>\n",
       "    <tr>\n",
       "      <th>7</th>\n",
       "      <td>Executive - Data Analyst</td>\n",
       "      <td>Bangalore/Bengaluru</td>\n",
       "      <td>Flipkart</td>\n",
       "      <td>1-5 Yrs</td>\n",
       "    </tr>\n",
       "    <tr>\n",
       "      <th>8</th>\n",
       "      <td>Data Analyst</td>\n",
       "      <td>Bangalore/Bengaluru</td>\n",
       "      <td>Cargill</td>\n",
       "      <td>2-4 Yrs</td>\n",
       "    </tr>\n",
       "    <tr>\n",
       "      <th>9</th>\n",
       "      <td>Data Analyst</td>\n",
       "      <td>Bangalore/Bengaluru</td>\n",
       "      <td>Eli Lilly And Company</td>\n",
       "      <td>2-6 Yrs</td>\n",
       "    </tr>\n",
       "  </tbody>\n",
       "</table>\n",
       "</div>"
      ],
      "text/plain": [
       "                         JobTitle                         JobLocation  \\\n",
       "0                    Data Analyst                 Bangalore/Bengaluru   \n",
       "1                    Data Analyst                 Bangalore/Bengaluru   \n",
       "2                    Data Analyst                 Bangalore/Bengaluru   \n",
       "3          Senior Data Analyst II                 Bangalore/Bengaluru   \n",
       "4            Project Data Analyst                 Bangalore/Bengaluru   \n",
       "5  Data Analyst, Business Analyst  Bangalore/Bengaluru(HSR Layout +1)   \n",
       "6                    Data Analyst     Temp. WFH - Bangalore/Bengaluru   \n",
       "7        Executive - Data Analyst                 Bangalore/Bengaluru   \n",
       "8                    Data Analyst                 Bangalore/Bengaluru   \n",
       "9                    Data Analyst                 Bangalore/Bengaluru   \n",
       "\n",
       "                          CompanyName ExpierenceRequired  \n",
       "0                       Shell Pvt Ltd            2-5 Yrs  \n",
       "1                       Shell Pvt Ltd            3-5 Yrs  \n",
       "2                       Shell Pvt Ltd            2-5 Yrs  \n",
       "3                            Flipkart            2-4 Yrs  \n",
       "4                                 WSP            0-4 Yrs  \n",
       "5  Clinilaunch Research Institute Llp            0-5 Yrs  \n",
       "6                       Treebo Hotels            1-5 Yrs  \n",
       "7                            Flipkart            1-5 Yrs  \n",
       "8                             Cargill            2-4 Yrs  \n",
       "9               Eli Lilly And Company            2-6 Yrs  "
      ]
     },
     "execution_count": 18,
     "metadata": {},
     "output_type": "execute_result"
    }
   ],
   "source": [
    "#creating the data frame\n",
    "df=pd.DataFrame({'JobTitle':job_titles,'JobLocation':job_locations,'CompanyName':company_names,'ExpierenceRequired':experience_required})\n",
    "print(\"Jobs for Data Analyst in Banglore\")\n",
    "df"
   ]
  },
  {
   "cell_type": "markdown",
   "id": "4bda84a0",
   "metadata": {},
   "source": [
    "# Program2"
   ]
  },
  {
   "cell_type": "code",
   "execution_count": 19,
   "id": "f681725c",
   "metadata": {},
   "outputs": [],
   "source": [
    "#Creating the driver\n",
    "driver=webdriver.Chrome(r\"C:\\Users\\maahi\\Downloads\\chromedriver_win32\\chromedriver.exe\")"
   ]
  },
  {
   "cell_type": "code",
   "execution_count": 20,
   "id": "75c71a8d",
   "metadata": {},
   "outputs": [],
   "source": [
    "#requesting the desired page\n",
    "driver.get(\"https://www.naukri.com/\")"
   ]
  },
  {
   "cell_type": "code",
   "execution_count": 21,
   "id": "93e2cc85",
   "metadata": {},
   "outputs": [],
   "source": [
    "#Providing the designation details\n",
    "designation=driver.find_element(By.XPATH,'/html/body/div[1]/div[6]/div/div/div[1]/div/div/div/input')\n",
    "designation.send_keys(\"Data Scientist\")"
   ]
  },
  {
   "cell_type": "code",
   "execution_count": 22,
   "id": "6cf56838",
   "metadata": {},
   "outputs": [],
   "source": [
    "#providing location details\n",
    "location=driver.find_element(By.XPATH,\"/html/body/div[1]/div[6]/div/div/div[5]/div/div/div/input\")\n",
    "location.send_keys(\"Banglore\")"
   ]
  },
  {
   "cell_type": "code",
   "execution_count": 23,
   "id": "cd7050f5",
   "metadata": {},
   "outputs": [],
   "source": [
    "#start searching\n",
    "search=driver.find_element(By.CLASS_NAME,\"qsbSubmit\")\n",
    "search.click()"
   ]
  },
  {
   "cell_type": "code",
   "execution_count": 24,
   "id": "a3f2420f",
   "metadata": {},
   "outputs": [],
   "source": [
    "#creating the required fields\n",
    "job_tit=[]\n",
    "job_loc=[]\n",
    "comp_name=[]\n",
    "exp_required=[]"
   ]
  },
  {
   "cell_type": "code",
   "execution_count": 25,
   "id": "cc37ff77",
   "metadata": {},
   "outputs": [
    {
     "data": {
      "text/plain": [
       "['Analystics & Modeling Specialist',\n",
       " 'Data Scientist',\n",
       " 'Data Scientist',\n",
       " 'Data & Analytics Lead, Geo Analytics - GAMMA',\n",
       " 'Weather and Climate Data Scientist',\n",
       " 'Data Scientist',\n",
       " 'Data Scientist - II',\n",
       " 'Senior Data Scientist',\n",
       " 'Manager-Data Science',\n",
       " 'ACN - Applied Intelligence - Data Scientist - 09']"
      ]
     },
     "execution_count": 25,
     "metadata": {},
     "output_type": "execute_result"
    }
   ],
   "source": [
    "#scrapping job title\n",
    "title_tag=driver.find_elements(By.XPATH,'//a[@class=\"title fw500 ellipsis\"]')\n",
    "for i in title_tag[0:10]:\n",
    "    tit=i.text\n",
    "    job_tit.append(tit)\n",
    "job_tit"
   ]
  },
  {
   "cell_type": "code",
   "execution_count": 26,
   "id": "ba7be7cf",
   "metadata": {},
   "outputs": [
    {
     "data": {
      "text/plain": [
       "['Kolkata, Mumbai, Hyderabad/Secunderabad, Pune, Chennai, Bangalore/Bengaluru',\n",
       " 'New Delhi, Hyderabad/Secunderabad, Pune, Ahmedabad, Chennai, Bangalore/Bengaluru, Delhi / NCR, Mumbai (All Areas)',\n",
       " 'Nagpur, Pune, Bangalore/Bengaluru',\n",
       " 'Bangalore/Bengaluru',\n",
       " 'Bangalore/Bengaluru',\n",
       " 'Hybrid - Noida, Kolkata, Hyderabad/Secunderabad, Pune, Chennai, Bangalore/Bengaluru',\n",
       " 'India, Bangalore/Bengaluru, Mumbai (All Areas)',\n",
       " 'Mumbai, Bangalore/Bengaluru',\n",
       " 'Bangalore/Bengaluru',\n",
       " 'Bangalore/Bengaluru']"
      ]
     },
     "execution_count": 26,
     "metadata": {},
     "output_type": "execute_result"
    }
   ],
   "source": [
    "#scrapping location \n",
    "loc_tag=driver.find_elements(By.XPATH,'//li[@class=\"fleft grey-text br2 placeHolderLi location\"]')\n",
    "for i in loc_tag[0:10]:\n",
    "    locn=i.text\n",
    "    job_loc.append(locn)\n",
    "job_loc"
   ]
  },
  {
   "cell_type": "code",
   "execution_count": 27,
   "id": "f36cfdbf",
   "metadata": {},
   "outputs": [
    {
     "data": {
      "text/plain": [
       "['Accenture',\n",
       " 'Tata Nexarc',\n",
       " 'Tech Mahindra',\n",
       " 'Boston Consulting Group',\n",
       " 'Shell Pvt Ltd',\n",
       " 'Mindtree',\n",
       " 'Bizongo',\n",
       " 'Baker Hughes',\n",
       " 'AMERICAN EXPRESS',\n",
       " 'Accenture']"
      ]
     },
     "execution_count": 27,
     "metadata": {},
     "output_type": "execute_result"
    }
   ],
   "source": [
    "#scrapping company name\n",
    "com_tag=driver.find_elements(By.XPATH,'//a[@class=\"subTitle ellipsis fleft\"]')\n",
    "for i in com_tag[0:10]:\n",
    "    comp=i.text\n",
    "    comp_name.append(comp) \n",
    "comp_name"
   ]
  },
  {
   "cell_type": "code",
   "execution_count": 28,
   "id": "26cbb961",
   "metadata": {},
   "outputs": [
    {
     "data": {
      "text/plain": [
       "['6-8 Yrs',\n",
       " '4-8 Yrs',\n",
       " '5-8 Yrs',\n",
       " '7-10 Yrs',\n",
       " '5-12 Yrs',\n",
       " '5-10 Yrs',\n",
       " '3-6 Yrs',\n",
       " '6-8 Yrs',\n",
       " '3-4 Yrs',\n",
       " '2-6 Yrs']"
      ]
     },
     "execution_count": 28,
     "metadata": {},
     "output_type": "execute_result"
    }
   ],
   "source": [
    "#scrapping experience required\n",
    "expp_tag=driver.find_elements(By.XPATH,'//li[@class=\"fleft grey-text br2 placeHolderLi experience\"]//span')\n",
    "for i in expp_tag[0:10]:\n",
    "    expp=i.text\n",
    "    exp_required.append(expp)\n",
    "exp_required"
   ]
  },
  {
   "cell_type": "code",
   "execution_count": 29,
   "id": "5ad4c8a8",
   "metadata": {},
   "outputs": [
    {
     "name": "stdout",
     "output_type": "stream",
     "text": [
      "10 10 10 10\n"
     ]
    }
   ],
   "source": [
    "print(len(job_tit),len(job_loc),len(comp_name),len(exp_required))"
   ]
  },
  {
   "cell_type": "code",
   "execution_count": 30,
   "id": "d7516713",
   "metadata": {},
   "outputs": [
    {
     "name": "stdout",
     "output_type": "stream",
     "text": [
      "Jobs for Data Scientist in Banglore\n"
     ]
    },
    {
     "data": {
      "text/html": [
       "<div>\n",
       "<style scoped>\n",
       "    .dataframe tbody tr th:only-of-type {\n",
       "        vertical-align: middle;\n",
       "    }\n",
       "\n",
       "    .dataframe tbody tr th {\n",
       "        vertical-align: top;\n",
       "    }\n",
       "\n",
       "    .dataframe thead th {\n",
       "        text-align: right;\n",
       "    }\n",
       "</style>\n",
       "<table border=\"1\" class=\"dataframe\">\n",
       "  <thead>\n",
       "    <tr style=\"text-align: right;\">\n",
       "      <th></th>\n",
       "      <th>JobTitle</th>\n",
       "      <th>JobLocation</th>\n",
       "      <th>CompanyName</th>\n",
       "      <th>ExpierenceRequired</th>\n",
       "    </tr>\n",
       "  </thead>\n",
       "  <tbody>\n",
       "    <tr>\n",
       "      <th>0</th>\n",
       "      <td>Analystics &amp; Modeling Specialist</td>\n",
       "      <td>Kolkata, Mumbai, Hyderabad/Secunderabad, Pune,...</td>\n",
       "      <td>Accenture</td>\n",
       "      <td>6-8 Yrs</td>\n",
       "    </tr>\n",
       "    <tr>\n",
       "      <th>1</th>\n",
       "      <td>Data Scientist</td>\n",
       "      <td>New Delhi, Hyderabad/Secunderabad, Pune, Ahmed...</td>\n",
       "      <td>Tata Nexarc</td>\n",
       "      <td>4-8 Yrs</td>\n",
       "    </tr>\n",
       "    <tr>\n",
       "      <th>2</th>\n",
       "      <td>Data Scientist</td>\n",
       "      <td>Nagpur, Pune, Bangalore/Bengaluru</td>\n",
       "      <td>Tech Mahindra</td>\n",
       "      <td>5-8 Yrs</td>\n",
       "    </tr>\n",
       "    <tr>\n",
       "      <th>3</th>\n",
       "      <td>Data &amp; Analytics Lead, Geo Analytics - GAMMA</td>\n",
       "      <td>Bangalore/Bengaluru</td>\n",
       "      <td>Boston Consulting Group</td>\n",
       "      <td>7-10 Yrs</td>\n",
       "    </tr>\n",
       "    <tr>\n",
       "      <th>4</th>\n",
       "      <td>Weather and Climate Data Scientist</td>\n",
       "      <td>Bangalore/Bengaluru</td>\n",
       "      <td>Shell Pvt Ltd</td>\n",
       "      <td>5-12 Yrs</td>\n",
       "    </tr>\n",
       "    <tr>\n",
       "      <th>5</th>\n",
       "      <td>Data Scientist</td>\n",
       "      <td>Hybrid - Noida, Kolkata, Hyderabad/Secunderaba...</td>\n",
       "      <td>Mindtree</td>\n",
       "      <td>5-10 Yrs</td>\n",
       "    </tr>\n",
       "    <tr>\n",
       "      <th>6</th>\n",
       "      <td>Data Scientist - II</td>\n",
       "      <td>India, Bangalore/Bengaluru, Mumbai (All Areas)</td>\n",
       "      <td>Bizongo</td>\n",
       "      <td>3-6 Yrs</td>\n",
       "    </tr>\n",
       "    <tr>\n",
       "      <th>7</th>\n",
       "      <td>Senior Data Scientist</td>\n",
       "      <td>Mumbai, Bangalore/Bengaluru</td>\n",
       "      <td>Baker Hughes</td>\n",
       "      <td>6-8 Yrs</td>\n",
       "    </tr>\n",
       "    <tr>\n",
       "      <th>8</th>\n",
       "      <td>Manager-Data Science</td>\n",
       "      <td>Bangalore/Bengaluru</td>\n",
       "      <td>AMERICAN EXPRESS</td>\n",
       "      <td>3-4 Yrs</td>\n",
       "    </tr>\n",
       "    <tr>\n",
       "      <th>9</th>\n",
       "      <td>ACN - Applied Intelligence - Data Scientist - 09</td>\n",
       "      <td>Bangalore/Bengaluru</td>\n",
       "      <td>Accenture</td>\n",
       "      <td>2-6 Yrs</td>\n",
       "    </tr>\n",
       "  </tbody>\n",
       "</table>\n",
       "</div>"
      ],
      "text/plain": [
       "                                           JobTitle  \\\n",
       "0                  Analystics & Modeling Specialist   \n",
       "1                                    Data Scientist   \n",
       "2                                    Data Scientist   \n",
       "3      Data & Analytics Lead, Geo Analytics - GAMMA   \n",
       "4                Weather and Climate Data Scientist   \n",
       "5                                    Data Scientist   \n",
       "6                               Data Scientist - II   \n",
       "7                             Senior Data Scientist   \n",
       "8                              Manager-Data Science   \n",
       "9  ACN - Applied Intelligence - Data Scientist - 09   \n",
       "\n",
       "                                         JobLocation              CompanyName  \\\n",
       "0  Kolkata, Mumbai, Hyderabad/Secunderabad, Pune,...                Accenture   \n",
       "1  New Delhi, Hyderabad/Secunderabad, Pune, Ahmed...              Tata Nexarc   \n",
       "2                  Nagpur, Pune, Bangalore/Bengaluru            Tech Mahindra   \n",
       "3                                Bangalore/Bengaluru  Boston Consulting Group   \n",
       "4                                Bangalore/Bengaluru            Shell Pvt Ltd   \n",
       "5  Hybrid - Noida, Kolkata, Hyderabad/Secunderaba...                 Mindtree   \n",
       "6     India, Bangalore/Bengaluru, Mumbai (All Areas)                  Bizongo   \n",
       "7                        Mumbai, Bangalore/Bengaluru             Baker Hughes   \n",
       "8                                Bangalore/Bengaluru         AMERICAN EXPRESS   \n",
       "9                                Bangalore/Bengaluru                Accenture   \n",
       "\n",
       "  ExpierenceRequired  \n",
       "0            6-8 Yrs  \n",
       "1            4-8 Yrs  \n",
       "2            5-8 Yrs  \n",
       "3           7-10 Yrs  \n",
       "4           5-12 Yrs  \n",
       "5           5-10 Yrs  \n",
       "6            3-6 Yrs  \n",
       "7            6-8 Yrs  \n",
       "8            3-4 Yrs  \n",
       "9            2-6 Yrs  "
      ]
     },
     "execution_count": 30,
     "metadata": {},
     "output_type": "execute_result"
    }
   ],
   "source": [
    "#creating df\n",
    "df2=pd.DataFrame({'JobTitle':job_tit,'JobLocation':job_loc,'CompanyName':comp_name,'ExpierenceRequired':exp_required})\n",
    "print(\"Jobs for Data Scientist in Banglore\")\n",
    "df2"
   ]
  },
  {
   "cell_type": "markdown",
   "id": "4ec258ee",
   "metadata": {},
   "source": [
    "# Program3"
   ]
  },
  {
   "cell_type": "code",
   "execution_count": 31,
   "id": "fcf3aadf",
   "metadata": {},
   "outputs": [],
   "source": [
    "#Connecting the driver\n",
    "driver=webdriver.Chrome(r\"C:\\Users\\maahi\\Downloads\\chromedriver_win32\\chromedriver.exe\")"
   ]
  },
  {
   "cell_type": "code",
   "execution_count": 32,
   "id": "015a9d22",
   "metadata": {},
   "outputs": [],
   "source": [
    "#Opening the desired page\n",
    "driver.get(\"https://www.naukri.com/\")"
   ]
  },
  {
   "cell_type": "code",
   "execution_count": 33,
   "id": "6471b11c",
   "metadata": {},
   "outputs": [],
   "source": [
    "#Providing the designation details\n",
    "designation=driver.find_element(By.XPATH,'/html/body/div[1]/div[6]/div/div/div[1]/div/div/div/input')\n",
    "designation.send_keys(\"Data Scientist\")"
   ]
  },
  {
   "cell_type": "code",
   "execution_count": 34,
   "id": "535815bb",
   "metadata": {},
   "outputs": [],
   "source": [
    "#start searching\n",
    "search=driver.find_element(By.CLASS_NAME,\"qsbSubmit\")\n",
    "search.click()"
   ]
  },
  {
   "cell_type": "code",
   "execution_count": 35,
   "id": "4d734f5f",
   "metadata": {},
   "outputs": [],
   "source": [
    "#creating the required fields\n",
    "job_tit3=[]\n",
    "job_loc3=[]\n",
    "comp_name3=[]\n",
    "exp_required3=[]"
   ]
  },
  {
   "cell_type": "code",
   "execution_count": 36,
   "id": "c600f675",
   "metadata": {},
   "outputs": [
    {
     "data": {
      "text/plain": [
       "['Data Scientist',\n",
       " 'Analystics & Modeling Specialist',\n",
       " 'Data Scientist',\n",
       " 'Data & Analytics Lead, Geo Analytics - GAMMA',\n",
       " 'Weather and Climate Data Scientist',\n",
       " 'Data Scientist',\n",
       " 'Data Scientist - II',\n",
       " 'Senior Data Scientist',\n",
       " 'Manager-Data Science',\n",
       " 'ACN - Applied Intelligence - Data Scientist - 09']"
      ]
     },
     "execution_count": 36,
     "metadata": {},
     "output_type": "execute_result"
    }
   ],
   "source": [
    "#scrapping job title\n",
    "tit_tag=driver.find_elements(By.XPATH,'//a[@class=\"title fw500 ellipsis\"]')\n",
    "for i in tit_tag[0:10]:\n",
    "    tit3=i.text\n",
    "    job_tit3.append(tit3)\n",
    "job_tit3"
   ]
  },
  {
   "cell_type": "code",
   "execution_count": 37,
   "id": "c36663ac",
   "metadata": {},
   "outputs": [
    {
     "data": {
      "text/plain": [
       "['Nagpur, Pune, Bangalore/Bengaluru',\n",
       " 'Kolkata, Mumbai, Hyderabad/Secunderabad, Pune, Chennai, Bangalore/Bengaluru',\n",
       " 'New Delhi, Hyderabad/Secunderabad, Pune, Ahmedabad, Chennai, Bangalore/Bengaluru, Delhi / NCR, Mumbai (All Areas)',\n",
       " 'Bangalore/Bengaluru',\n",
       " 'Bangalore/Bengaluru',\n",
       " 'Hybrid - Noida, Kolkata, Hyderabad/Secunderabad, Pune, Chennai, Bangalore/Bengaluru',\n",
       " 'India, Bangalore/Bengaluru, Mumbai (All Areas)',\n",
       " 'Mumbai, Bangalore/Bengaluru',\n",
       " 'Bangalore/Bengaluru',\n",
       " 'Bangalore/Bengaluru']"
      ]
     },
     "execution_count": 37,
     "metadata": {},
     "output_type": "execute_result"
    }
   ],
   "source": [
    "#scrapping location \n",
    "loc_tag3=driver.find_elements(By.XPATH,'//li[@class=\"fleft grey-text br2 placeHolderLi location\"]')\n",
    "for i in loc_tag3[0:10]:\n",
    "    locn3=i.text\n",
    "    job_loc3.append(locn3)\n",
    "job_loc3"
   ]
  },
  {
   "cell_type": "code",
   "execution_count": 38,
   "id": "2b994f07",
   "metadata": {},
   "outputs": [
    {
     "data": {
      "text/plain": [
       "['Tech Mahindra',\n",
       " 'Accenture',\n",
       " 'Tata Nexarc',\n",
       " 'Boston Consulting Group',\n",
       " 'Shell Pvt Ltd',\n",
       " 'Mindtree',\n",
       " 'Bizongo',\n",
       " 'Baker Hughes',\n",
       " 'AMERICAN EXPRESS',\n",
       " 'Accenture']"
      ]
     },
     "execution_count": 38,
     "metadata": {},
     "output_type": "execute_result"
    }
   ],
   "source": [
    "#scrapping company name\n",
    "com_tag3=driver.find_elements(By.XPATH,'//a[@class=\"subTitle ellipsis fleft\"]')\n",
    "for i in com_tag3[0:10]:\n",
    "    comp3=i.text\n",
    "    comp_name3.append(comp3) \n",
    "comp_name3"
   ]
  },
  {
   "cell_type": "code",
   "execution_count": 39,
   "id": "ee0f9aa4",
   "metadata": {},
   "outputs": [
    {
     "data": {
      "text/plain": [
       "['5-8 Yrs',\n",
       " '6-8 Yrs',\n",
       " '4-8 Yrs',\n",
       " '7-10 Yrs',\n",
       " '5-12 Yrs',\n",
       " '5-10 Yrs',\n",
       " '3-6 Yrs',\n",
       " '6-8 Yrs',\n",
       " '3-4 Yrs',\n",
       " '2-6 Yrs']"
      ]
     },
     "execution_count": 39,
     "metadata": {},
     "output_type": "execute_result"
    }
   ],
   "source": [
    "#scrapping experience required\n",
    "expp_tag3=driver.find_elements(By.XPATH,'//li[@class=\"fleft grey-text br2 placeHolderLi experience\"]//span')\n",
    "for i in expp_tag3[0:10]:\n",
    "    expp3=i.text\n",
    "    exp_required3.append(expp3)\n",
    "exp_required3"
   ]
  },
  {
   "cell_type": "code",
   "execution_count": 40,
   "id": "49839952",
   "metadata": {},
   "outputs": [
    {
     "name": "stdout",
     "output_type": "stream",
     "text": [
      "Jobs for Data Scientist in Delhi/NCR with salary 3-6 lakhs \n"
     ]
    },
    {
     "data": {
      "text/html": [
       "<div>\n",
       "<style scoped>\n",
       "    .dataframe tbody tr th:only-of-type {\n",
       "        vertical-align: middle;\n",
       "    }\n",
       "\n",
       "    .dataframe tbody tr th {\n",
       "        vertical-align: top;\n",
       "    }\n",
       "\n",
       "    .dataframe thead th {\n",
       "        text-align: right;\n",
       "    }\n",
       "</style>\n",
       "<table border=\"1\" class=\"dataframe\">\n",
       "  <thead>\n",
       "    <tr style=\"text-align: right;\">\n",
       "      <th></th>\n",
       "      <th>JobTitle</th>\n",
       "      <th>JobLocation</th>\n",
       "      <th>CompanyName</th>\n",
       "      <th>ExpierenceRequired</th>\n",
       "    </tr>\n",
       "  </thead>\n",
       "  <tbody>\n",
       "    <tr>\n",
       "      <th>0</th>\n",
       "      <td>Data Scientist</td>\n",
       "      <td>Nagpur, Pune, Bangalore/Bengaluru</td>\n",
       "      <td>Tech Mahindra</td>\n",
       "      <td>5-8 Yrs</td>\n",
       "    </tr>\n",
       "    <tr>\n",
       "      <th>1</th>\n",
       "      <td>Analystics &amp; Modeling Specialist</td>\n",
       "      <td>Kolkata, Mumbai, Hyderabad/Secunderabad, Pune,...</td>\n",
       "      <td>Accenture</td>\n",
       "      <td>6-8 Yrs</td>\n",
       "    </tr>\n",
       "    <tr>\n",
       "      <th>2</th>\n",
       "      <td>Data Scientist</td>\n",
       "      <td>New Delhi, Hyderabad/Secunderabad, Pune, Ahmed...</td>\n",
       "      <td>Tata Nexarc</td>\n",
       "      <td>4-8 Yrs</td>\n",
       "    </tr>\n",
       "    <tr>\n",
       "      <th>3</th>\n",
       "      <td>Data &amp; Analytics Lead, Geo Analytics - GAMMA</td>\n",
       "      <td>Bangalore/Bengaluru</td>\n",
       "      <td>Boston Consulting Group</td>\n",
       "      <td>7-10 Yrs</td>\n",
       "    </tr>\n",
       "    <tr>\n",
       "      <th>4</th>\n",
       "      <td>Weather and Climate Data Scientist</td>\n",
       "      <td>Bangalore/Bengaluru</td>\n",
       "      <td>Shell Pvt Ltd</td>\n",
       "      <td>5-12 Yrs</td>\n",
       "    </tr>\n",
       "    <tr>\n",
       "      <th>5</th>\n",
       "      <td>Data Scientist</td>\n",
       "      <td>Hybrid - Noida, Kolkata, Hyderabad/Secunderaba...</td>\n",
       "      <td>Mindtree</td>\n",
       "      <td>5-10 Yrs</td>\n",
       "    </tr>\n",
       "    <tr>\n",
       "      <th>6</th>\n",
       "      <td>Data Scientist - II</td>\n",
       "      <td>India, Bangalore/Bengaluru, Mumbai (All Areas)</td>\n",
       "      <td>Bizongo</td>\n",
       "      <td>3-6 Yrs</td>\n",
       "    </tr>\n",
       "    <tr>\n",
       "      <th>7</th>\n",
       "      <td>Senior Data Scientist</td>\n",
       "      <td>Mumbai, Bangalore/Bengaluru</td>\n",
       "      <td>Baker Hughes</td>\n",
       "      <td>6-8 Yrs</td>\n",
       "    </tr>\n",
       "    <tr>\n",
       "      <th>8</th>\n",
       "      <td>Manager-Data Science</td>\n",
       "      <td>Bangalore/Bengaluru</td>\n",
       "      <td>AMERICAN EXPRESS</td>\n",
       "      <td>3-4 Yrs</td>\n",
       "    </tr>\n",
       "    <tr>\n",
       "      <th>9</th>\n",
       "      <td>ACN - Applied Intelligence - Data Scientist - 09</td>\n",
       "      <td>Bangalore/Bengaluru</td>\n",
       "      <td>Accenture</td>\n",
       "      <td>2-6 Yrs</td>\n",
       "    </tr>\n",
       "  </tbody>\n",
       "</table>\n",
       "</div>"
      ],
      "text/plain": [
       "                                           JobTitle  \\\n",
       "0                                    Data Scientist   \n",
       "1                  Analystics & Modeling Specialist   \n",
       "2                                    Data Scientist   \n",
       "3      Data & Analytics Lead, Geo Analytics - GAMMA   \n",
       "4                Weather and Climate Data Scientist   \n",
       "5                                    Data Scientist   \n",
       "6                               Data Scientist - II   \n",
       "7                             Senior Data Scientist   \n",
       "8                              Manager-Data Science   \n",
       "9  ACN - Applied Intelligence - Data Scientist - 09   \n",
       "\n",
       "                                         JobLocation              CompanyName  \\\n",
       "0                  Nagpur, Pune, Bangalore/Bengaluru            Tech Mahindra   \n",
       "1  Kolkata, Mumbai, Hyderabad/Secunderabad, Pune,...                Accenture   \n",
       "2  New Delhi, Hyderabad/Secunderabad, Pune, Ahmed...              Tata Nexarc   \n",
       "3                                Bangalore/Bengaluru  Boston Consulting Group   \n",
       "4                                Bangalore/Bengaluru            Shell Pvt Ltd   \n",
       "5  Hybrid - Noida, Kolkata, Hyderabad/Secunderaba...                 Mindtree   \n",
       "6     India, Bangalore/Bengaluru, Mumbai (All Areas)                  Bizongo   \n",
       "7                        Mumbai, Bangalore/Bengaluru             Baker Hughes   \n",
       "8                                Bangalore/Bengaluru         AMERICAN EXPRESS   \n",
       "9                                Bangalore/Bengaluru                Accenture   \n",
       "\n",
       "  ExpierenceRequired  \n",
       "0            5-8 Yrs  \n",
       "1            6-8 Yrs  \n",
       "2            4-8 Yrs  \n",
       "3           7-10 Yrs  \n",
       "4           5-12 Yrs  \n",
       "5           5-10 Yrs  \n",
       "6            3-6 Yrs  \n",
       "7            6-8 Yrs  \n",
       "8            3-4 Yrs  \n",
       "9            2-6 Yrs  "
      ]
     },
     "execution_count": 40,
     "metadata": {},
     "output_type": "execute_result"
    }
   ],
   "source": [
    "#creating df\n",
    "df3=pd.DataFrame({'JobTitle':job_tit3,'JobLocation':job_loc3,'CompanyName':comp_name3,'ExpierenceRequired':exp_required3})\n",
    "print(\"Jobs for Data Scientist in Delhi/NCR with salary 3-6 lakhs \")\n",
    "df3"
   ]
  },
  {
   "cell_type": "markdown",
   "id": "dddfff15",
   "metadata": {},
   "source": [
    "# Program4"
   ]
  },
  {
   "cell_type": "code",
   "execution_count": 41,
   "id": "c80547ee",
   "metadata": {},
   "outputs": [],
   "source": [
    "#Connecting the driver\n",
    "driver=webdriver.Chrome(r\"C:\\Users\\maahi\\Downloads\\chromedriver_win32\\chromedriver.exe\")"
   ]
  },
  {
   "cell_type": "code",
   "execution_count": 42,
   "id": "4f1e3e06",
   "metadata": {},
   "outputs": [],
   "source": [
    "#requesting the desired page\n",
    "driver.get(\"https://www.flipkart.com/\")"
   ]
  },
  {
   "cell_type": "code",
   "execution_count": 43,
   "id": "184c4a7b",
   "metadata": {},
   "outputs": [],
   "source": [
    "#Filling the search field with sunglasses\n",
    "category=driver.find_element(By.CLASS_NAME,\"_3704LK\")\n",
    "category.send_keys(\"sunglasses\")"
   ]
  },
  {
   "cell_type": "code",
   "execution_count": 46,
   "id": "e1e640b1",
   "metadata": {},
   "outputs": [],
   "source": [
    "#Clicking the submit button\n",
    "submit=driver.find_element(By.CLASS_NAME,\"L0Z3Pu\")\n",
    "submit.click()"
   ]
  },
  {
   "cell_type": "code",
   "execution_count": 47,
   "id": "3c35c726",
   "metadata": {},
   "outputs": [],
   "source": [
    "#Creating the attribute fields\n",
    "brand=[]\n",
    "p_desc=[]\n",
    "price=[]\n",
    "discount=[]"
   ]
  },
  {
   "cell_type": "code",
   "execution_count": null,
   "id": "615180f1",
   "metadata": {},
   "outputs": [],
   "source": [
    "#Since we want 100 sunglasses infor, we have to scrap 3 pages, Thus going through range(0:3)"
   ]
  },
  {
   "cell_type": "code",
   "execution_count": 48,
   "id": "1fef3ffb",
   "metadata": {},
   "outputs": [
    {
     "name": "stdout",
     "output_type": "stream",
     "text": [
      "Information Scrapped\n"
     ]
    }
   ],
   "source": [
    "for j in range(0,3):\n",
    "    brand_tag=driver.find_elements(By.XPATH,'//div[@class=\"_2WkVRV\"]')\n",
    "    for i in brand_tag[0:100]:\n",
    "        bran=i.text\n",
    "        brand.append(bran)\n",
    "    p_tag=driver.find_elements(By.XPATH,'//a[@class=\"IRpwTa\"]')\n",
    "    for i in p_tag[0:100]:\n",
    "        desc=i.text\n",
    "        p_desc.append(desc)\n",
    "    price_tag=driver.find_elements(By.XPATH,'//div[@class=\"_30jeq3\"]')\n",
    "    for i in price_tag[0:100]:\n",
    "        pr=i.text\n",
    "        price.append(pr)\n",
    "    dis_tag=driver.find_elements(By.XPATH,'//div[@class=\"_3Ay6Sb\"]')\n",
    "    for i in dis_tag[0:100]:\n",
    "        dis=i.text\n",
    "        discount.append(dis)\n",
    "    next_button=driver.find_element(By.XPATH,'//a[@class=\"_1LKTO3\"]')\n",
    "    next_button.click()\n",
    "    time.sleep(4)\n",
    "print(\"Information Scrapped\")"
   ]
  },
  {
   "cell_type": "code",
   "execution_count": 49,
   "id": "0b872e27",
   "metadata": {},
   "outputs": [
    {
     "name": "stdout",
     "output_type": "stream",
     "text": [
      "100 100 100 100\n"
     ]
    }
   ],
   "source": [
    "print(len(brand[:100]),len(p_desc[:100]),len(price[:100]),len(discount[:100]))"
   ]
  },
  {
   "cell_type": "code",
   "execution_count": 100,
   "id": "5bdd98a2",
   "metadata": {},
   "outputs": [],
   "source": [
    "#creating data frame "
   ]
  },
  {
   "cell_type": "code",
   "execution_count": 50,
   "id": "1ab65ea2",
   "metadata": {},
   "outputs": [
    {
     "name": "stdout",
     "output_type": "stream",
     "text": [
      "List of top 100 Sunglasses on Flipkart\n"
     ]
    },
    {
     "data": {
      "text/html": [
       "<div>\n",
       "<style scoped>\n",
       "    .dataframe tbody tr th:only-of-type {\n",
       "        vertical-align: middle;\n",
       "    }\n",
       "\n",
       "    .dataframe tbody tr th {\n",
       "        vertical-align: top;\n",
       "    }\n",
       "\n",
       "    .dataframe thead th {\n",
       "        text-align: right;\n",
       "    }\n",
       "</style>\n",
       "<table border=\"1\" class=\"dataframe\">\n",
       "  <thead>\n",
       "    <tr style=\"text-align: right;\">\n",
       "      <th></th>\n",
       "      <th>Brand</th>\n",
       "      <th>Product Description</th>\n",
       "      <th>Price</th>\n",
       "      <th>Dicount</th>\n",
       "    </tr>\n",
       "  </thead>\n",
       "  <tbody>\n",
       "    <tr>\n",
       "      <th>0</th>\n",
       "      <td>ROZZETTA CRAFT</td>\n",
       "      <td>UV Protection, Gradient Retro Square Sunglasse...</td>\n",
       "      <td>₹549</td>\n",
       "      <td>72% off</td>\n",
       "    </tr>\n",
       "    <tr>\n",
       "      <th>1</th>\n",
       "      <td>Silver Kartz</td>\n",
       "      <td>UV Protection Clubmaster Sunglasses (53)</td>\n",
       "      <td>₹278</td>\n",
       "      <td>81% off</td>\n",
       "    </tr>\n",
       "    <tr>\n",
       "      <th>2</th>\n",
       "      <td>LIZA ANGEL</td>\n",
       "      <td>Riding Glasses, Night Vision Spectacle Sunglas...</td>\n",
       "      <td>₹129</td>\n",
       "      <td>87% off</td>\n",
       "    </tr>\n",
       "    <tr>\n",
       "      <th>3</th>\n",
       "      <td>Fastrack</td>\n",
       "      <td>UV Protection Rectangular Sunglasses (Free Size)</td>\n",
       "      <td>₹489</td>\n",
       "      <td>38% off</td>\n",
       "    </tr>\n",
       "    <tr>\n",
       "      <th>4</th>\n",
       "      <td>Elligator</td>\n",
       "      <td>UV Protection Cat-eye, Retro Square, Oval, Rou...</td>\n",
       "      <td>₹149</td>\n",
       "      <td>75% off</td>\n",
       "    </tr>\n",
       "    <tr>\n",
       "      <th>...</th>\n",
       "      <td>...</td>\n",
       "      <td>...</td>\n",
       "      <td>...</td>\n",
       "      <td>...</td>\n",
       "    </tr>\n",
       "    <tr>\n",
       "      <th>95</th>\n",
       "      <td>Elligator</td>\n",
       "      <td>UV Protection Round Sunglasses (53)</td>\n",
       "      <td>₹149</td>\n",
       "      <td>85% off</td>\n",
       "    </tr>\n",
       "    <tr>\n",
       "      <th>96</th>\n",
       "      <td>ROYAL SON</td>\n",
       "      <td>UV Protection, Polarized Round Sunglasses (54)</td>\n",
       "      <td>₹699</td>\n",
       "      <td>65% off</td>\n",
       "    </tr>\n",
       "    <tr>\n",
       "      <th>97</th>\n",
       "      <td>hayden haiza</td>\n",
       "      <td>Polarized, UV Protection Aviator Sunglasses (55)</td>\n",
       "      <td>₹413</td>\n",
       "      <td>83% off</td>\n",
       "    </tr>\n",
       "    <tr>\n",
       "      <th>98</th>\n",
       "      <td>Elligator</td>\n",
       "      <td>UV Protection Round Sunglasses (54)</td>\n",
       "      <td>₹286</td>\n",
       "      <td>88% off</td>\n",
       "    </tr>\n",
       "    <tr>\n",
       "      <th>99</th>\n",
       "      <td>New Specs</td>\n",
       "      <td>UV Protection Rectangular Sunglasses (Free Size)</td>\n",
       "      <td>₹259</td>\n",
       "      <td>90% off</td>\n",
       "    </tr>\n",
       "  </tbody>\n",
       "</table>\n",
       "<p>100 rows × 4 columns</p>\n",
       "</div>"
      ],
      "text/plain": [
       "             Brand                                Product Description Price  \\\n",
       "0   ROZZETTA CRAFT  UV Protection, Gradient Retro Square Sunglasse...  ₹549   \n",
       "1     Silver Kartz           UV Protection Clubmaster Sunglasses (53)  ₹278   \n",
       "2       LIZA ANGEL  Riding Glasses, Night Vision Spectacle Sunglas...  ₹129   \n",
       "3         Fastrack   UV Protection Rectangular Sunglasses (Free Size)  ₹489   \n",
       "4        Elligator  UV Protection Cat-eye, Retro Square, Oval, Rou...  ₹149   \n",
       "..             ...                                                ...   ...   \n",
       "95       Elligator                UV Protection Round Sunglasses (53)  ₹149   \n",
       "96       ROYAL SON     UV Protection, Polarized Round Sunglasses (54)  ₹699   \n",
       "97    hayden haiza   Polarized, UV Protection Aviator Sunglasses (55)  ₹413   \n",
       "98       Elligator                UV Protection Round Sunglasses (54)  ₹286   \n",
       "99       New Specs   UV Protection Rectangular Sunglasses (Free Size)  ₹259   \n",
       "\n",
       "    Dicount  \n",
       "0   72% off  \n",
       "1   81% off  \n",
       "2   87% off  \n",
       "3   38% off  \n",
       "4   75% off  \n",
       "..      ...  \n",
       "95  85% off  \n",
       "96  65% off  \n",
       "97  83% off  \n",
       "98  88% off  \n",
       "99  90% off  \n",
       "\n",
       "[100 rows x 4 columns]"
      ]
     },
     "execution_count": 50,
     "metadata": {},
     "output_type": "execute_result"
    }
   ],
   "source": [
    "df4=pd.DataFrame({'Brand':brand[:100],'Product Description':p_desc[:100],'Price':price[:100],'Dicount':discount[:100]})\n",
    "print(\"List of top 100 Sunglasses on Flipkart\")\n",
    "df4"
   ]
  },
  {
   "cell_type": "markdown",
   "id": "70fad6e2",
   "metadata": {},
   "source": [
    "# Program5 "
   ]
  },
  {
   "cell_type": "code",
   "execution_count": 51,
   "id": "21e8a8d6",
   "metadata": {},
   "outputs": [],
   "source": [
    "#Connecting the driver\n",
    "driver=webdriver.Chrome(r\"C:\\Users\\maahi\\Downloads\\chromedriver_win32\\chromedriver.exe\")"
   ]
  },
  {
   "cell_type": "code",
   "execution_count": 52,
   "id": "a26eaadf",
   "metadata": {},
   "outputs": [],
   "source": [
    "#requesting the desired page\n",
    "driver.get(\"https://www.flipkart.com/apple-iphone-11-black-64-gb/product-reviews/itm4e5041ba101fd?pid=MOBFWQ6BXGJCEYNY&lid=LSTMOBFWQ6BXGJCEYNYZXSHRJ&marketplace=FLIPKART\")"
   ]
  },
  {
   "cell_type": "code",
   "execution_count": 53,
   "id": "1b72f242",
   "metadata": {},
   "outputs": [],
   "source": [
    "#Creating the attribute list\n",
    "rating=[]\n",
    "review=[]\n",
    "rev_summary=[]"
   ]
  },
  {
   "cell_type": "code",
   "execution_count": 54,
   "id": "72f05f14",
   "metadata": {},
   "outputs": [
    {
     "name": "stdout",
     "output_type": "stream",
     "text": [
      "Information Scrapped\n"
     ]
    }
   ],
   "source": [
    "#Since we want top 100 reviews, we have to scrap 10 pages\n",
    "for j in range(0,10):\n",
    "    rating_tag=driver.find_elements(By.XPATH,'//div[@class=\"_3LWZlK _1BLPMq\"]')\n",
    "    for i in rating_tag[0:100]:\n",
    "        rate=i.text\n",
    "        rating.append(rate)\n",
    "    review_tag=driver.find_elements(By.XPATH,'//div[@class=\"_3LWZlK _1BLPMq\"]')\n",
    "    for i in review_tag[0:100]:\n",
    "        rev=i.text\n",
    "        review.append(rev)\n",
    "    summary_tag=driver.find_elements(By.XPATH,'//div[@class=\"t-ZTKy\"]')\n",
    "    for i in summary_tag[0:100]:\n",
    "        sum=i.text\n",
    "        rev_summary.append(sum)\n",
    "    next_button=driver.find_element(By.XPATH,'//a[@class=\"_1LKTO3\"]')\n",
    "    next_button.click()\n",
    "    time.sleep(11)\n",
    "print(\"Information Scrapped\")"
   ]
  },
  {
   "cell_type": "code",
   "execution_count": 55,
   "id": "8042e05b",
   "metadata": {},
   "outputs": [
    {
     "name": "stdout",
     "output_type": "stream",
     "text": [
      "100 100 100\n"
     ]
    }
   ],
   "source": [
    "print(len(rating),len(review),len(rev_summary))"
   ]
  },
  {
   "cell_type": "code",
   "execution_count": 56,
   "id": "fdb3ec8e",
   "metadata": {},
   "outputs": [
    {
     "name": "stdout",
     "output_type": "stream",
     "text": [
      "Top 100 Reviews for iPhone11 from Flipkart\n"
     ]
    },
    {
     "data": {
      "text/html": [
       "<div>\n",
       "<style scoped>\n",
       "    .dataframe tbody tr th:only-of-type {\n",
       "        vertical-align: middle;\n",
       "    }\n",
       "\n",
       "    .dataframe tbody tr th {\n",
       "        vertical-align: top;\n",
       "    }\n",
       "\n",
       "    .dataframe thead th {\n",
       "        text-align: right;\n",
       "    }\n",
       "</style>\n",
       "<table border=\"1\" class=\"dataframe\">\n",
       "  <thead>\n",
       "    <tr style=\"text-align: right;\">\n",
       "      <th></th>\n",
       "      <th>Rating</th>\n",
       "      <th>Review</th>\n",
       "      <th>Review Summary</th>\n",
       "    </tr>\n",
       "  </thead>\n",
       "  <tbody>\n",
       "    <tr>\n",
       "      <th>0</th>\n",
       "      <td>5</td>\n",
       "      <td>5</td>\n",
       "      <td>Really satisfied with the Product I received.....</td>\n",
       "    </tr>\n",
       "    <tr>\n",
       "      <th>1</th>\n",
       "      <td>5</td>\n",
       "      <td>5</td>\n",
       "      <td>Amazing phone with great cameras and better ba...</td>\n",
       "    </tr>\n",
       "    <tr>\n",
       "      <th>2</th>\n",
       "      <td>5</td>\n",
       "      <td>5</td>\n",
       "      <td>Great iPhone very snappy experience as apple k...</td>\n",
       "    </tr>\n",
       "    <tr>\n",
       "      <th>3</th>\n",
       "      <td>4</td>\n",
       "      <td>4</td>\n",
       "      <td>I'm Really happy with the product\\nDelivery wa...</td>\n",
       "    </tr>\n",
       "    <tr>\n",
       "      <th>4</th>\n",
       "      <td>5</td>\n",
       "      <td>5</td>\n",
       "      <td>Previously I was using one plus 3t it was a gr...</td>\n",
       "    </tr>\n",
       "    <tr>\n",
       "      <th>...</th>\n",
       "      <td>...</td>\n",
       "      <td>...</td>\n",
       "      <td>...</td>\n",
       "    </tr>\n",
       "    <tr>\n",
       "      <th>95</th>\n",
       "      <td>5</td>\n",
       "      <td>5</td>\n",
       "      <td>Value for money❤️❤️\\nIts awesome mobile phone ...</td>\n",
       "    </tr>\n",
       "    <tr>\n",
       "      <th>96</th>\n",
       "      <td>5</td>\n",
       "      <td>5</td>\n",
       "      <td>iphone 11 is a very good phone to buy only if ...</td>\n",
       "    </tr>\n",
       "    <tr>\n",
       "      <th>97</th>\n",
       "      <td>5</td>\n",
       "      <td>5</td>\n",
       "      <td>It is just awesome mobile for this price from ...</td>\n",
       "    </tr>\n",
       "    <tr>\n",
       "      <th>98</th>\n",
       "      <td>4</td>\n",
       "      <td>4</td>\n",
       "      <td>Just got this iphone 11\\nAnd it is most powerf...</td>\n",
       "    </tr>\n",
       "    <tr>\n",
       "      <th>99</th>\n",
       "      <td>5</td>\n",
       "      <td>5</td>\n",
       "      <td>Amazing camera quality as expected, battery al...</td>\n",
       "    </tr>\n",
       "  </tbody>\n",
       "</table>\n",
       "<p>100 rows × 3 columns</p>\n",
       "</div>"
      ],
      "text/plain": [
       "   Rating Review                                     Review Summary\n",
       "0       5      5  Really satisfied with the Product I received.....\n",
       "1       5      5  Amazing phone with great cameras and better ba...\n",
       "2       5      5  Great iPhone very snappy experience as apple k...\n",
       "3       4      4  I'm Really happy with the product\\nDelivery wa...\n",
       "4       5      5  Previously I was using one plus 3t it was a gr...\n",
       "..    ...    ...                                                ...\n",
       "95      5      5  Value for money❤️❤️\\nIts awesome mobile phone ...\n",
       "96      5      5  iphone 11 is a very good phone to buy only if ...\n",
       "97      5      5  It is just awesome mobile for this price from ...\n",
       "98      4      4  Just got this iphone 11\\nAnd it is most powerf...\n",
       "99      5      5  Amazing camera quality as expected, battery al...\n",
       "\n",
       "[100 rows x 3 columns]"
      ]
     },
     "execution_count": 56,
     "metadata": {},
     "output_type": "execute_result"
    }
   ],
   "source": [
    "#Creating data frame\n",
    "df5=pd.DataFrame({'Rating':rating,'Review':review,'Review Summary':rev_summary})\n",
    "print(\"Top 100 Reviews for iPhone11 from Flipkart\")\n",
    "df5"
   ]
  },
  {
   "cell_type": "markdown",
   "id": "87a4abba",
   "metadata": {},
   "source": [
    "# Program6 "
   ]
  },
  {
   "cell_type": "code",
   "execution_count": 57,
   "id": "ceec392b",
   "metadata": {},
   "outputs": [],
   "source": [
    "#Connecting the driver\n",
    "driver=webdriver.Chrome(r\"C:\\Users\\maahi\\Downloads\\chromedriver_win32\\chromedriver.exe\")"
   ]
  },
  {
   "cell_type": "code",
   "execution_count": 58,
   "id": "ac8fa871",
   "metadata": {},
   "outputs": [],
   "source": [
    "#requesting the desired page\n",
    "driver.get(\"https://www.flipkart.com/\")"
   ]
  },
  {
   "cell_type": "code",
   "execution_count": 59,
   "id": "3b8cebea",
   "metadata": {},
   "outputs": [],
   "source": [
    "#Filling the search field with sneakers\n",
    "categ=driver.find_element(By.CLASS_NAME,\"_3704LK\")\n",
    "categ.send_keys(\"sneakers\")"
   ]
  },
  {
   "cell_type": "code",
   "execution_count": 62,
   "id": "439ea547",
   "metadata": {},
   "outputs": [],
   "source": [
    "#Clicking the submit button\n",
    "submit=driver.find_element(By.CLASS_NAME,\"L0Z3Pu\")\n",
    "submit.click()"
   ]
  },
  {
   "cell_type": "code",
   "execution_count": 63,
   "id": "fc27e628",
   "metadata": {},
   "outputs": [],
   "source": [
    "#Creating the attribute fields\n",
    "brands=[]\n",
    "pr_desc=[]\n",
    "prices=[]\n",
    "discounts=[]"
   ]
  },
  {
   "cell_type": "code",
   "execution_count": null,
   "id": "3880ebed",
   "metadata": {},
   "outputs": [],
   "source": [
    "#Scrapping information from 3 pages, as we want top 100 and we have only 40 in 1 page"
   ]
  },
  {
   "cell_type": "code",
   "execution_count": 64,
   "id": "6e47dddf",
   "metadata": {},
   "outputs": [
    {
     "name": "stdout",
     "output_type": "stream",
     "text": [
      "Information Scrapped\n"
     ]
    }
   ],
   "source": [
    "for j in range(0,3):\n",
    "    br_tag=driver.find_elements(By.XPATH,'//div[@class=\"_2WkVRV\"]')\n",
    "    for i in br_tag[0:100]:\n",
    "        br=i.text\n",
    "        brands.append(br)\n",
    "    pr_tag=driver.find_elements(By.XPATH,'//a[@class=\"IRpwTa\"]')\n",
    "    for i in pr_tag[0:100]:\n",
    "        descs=i.text\n",
    "        pr_desc.append(descs)\n",
    "    prices_tag=driver.find_elements(By.XPATH,'//div[@class=\"_30jeq3\"]')\n",
    "    for i in prices_tag[0:100]:\n",
    "        prs=i.text\n",
    "        prices.append(prs)\n",
    "    di_tag=driver.find_elements(By.XPATH,'//div[@class=\"_3Ay6Sb\"]')\n",
    "    for i in di_tag[0:100]:\n",
    "        di=i.text\n",
    "        discounts.append(di)\n",
    "    next_button=driver.find_element(By.XPATH,'//a[@class=\"_1LKTO3\"]')\n",
    "    next_button.click()\n",
    "    time.sleep(4)\n",
    "print(\"Information Scrapped\")"
   ]
  },
  {
   "cell_type": "code",
   "execution_count": 65,
   "id": "a7b1158f",
   "metadata": {},
   "outputs": [
    {
     "name": "stdout",
     "output_type": "stream",
     "text": [
      "100 100 100 100\n"
     ]
    }
   ],
   "source": [
    "print(len(brands[:100]),len(pr_desc[:100]),len(prices[:100]),len(discounts[:100]))"
   ]
  },
  {
   "cell_type": "code",
   "execution_count": 66,
   "id": "8e301a7a",
   "metadata": {},
   "outputs": [
    {
     "name": "stdout",
     "output_type": "stream",
     "text": [
      "List of top 100 sneakers on Flipkart\n"
     ]
    },
    {
     "data": {
      "text/html": [
       "<div>\n",
       "<style scoped>\n",
       "    .dataframe tbody tr th:only-of-type {\n",
       "        vertical-align: middle;\n",
       "    }\n",
       "\n",
       "    .dataframe tbody tr th {\n",
       "        vertical-align: top;\n",
       "    }\n",
       "\n",
       "    .dataframe thead th {\n",
       "        text-align: right;\n",
       "    }\n",
       "</style>\n",
       "<table border=\"1\" class=\"dataframe\">\n",
       "  <thead>\n",
       "    <tr style=\"text-align: right;\">\n",
       "      <th></th>\n",
       "      <th>Brand</th>\n",
       "      <th>Product Description</th>\n",
       "      <th>Price</th>\n",
       "      <th>Discount</th>\n",
       "    </tr>\n",
       "  </thead>\n",
       "  <tbody>\n",
       "    <tr>\n",
       "      <th>0</th>\n",
       "      <td>RapidBox</td>\n",
       "      <td>Sneakers For Men</td>\n",
       "      <td>₹599</td>\n",
       "      <td>40% off</td>\n",
       "    </tr>\n",
       "    <tr>\n",
       "      <th>1</th>\n",
       "      <td>Bacan</td>\n",
       "      <td>Sneakers For Men</td>\n",
       "      <td>₹549</td>\n",
       "      <td>45% off</td>\n",
       "    </tr>\n",
       "    <tr>\n",
       "      <th>2</th>\n",
       "      <td>Labbin</td>\n",
       "      <td>Sneakers For Men</td>\n",
       "      <td>₹399</td>\n",
       "      <td>60% off</td>\n",
       "    </tr>\n",
       "    <tr>\n",
       "      <th>3</th>\n",
       "      <td>Shozie</td>\n",
       "      <td>Sneakers For Men</td>\n",
       "      <td>₹295</td>\n",
       "      <td>70% off</td>\n",
       "    </tr>\n",
       "    <tr>\n",
       "      <th>4</th>\n",
       "      <td>Kzaara</td>\n",
       "      <td>Sneakers For Men</td>\n",
       "      <td>₹229</td>\n",
       "      <td>77% off</td>\n",
       "    </tr>\n",
       "    <tr>\n",
       "      <th>...</th>\n",
       "      <td>...</td>\n",
       "      <td>...</td>\n",
       "      <td>...</td>\n",
       "      <td>...</td>\n",
       "    </tr>\n",
       "    <tr>\n",
       "      <th>95</th>\n",
       "      <td>World Wear Footwear</td>\n",
       "      <td>Fashionable Canvas Casual Partywear Outdoor Sn...</td>\n",
       "      <td>₹259</td>\n",
       "      <td>82% off</td>\n",
       "    </tr>\n",
       "    <tr>\n",
       "      <th>96</th>\n",
       "      <td>HOTSTYLE</td>\n",
       "      <td>Ivana Wn's Sneakers For Women</td>\n",
       "      <td>₹399</td>\n",
       "      <td>60% off</td>\n",
       "    </tr>\n",
       "    <tr>\n",
       "      <th>97</th>\n",
       "      <td>Shozie</td>\n",
       "      <td>High Top Sneakers For Men</td>\n",
       "      <td>₹629</td>\n",
       "      <td>37% off</td>\n",
       "    </tr>\n",
       "    <tr>\n",
       "      <th>98</th>\n",
       "      <td>Kraasa</td>\n",
       "      <td>Sneakers For Men</td>\n",
       "      <td>₹449</td>\n",
       "      <td>55% off</td>\n",
       "    </tr>\n",
       "    <tr>\n",
       "      <th>99</th>\n",
       "      <td>Deals4you</td>\n",
       "      <td>PLANCK Smart Red Lace-Ups Casuals Sneakers Sne...</td>\n",
       "      <td>₹299</td>\n",
       "      <td>70% off</td>\n",
       "    </tr>\n",
       "  </tbody>\n",
       "</table>\n",
       "<p>100 rows × 4 columns</p>\n",
       "</div>"
      ],
      "text/plain": [
       "                  Brand                                Product Description  \\\n",
       "0              RapidBox                                   Sneakers For Men   \n",
       "1                 Bacan                                   Sneakers For Men   \n",
       "2                Labbin                                   Sneakers For Men   \n",
       "3                Shozie                                   Sneakers For Men   \n",
       "4                Kzaara                                   Sneakers For Men   \n",
       "..                  ...                                                ...   \n",
       "95  World Wear Footwear  Fashionable Canvas Casual Partywear Outdoor Sn...   \n",
       "96             HOTSTYLE                      Ivana Wn's Sneakers For Women   \n",
       "97               Shozie                          High Top Sneakers For Men   \n",
       "98               Kraasa                                   Sneakers For Men   \n",
       "99            Deals4you  PLANCK Smart Red Lace-Ups Casuals Sneakers Sne...   \n",
       "\n",
       "   Price Discount  \n",
       "0   ₹599  40% off  \n",
       "1   ₹549  45% off  \n",
       "2   ₹399  60% off  \n",
       "3   ₹295  70% off  \n",
       "4   ₹229  77% off  \n",
       "..   ...      ...  \n",
       "95  ₹259  82% off  \n",
       "96  ₹399  60% off  \n",
       "97  ₹629  37% off  \n",
       "98  ₹449  55% off  \n",
       "99  ₹299  70% off  \n",
       "\n",
       "[100 rows x 4 columns]"
      ]
     },
     "execution_count": 66,
     "metadata": {},
     "output_type": "execute_result"
    }
   ],
   "source": [
    "#Creating Data Frame\n",
    "df6=pd.DataFrame({'Brand':brands[:100],'Product Description':pr_desc[:100],'Price':prices[:100],'Discount':discounts[:100]})\n",
    "print(\"List of top 100 sneakers on Flipkart\")\n",
    "df6"
   ]
  },
  {
   "cell_type": "markdown",
   "id": "f7bcad8b",
   "metadata": {},
   "source": [
    "# Program7"
   ]
  },
  {
   "cell_type": "code",
   "execution_count": 84,
   "id": "3e9b2aa3",
   "metadata": {},
   "outputs": [],
   "source": [
    "#Connecting the driver\n",
    "driver=webdriver.Chrome(r\"C:\\Users\\maahi\\Downloads\\chromedriver_win32\\chromedriver.exe\")"
   ]
  },
  {
   "cell_type": "code",
   "execution_count": 85,
   "id": "80c615ca",
   "metadata": {},
   "outputs": [],
   "source": [
    "#Opening the desired page\n",
    "driver.get(\"https://www.amazon.in/\")"
   ]
  },
  {
   "cell_type": "code",
   "execution_count": 86,
   "id": "591ae1ec",
   "metadata": {},
   "outputs": [],
   "source": [
    "#Filling the search field with Laptop\n",
    "product=driver.find_element(By.XPATH,\"/html/body/div[1]/header/div/div[1]/div[2]/div/form/div[2]/div[1]/input\" )\n",
    "product.send_keys(\"Laptop\")"
   ]
  },
  {
   "cell_type": "code",
   "execution_count": 87,
   "id": "9c6c0d24",
   "metadata": {},
   "outputs": [],
   "source": [
    "#Clicking the submit button\n",
    "submit=driver.find_element(By.XPATH,'//input[@id=\"nav-search-submit-button\"]')\n",
    "submit.click()"
   ]
  },
  {
   "cell_type": "code",
   "execution_count": 88,
   "id": "331e8932",
   "metadata": {},
   "outputs": [],
   "source": [
    "#Creating the attribute fields\n",
    "titlel=[]\n",
    "ratingsla=[]\n",
    "pricel=[]"
   ]
  },
  {
   "cell_type": "code",
   "execution_count": 89,
   "id": "103dab6a",
   "metadata": {},
   "outputs": [
    {
     "data": {
      "text/plain": [
       "['Lenovo IdeaPad 3 11th Gen Intel Core i3 15.6\" FHD Thin & Light Laptop(8GB/512GB SSD/Windows 11/Office 2021/2Yr Warranty/3months Xbox Game Pass/Platinum Grey/1.7Kg), 81X800LGIN',\n",
       " 'Lenovo IdeaPad Slim 1 AMD Ryzen 3 3250U 15.6\" (39.62cm) FHD Thin & Light Laptop (8GB/512GB SSD/Windows 11/Office 2021/3months Game Pass/Cloud Grey/1.6Kg), 82R10049IN',\n",
       " 'AVITA SATUS ULTIMUS S111 NU14A1INC43PN-SG 14.1 FHD (35.81cms) Laptop (Intel Celeron N4020/4GB/128GB SSD/FHD Display/Windows 11 Home/ Intel UHD Graphics), Space Grey',\n",
       " 'Lenovo IdeaPad Slim 3 Intel Core i3 10th Gen 15.6\" (39.62cm) FHD Thin & Light Laptop (8GB/1TB HDD/Windows 11/Office 2021/2Yr Warranty/3months Game Pass/Platinum Grey/1.7Kg), 81WB01E7IN',\n",
       " 'Lenovo V15 Intel Celeron N4020 15.6\" (39.62 cm) HD 220 nits Antiglare Thin and Light Laptop (4GB RAM/256GB SSD/DOS/Iron Grey/1.85 kg), 82C3A008IH',\n",
       " 'Lenovo IdeaPad 3 11th Gen Intel Core i3 15.6\" FHD Thin & Light Laptop(8GB/512GB SSD/Windows 11/Office 2021/2Yr Warranty/3months Xbox Game Pass/Platinum Grey/1.7Kg), 81X800LGIN',\n",
       " 'HP 14s, Intel Celeron N4500, 8GB RAM/256GB SSD 14-inches/35.6 cm HD, Micro-Edge Display/Alexa Built-in/Windows 11/Intel UHD Graphics/Dual Speakers/ MSO 2021/1.46 Kg, 14s-dq3037tu',\n",
       " 'Lenovo IdeaPad D330 Intel Celeron N4020 10.1\" (25cm)HD IPS Detachable 2-in-1 Laptop (4GB/128GB eMMC/Windows 10/1 Yr Warranty/Mineral Grey/1.1Kg), 82H0001YIN',\n",
       " 'Honor MagicBook 14, AMD Ryzen 5 5500U 14-inch (35.56 cm) FHD IPS Anti-Glare Thin and Light Laptop (16GB/512GB PCIe SSD/Windows 11/Fingerprint Login/Metal Body/Backlit KB/1.38Kg), Gray, NobelM-WFQ9AHNE',\n",
       " '(Renewed) Dell Latitude E5470 Intel Core i5 6th Gen.6200u Processor 14.1 Inches HD Screen Notebook Computer (8 GB Ram & 256 GB SSD, Windows 10 Pro, 1.71Kg)']"
      ]
     },
     "execution_count": 89,
     "metadata": {},
     "output_type": "execute_result"
    }
   ],
   "source": [
    "#Scrapping top 10 titles\n",
    "tit_tag=driver.find_elements(By.XPATH,'//span[@class=\"a-size-medium a-color-base a-text-normal\"]')\n",
    "for i in tit_tag[0:10]:\n",
    "    tit=i.text\n",
    "    titlel.append(tit)\n",
    "titlel"
   ]
  },
  {
   "cell_type": "code",
   "execution_count": 90,
   "id": "26c954e8",
   "metadata": {},
   "outputs": [
    {
     "data": {
      "text/plain": [
       "['4.1', '4.0', '3.3', '3.6', '2.6', '4.1', '4.1', '4.5', '4.4', '']"
      ]
     },
     "execution_count": 90,
     "metadata": {},
     "output_type": "execute_result"
    }
   ],
   "source": [
    "#Scrapping top 10 ratings\n",
    "rate_tags=driver.find_elements(By.XPATH,'//span[@class=\"a-size-base\"]')\n",
    "for i in rate_tags[0:10]:\n",
    "    rates=i.text\n",
    "    ratingsla.append(rates)\n",
    "ratingsla"
   ]
  },
  {
   "cell_type": "code",
   "execution_count": 91,
   "id": "6b72c976",
   "metadata": {},
   "outputs": [
    {
     "data": {
      "text/plain": [
       "['38,490',\n",
       " '31,017',\n",
       " '19,999',\n",
       " '32,990',\n",
       " '19,990',\n",
       " '38,490',\n",
       " '59,990',\n",
       " '84,990',\n",
       " '56,490',\n",
       " '']"
      ]
     },
     "execution_count": 91,
     "metadata": {},
     "output_type": "execute_result"
    }
   ],
   "source": [
    "#Scrapping top 10 price\n",
    "pr_tag=driver.find_elements(By.CLASS_NAME,\"a-price-whole\")\n",
    "for i in pr_tag[0:10]:\n",
    "    pr=i.text\n",
    "    pricel.append(pr)\n",
    "pricel"
   ]
  },
  {
   "cell_type": "code",
   "execution_count": 92,
   "id": "d8fffa34",
   "metadata": {},
   "outputs": [
    {
     "name": "stdout",
     "output_type": "stream",
     "text": [
      "10 10 10\n"
     ]
    }
   ],
   "source": [
    "print(len(titlel),len(ratingsla),len(pricel))"
   ]
  },
  {
   "cell_type": "code",
   "execution_count": 82,
   "id": "2ec65aae",
   "metadata": {},
   "outputs": [
    {
     "name": "stdout",
     "output_type": "stream",
     "text": [
      "List of top 10 Laptops on Amazon with user ratings and peice\n"
     ]
    },
    {
     "data": {
      "text/html": [
       "<div>\n",
       "<style scoped>\n",
       "    .dataframe tbody tr th:only-of-type {\n",
       "        vertical-align: middle;\n",
       "    }\n",
       "\n",
       "    .dataframe tbody tr th {\n",
       "        vertical-align: top;\n",
       "    }\n",
       "\n",
       "    .dataframe thead th {\n",
       "        text-align: right;\n",
       "    }\n",
       "</style>\n",
       "<table border=\"1\" class=\"dataframe\">\n",
       "  <thead>\n",
       "    <tr style=\"text-align: right;\">\n",
       "      <th></th>\n",
       "      <th>Laptop Name</th>\n",
       "      <th>Rating</th>\n",
       "      <th>Price</th>\n",
       "    </tr>\n",
       "  </thead>\n",
       "  <tbody>\n",
       "    <tr>\n",
       "      <th>0</th>\n",
       "      <td>Lenovo IdeaPad 3 11th Gen Intel Core i3 15.6\" ...</td>\n",
       "      <td>4.1</td>\n",
       "      <td>38,490</td>\n",
       "    </tr>\n",
       "    <tr>\n",
       "      <th>1</th>\n",
       "      <td>Lenovo IdeaPad Slim 1 AMD Ryzen 3 3250U 15.6\" ...</td>\n",
       "      <td>4.0</td>\n",
       "      <td>31,017</td>\n",
       "    </tr>\n",
       "    <tr>\n",
       "      <th>2</th>\n",
       "      <td>(Renewed) Dell Latitude E5470 Intel Core i5 6t...</td>\n",
       "      <td>3.6</td>\n",
       "      <td>18,949</td>\n",
       "    </tr>\n",
       "    <tr>\n",
       "      <th>3</th>\n",
       "      <td>Lenovo IdeaPad Slim 3 Intel Celeron N4020 4th ...</td>\n",
       "      <td>3.7</td>\n",
       "      <td>27,127</td>\n",
       "    </tr>\n",
       "    <tr>\n",
       "      <th>4</th>\n",
       "      <td>ASUS VivoBook 15 (2021), 15.6-inch (39.62 cm) ...</td>\n",
       "      <td>3.9</td>\n",
       "      <td>25,990</td>\n",
       "    </tr>\n",
       "    <tr>\n",
       "      <th>5</th>\n",
       "      <td>Lenovo IdeaPad 3 11th Gen Intel Core i3 15.6\" ...</td>\n",
       "      <td>4.1</td>\n",
       "      <td>38,490</td>\n",
       "    </tr>\n",
       "    <tr>\n",
       "      <th>6</th>\n",
       "      <td>HP 15s, AMD Athlon Silver 3050U 8GB RAM/512GB ...</td>\n",
       "      <td>4.1</td>\n",
       "      <td>59,990</td>\n",
       "    </tr>\n",
       "    <tr>\n",
       "      <th>7</th>\n",
       "      <td>HP 15s-Ryzen 3 3250U 8GB SDRAM/256GB SSD 15.6i...</td>\n",
       "      <td>4.5</td>\n",
       "      <td>84,990</td>\n",
       "    </tr>\n",
       "    <tr>\n",
       "      <th>8</th>\n",
       "      <td>Lenovo V15 Intel Celeron N4020 15.6\" (39.62 cm...</td>\n",
       "      <td>4.4</td>\n",
       "      <td>56,490</td>\n",
       "    </tr>\n",
       "    <tr>\n",
       "      <th>9</th>\n",
       "      <td>AVITA SATUS ULTIMUS S111 NU14A1INC43PN-SG 14.1...</td>\n",
       "      <td></td>\n",
       "      <td></td>\n",
       "    </tr>\n",
       "  </tbody>\n",
       "</table>\n",
       "</div>"
      ],
      "text/plain": [
       "                                         Laptop Name Rating   Price\n",
       "0  Lenovo IdeaPad 3 11th Gen Intel Core i3 15.6\" ...    4.1  38,490\n",
       "1  Lenovo IdeaPad Slim 1 AMD Ryzen 3 3250U 15.6\" ...    4.0  31,017\n",
       "2  (Renewed) Dell Latitude E5470 Intel Core i5 6t...    3.6  18,949\n",
       "3  Lenovo IdeaPad Slim 3 Intel Celeron N4020 4th ...    3.7  27,127\n",
       "4  ASUS VivoBook 15 (2021), 15.6-inch (39.62 cm) ...    3.9  25,990\n",
       "5  Lenovo IdeaPad 3 11th Gen Intel Core i3 15.6\" ...    4.1  38,490\n",
       "6  HP 15s, AMD Athlon Silver 3050U 8GB RAM/512GB ...    4.1  59,990\n",
       "7  HP 15s-Ryzen 3 3250U 8GB SDRAM/256GB SSD 15.6i...    4.5  84,990\n",
       "8  Lenovo V15 Intel Celeron N4020 15.6\" (39.62 cm...    4.4  56,490\n",
       "9  AVITA SATUS ULTIMUS S111 NU14A1INC43PN-SG 14.1...               "
      ]
     },
     "execution_count": 82,
     "metadata": {},
     "output_type": "execute_result"
    }
   ],
   "source": [
    "#creating data frame\n",
    "df7=pd.DataFrame({'Laptop Name':titlel,'Rating':ratingsla,'Price':pricel})\n",
    "print(\"List of top 10 Laptops on Amazon with user ratings and peice\")\n",
    "df7"
   ]
  },
  {
   "cell_type": "markdown",
   "id": "f904aa1a",
   "metadata": {},
   "source": [
    "# Program 8"
   ]
  },
  {
   "cell_type": "code",
   "execution_count": 450,
   "id": "aa862e5b",
   "metadata": {},
   "outputs": [],
   "source": [
    "#connecting the driver\n",
    "driver=webdriver.Chrome(r\"C:\\Users\\maahi\\Downloads\\chromedriver_win32\\chromedriver.exe\")"
   ]
  },
  {
   "cell_type": "code",
   "execution_count": 451,
   "id": "642ce258",
   "metadata": {},
   "outputs": [],
   "source": [
    "#Opening the desired page\n",
    "driver.get(\"https://www.azquotes.com/\")"
   ]
  },
  {
   "cell_type": "code",
   "execution_count": 452,
   "id": "eb4af67d",
   "metadata": {},
   "outputs": [],
   "source": [
    "#Clicking on TOP QUOTES\n",
    "top_quote=driver.find_element(By.XPATH,'//a[@href=\"/top_quotes.html\"]').click()"
   ]
  },
  {
   "cell_type": "code",
   "execution_count": 453,
   "id": "763e0a67",
   "metadata": {},
   "outputs": [],
   "source": [
    "#Creating the attributes field\n",
    "quote=[]\n",
    "author=[]\n",
    "types=[]"
   ]
  },
  {
   "cell_type": "code",
   "execution_count": 140,
   "id": "8e0bcee5",
   "metadata": {},
   "outputs": [],
   "source": [
    "#Searching 10 pages, since we want info about 1000 quotes and per page there are only 100 quotes"
   ]
  },
  {
   "cell_type": "code",
   "execution_count": 455,
   "id": "36d3590f",
   "metadata": {},
   "outputs": [
    {
     "name": "stdout",
     "output_type": "stream",
     "text": [
      "Information Scrapped\n"
     ]
    }
   ],
   "source": [
    "for j in range(0,10): #Not included the 10th page as its throwing exception\n",
    "    quote_tag=driver.find_elements(By.XPATH,'//a[@class=\"title\"]')\n",
    "    for i in quote_tag:\n",
    "        quo=i.text\n",
    "        quote.append(quo)\n",
    "    author_tag=driver.find_elements(By.XPATH,'//div[@class=\"author\"]')\n",
    "    for i in author_tag:\n",
    "        auth=i.text\n",
    "        author.append(auth)\n",
    "    type_tag=driver.find_elements(By.XPATH,'//div[@class=\"tags\"]')\n",
    "    for i in type_tag:\n",
    "        tp=i.text\n",
    "        types.append(tp)\n",
    "    try:\n",
    "        next_button=driver.find_element(By.XPATH,'//li[@class=\"next\"]//a')\n",
    "        next_button.click()\n",
    "    except NoSuchElementException:\n",
    "        pass\n",
    "print(\"Information Scrapped\")"
   ]
  },
  {
   "cell_type": "code",
   "execution_count": 456,
   "id": "373b0466",
   "metadata": {},
   "outputs": [
    {
     "name": "stdout",
     "output_type": "stream",
     "text": [
      "1000 1000 1000\n"
     ]
    }
   ],
   "source": [
    "print(len(quote),len(author),len(types))"
   ]
  },
  {
   "cell_type": "code",
   "execution_count": 457,
   "id": "8215da66",
   "metadata": {},
   "outputs": [
    {
     "name": "stdout",
     "output_type": "stream",
     "text": [
      "Top 1000 Quotes of All Time\n"
     ]
    },
    {
     "data": {
      "text/html": [
       "<div>\n",
       "<style scoped>\n",
       "    .dataframe tbody tr th:only-of-type {\n",
       "        vertical-align: middle;\n",
       "    }\n",
       "\n",
       "    .dataframe tbody tr th {\n",
       "        vertical-align: top;\n",
       "    }\n",
       "\n",
       "    .dataframe thead th {\n",
       "        text-align: right;\n",
       "    }\n",
       "</style>\n",
       "<table border=\"1\" class=\"dataframe\">\n",
       "  <thead>\n",
       "    <tr style=\"text-align: right;\">\n",
       "      <th></th>\n",
       "      <th>Quotes</th>\n",
       "      <th>Authors</th>\n",
       "      <th>Type of Quotes</th>\n",
       "    </tr>\n",
       "  </thead>\n",
       "  <tbody>\n",
       "    <tr>\n",
       "      <th>0</th>\n",
       "      <td>The essence of strategy is choosing what not t...</td>\n",
       "      <td>Michael Porter</td>\n",
       "      <td>Essence, Deep Thought, Transcendentalism</td>\n",
       "    </tr>\n",
       "    <tr>\n",
       "      <th>1</th>\n",
       "      <td>One cannot and must not try to erase the past ...</td>\n",
       "      <td>Golda Meir</td>\n",
       "      <td>Inspiration, Past, Trying</td>\n",
       "    </tr>\n",
       "    <tr>\n",
       "      <th>2</th>\n",
       "      <td>Patriotism means to stand by the country. It d...</td>\n",
       "      <td>Theodore Roosevelt</td>\n",
       "      <td>Country, Peace, War</td>\n",
       "    </tr>\n",
       "    <tr>\n",
       "      <th>3</th>\n",
       "      <td>Death is something inevitable. When a man has ...</td>\n",
       "      <td>Nelson Mandela</td>\n",
       "      <td>Inspirational, Motivational, Death</td>\n",
       "    </tr>\n",
       "    <tr>\n",
       "      <th>4</th>\n",
       "      <td>You have to love a nation that celebrates its ...</td>\n",
       "      <td>Erma Bombeck</td>\n",
       "      <td>4th Of July, Food, Patriotic</td>\n",
       "    </tr>\n",
       "    <tr>\n",
       "      <th>...</th>\n",
       "      <td>...</td>\n",
       "      <td>...</td>\n",
       "      <td>...</td>\n",
       "    </tr>\n",
       "    <tr>\n",
       "      <th>995</th>\n",
       "      <td>Regret for the things we did can be tempered b...</td>\n",
       "      <td>Sydney J. Harris</td>\n",
       "      <td>Love, Inspirational, Motivational</td>\n",
       "    </tr>\n",
       "    <tr>\n",
       "      <th>996</th>\n",
       "      <td>America... just a nation of two hundred millio...</td>\n",
       "      <td>Hunter S. Thompson</td>\n",
       "      <td>Gun, Two, Qualms About</td>\n",
       "    </tr>\n",
       "    <tr>\n",
       "      <th>997</th>\n",
       "      <td>For every disciplined effort there is a multip...</td>\n",
       "      <td>Jim Rohn</td>\n",
       "      <td>Inspirational, Greatness, Best Effort</td>\n",
       "    </tr>\n",
       "    <tr>\n",
       "      <th>998</th>\n",
       "      <td>The spiritual journey is individual, highly pe...</td>\n",
       "      <td>Ram Dass</td>\n",
       "      <td>Spiritual, Truth, Yoga</td>\n",
       "    </tr>\n",
       "    <tr>\n",
       "      <th>999</th>\n",
       "      <td>The mind is not a vessel to be filled but a fi...</td>\n",
       "      <td>Plutarch</td>\n",
       "      <td>Inspirational, Leadership, Education</td>\n",
       "    </tr>\n",
       "  </tbody>\n",
       "</table>\n",
       "<p>1000 rows × 3 columns</p>\n",
       "</div>"
      ],
      "text/plain": [
       "                                                Quotes             Authors  \\\n",
       "0    The essence of strategy is choosing what not t...      Michael Porter   \n",
       "1    One cannot and must not try to erase the past ...          Golda Meir   \n",
       "2    Patriotism means to stand by the country. It d...  Theodore Roosevelt   \n",
       "3    Death is something inevitable. When a man has ...      Nelson Mandela   \n",
       "4    You have to love a nation that celebrates its ...        Erma Bombeck   \n",
       "..                                                 ...                 ...   \n",
       "995  Regret for the things we did can be tempered b...    Sydney J. Harris   \n",
       "996  America... just a nation of two hundred millio...  Hunter S. Thompson   \n",
       "997  For every disciplined effort there is a multip...            Jim Rohn   \n",
       "998  The spiritual journey is individual, highly pe...            Ram Dass   \n",
       "999  The mind is not a vessel to be filled but a fi...            Plutarch   \n",
       "\n",
       "                               Type of Quotes  \n",
       "0    Essence, Deep Thought, Transcendentalism  \n",
       "1                   Inspiration, Past, Trying  \n",
       "2                         Country, Peace, War  \n",
       "3          Inspirational, Motivational, Death  \n",
       "4                4th Of July, Food, Patriotic  \n",
       "..                                        ...  \n",
       "995         Love, Inspirational, Motivational  \n",
       "996                    Gun, Two, Qualms About  \n",
       "997     Inspirational, Greatness, Best Effort  \n",
       "998                    Spiritual, Truth, Yoga  \n",
       "999      Inspirational, Leadership, Education  \n",
       "\n",
       "[1000 rows x 3 columns]"
      ]
     },
     "execution_count": 457,
     "metadata": {},
     "output_type": "execute_result"
    }
   ],
   "source": [
    "#Craeting Data Frame for top 1000 quotes\n",
    "df8=pd.DataFrame({'Quotes':quote,'Authors':author,'Type of Quotes':types})\n",
    "print(\"Top 1000 Quotes of All Time\")\n",
    "df8"
   ]
  },
  {
   "cell_type": "markdown",
   "id": "f89edc05",
   "metadata": {},
   "source": [
    "# Program 9"
   ]
  },
  {
   "cell_type": "code",
   "execution_count": 213,
   "id": "89573688",
   "metadata": {},
   "outputs": [],
   "source": [
    "#connecting the driver\n",
    "driver1=webdriver.Chrome(r\"C:\\Users\\maahi\\Downloads\\chromedriver_win32\\chromedriver.exe\")"
   ]
  },
  {
   "cell_type": "code",
   "execution_count": 214,
   "id": "9e31b76e",
   "metadata": {},
   "outputs": [],
   "source": [
    "#Opening the desired page\n",
    "driver1.get(\"https://www.jagranjosh.com/\")"
   ]
  },
  {
   "cell_type": "code",
   "execution_count": 219,
   "id": "ce7b4eb2",
   "metadata": {},
   "outputs": [],
   "source": [
    "#Opening the link\n",
    "link=driver1.find_element(By.XPATH,'//a[@href=\"https://www.jagranjosh.com/general-knowledge/list-of-all-prime-ministers-of-india-1473165149-1\"]').click()"
   ]
  },
  {
   "cell_type": "code",
   "execution_count": 350,
   "id": "d41cf681",
   "metadata": {},
   "outputs": [],
   "source": [
    "#Creating the attribute fields\n",
    "names=[]\n",
    "life=[]\n",
    "term=[]\n",
    "remark=[]\n",
    "info=[]"
   ]
  },
  {
   "cell_type": "code",
   "execution_count": null,
   "id": "6c3ec69e",
   "metadata": {},
   "outputs": [],
   "source": [
    "#Finding indiviadual attributes xpath, is creating either redundancy or providing no data"
   ]
  },
  {
   "cell_type": "code",
   "execution_count": 290,
   "id": "5fff4839",
   "metadata": {},
   "outputs": [],
   "source": [
    "table_data=driver1.find_elements(By.TAG_NAME,\"td\") \n",
    "for i in table_data:\n",
    "    inf=i.text\n",
    "    info.append(inf)"
   ]
  },
  {
   "cell_type": "code",
   "execution_count": 291,
   "id": "19f041f9",
   "metadata": {},
   "outputs": [
    {
     "data": {
      "text/plain": [
       "[['1.'],\n",
       " ['Jawahar Lal Nehru'],\n",
       " ['(1889–1964)'],\n",
       " ['15 August 1947 to 27 May 1964\\n', '16 years, 286 days'],\n",
       " ['The first prime minister of India and the longest-serving PM of India, the first to die in office.'],\n",
       " ['2.'],\n",
       " ['Gulzarilal Nanda (Acting)'],\n",
       " ['(1898-1998)'],\n",
       " ['27 May 1964 to 9 June 1964,\\n', '13 days'],\n",
       " ['First acting PM of India'],\n",
       " ['3.'],\n",
       " ['Lal Bahadur Shastri'],\n",
       " ['(1904–1966)'],\n",
       " ['9 June 1964 to 11 January 1966\\n', '1 year, 216 days'],\n",
       " [\"He has given the slogan of 'Jai Jawan Jai Kisan' during the Indo-Pak war of 1965\"],\n",
       " ['4. '],\n",
       " ['Gulzari Lal Nanda  (Acting)'],\n",
       " ['(1898-1998)'],\n",
       " ['11 January 1966 to 24 January 1966\\n', '13 days'],\n",
       " ['-'],\n",
       " ['5.'],\n",
       " ['Indira Gandhi'],\n",
       " ['(1917–1984)'],\n",
       " ['24 January 1966 to 24 March 1977\\n', '11 years, 59 days'],\n",
       " ['First female Prime Minister of India'],\n",
       " ['6.'],\n",
       " ['Morarji Desai'],\n",
       " ['(1896–1995)'],\n",
       " ['24 March 1977 to  28 July 1979 \\n', '2 year, 126 days'],\n",
       " ['Oldest to become PM (81 years old) and first to resign from office'],\n",
       " ['7.'],\n",
       " ['Charan Singh'],\n",
       " ['(1902–1987)'],\n",
       " ['28 July 1979 to 14 January 1980\\n', '170 days'],\n",
       " ['Only PM who did not face the Parliament'],\n",
       " ['8.'],\n",
       " ['Indira Gandhi'],\n",
       " ['(1917–1984)'],\n",
       " ['14 January 1980 to 31 October 1984\\n', '4 years, 291 days'],\n",
       " ['The first lady who served as PM for the second term'],\n",
       " ['9.'],\n",
       " ['Rajiv Gandhi'],\n",
       " ['(1944–1991)'],\n",
       " ['31 October 1984 to 2 December 1989\\n', '5 years, 32 days'],\n",
       " ['Youngest to become PM (40 years old)'],\n",
       " ['10.'],\n",
       " ['V. P. Singh'],\n",
       " ['(1931–2008)'],\n",
       " ['2 December 1989 to 10 November 1990\\n', '343 days'],\n",
       " ['First PM to step down after a vote of no confidence'],\n",
       " ['11.'],\n",
       " ['Chandra Shekhar'],\n",
       " ['(1927–2007)'],\n",
       " ['10 November 1990 to 21 June 1991\\n', '223 days'],\n",
       " ['He belongs to  Samajwadi Janata Party'],\n",
       " ['12.'],\n",
       " ['P. V. Narasimha Rao'],\n",
       " ['(1921–2004)'],\n",
       " ['21 June 1991 to 16 May 1996\\n', '4 years, 330 days'],\n",
       " ['First PM from south India'],\n",
       " ['13.'],\n",
       " ['Atal Bihari Vajpayee'],\n",
       " ['(1924- 2018)'],\n",
       " ['16 May 1996 to 1 June 1996\\n', '16 days'],\n",
       " ['PM for shortest tenure'],\n",
       " ['14.'],\n",
       " ['H. D. Deve Gowda'],\n",
       " ['(born 1933)'],\n",
       " ['1 June 1996 to 21 April 1997\\n', '324 days'],\n",
       " ['He belongs to  Janata Dal'],\n",
       " ['15.'],\n",
       " ['Inder Kumar Gujral'],\n",
       " ['(1919–2012)'],\n",
       " ['21 April 1997 to 19 March 1998 \\n', '332 days'],\n",
       " ['------'],\n",
       " ['16.'],\n",
       " ['Atal Bihari Vajpayee'],\n",
       " ['(1924-2018)'],\n",
       " ['19 March 1998 to 22 May 2004 \\n', '6 years, 64 days'],\n",
       " [' The first non-congress PM who completed a full term as PM'],\n",
       " ['17.'],\n",
       " ['Manmohan Singh'],\n",
       " ['(born 1932)'],\n",
       " ['22 May 2004 to 26 May 2014   \\n', '10 years, 4 days'],\n",
       " [' First Sikh PM'],\n",
       " ['18.'],\n",
       " ['Narendra Modi'],\n",
       " ['(born 1950)'],\n",
       " ['26 May 2014 - Present'],\n",
       " ['4th Prime Minister of India who served two consecutive tenures'],\n",
       " ['List of all Presidents of India'],\n",
       " ['List of Current Chief Ministers in India'],\n",
       " ['List of International Awards received by Narendra Modi'],\n",
       " ['List of Chief Ministers of Karnataka (1947-2021)']]"
      ]
     },
     "execution_count": 291,
     "metadata": {},
     "output_type": "execute_result"
    }
   ],
   "source": [
    "info_mod=[i.splitlines(True) for i in info]\n",
    "info_mod"
   ]
  },
  {
   "cell_type": "code",
   "execution_count": 351,
   "id": "716c83d2",
   "metadata": {},
   "outputs": [
    {
     "name": "stdout",
     "output_type": "stream",
     "text": [
      "['Jawahar Lal Nehru', 'Gulzarilal Nanda (Acting)', 'Lal Bahadur Shastri', 'Gulzari Lal Nanda  (Acting)', 'Indira Gandhi', 'Morarji Desai', 'Charan Singh', 'Indira Gandhi', 'Rajiv Gandhi', 'V. P. Singh', 'Chandra Shekhar', 'P. V. Narasimha Rao', 'Atal Bihari Vajpayee', 'H. D. Deve Gowda', 'Inder Kumar Gujral', 'Atal Bihari Vajpayee', 'Manmohan Singh', 'Narendra Modi']\n"
     ]
    }
   ],
   "source": [
    "\n",
    "for i in range(1,90,5):\n",
    "    names.append(info_mod[i][0])\n",
    "print(names)  "
   ]
  },
  {
   "cell_type": "code",
   "execution_count": 352,
   "id": "4d5e7853",
   "metadata": {},
   "outputs": [
    {
     "name": "stdout",
     "output_type": "stream",
     "text": [
      "['(1889–1964)', '(1898-1998)', '(1904–1966)', '(1898-1998)', '(1917–1984)', '(1896–1995)', '(1902–1987)', '(1917–1984)', '(1944–1991)', '(1931–2008)', '(1927–2007)', '(1921–2004)', '(1924- 2018)', '(born 1933)', '(1919–2012)', '(1924-2018)', '(born 1932)', '(born 1950)']\n"
     ]
    }
   ],
   "source": [
    "for i in range(2,91,5):\n",
    "    life.append(info_mod[i][0])\n",
    "print(life)  "
   ]
  },
  {
   "cell_type": "code",
   "execution_count": 353,
   "id": "55dffac7",
   "metadata": {},
   "outputs": [
    {
     "name": "stdout",
     "output_type": "stream",
     "text": [
      "['15 August 1947 to 27 May 1964', '27 May 1964 to 9 June 1964,', '9 June 1964 to 11 January 1966', '11 January 1966 to 24 January 1966', '24 January 1966 to 24 March 1977', '24 March 1977 to  28 July 1979 ', '28 July 1979 to 14 January 1980', '14 January 1980 to 31 October 1984', '31 October 1984 to 2 December 1989', '2 December 1989 to 10 November 1990', '10 November 1990 to 21 June 1991', '21 June 1991 to 16 May 1996', '16 May 1996 to 1 June 1996', '1 June 1996 to 21 April 1997', '21 April 1997 to 19 March 1998 ', '19 March 1998 to 22 May 2004 ', '22 May 2004 to 26 May 2014   ', '26 May 2014 - Present']\n"
     ]
    }
   ],
   "source": [
    "for i in range(3,93,5):\n",
    "    term.append(info_mod[i][0])\n",
    "    term=[i.replace('\\n','')for i in term]\n",
    "print(term)  "
   ]
  },
  {
   "cell_type": "code",
   "execution_count": 354,
   "id": "cff36b6d",
   "metadata": {},
   "outputs": [
    {
     "name": "stdout",
     "output_type": "stream",
     "text": [
      "['The first prime minister of India and the longest-serving PM of India, the first to die in office.', 'First acting PM of India', \"He has given the slogan of 'Jai Jawan Jai Kisan' during the Indo-Pak war of 1965\", '-', 'First female Prime Minister of India', 'Oldest to become PM (81 years old) and first to resign from office', 'Only PM who did not face the Parliament', 'The first lady who served as PM for the second term', 'Youngest to become PM (40 years old)', 'First PM to step down after a vote of no confidence', 'He belongs to  Samajwadi Janata Party', 'First PM from south India', 'PM for shortest tenure', 'He belongs to  Janata Dal', '------', ' The first non-congress PM who completed a full term as PM', ' First Sikh PM', '4th Prime Minister of India who served two consecutive tenures']\n"
     ]
    }
   ],
   "source": [
    "for i in range(4,94,5):\n",
    "    remark.append(info_mod[i][0])\n",
    "print(remark)  "
   ]
  },
  {
   "cell_type": "code",
   "execution_count": 356,
   "id": "e9dc8bd2",
   "metadata": {},
   "outputs": [
    {
     "name": "stdout",
     "output_type": "stream",
     "text": [
      "18 18 18 18\n"
     ]
    }
   ],
   "source": [
    "print(len(names),len(life),len(term),len(remark))"
   ]
  },
  {
   "cell_type": "code",
   "execution_count": 357,
   "id": "2884f4da",
   "metadata": {},
   "outputs": [
    {
     "name": "stdout",
     "output_type": "stream",
     "text": [
      "List of all the Prime Ministers of India from 1947-2021\n"
     ]
    },
    {
     "data": {
      "text/html": [
       "<div>\n",
       "<style scoped>\n",
       "    .dataframe tbody tr th:only-of-type {\n",
       "        vertical-align: middle;\n",
       "    }\n",
       "\n",
       "    .dataframe tbody tr th {\n",
       "        vertical-align: top;\n",
       "    }\n",
       "\n",
       "    .dataframe thead th {\n",
       "        text-align: right;\n",
       "    }\n",
       "</style>\n",
       "<table border=\"1\" class=\"dataframe\">\n",
       "  <thead>\n",
       "    <tr style=\"text-align: right;\">\n",
       "      <th></th>\n",
       "      <th>Name</th>\n",
       "      <th>Born_Dead</th>\n",
       "      <th>Term of Office</th>\n",
       "      <th>Remark</th>\n",
       "    </tr>\n",
       "  </thead>\n",
       "  <tbody>\n",
       "    <tr>\n",
       "      <th>0</th>\n",
       "      <td>Jawahar Lal Nehru</td>\n",
       "      <td>(1889–1964)</td>\n",
       "      <td>15 August 1947 to 27 May 1964</td>\n",
       "      <td>The first prime minister of India and the long...</td>\n",
       "    </tr>\n",
       "    <tr>\n",
       "      <th>1</th>\n",
       "      <td>Gulzarilal Nanda (Acting)</td>\n",
       "      <td>(1898-1998)</td>\n",
       "      <td>27 May 1964 to 9 June 1964,</td>\n",
       "      <td>First acting PM of India</td>\n",
       "    </tr>\n",
       "    <tr>\n",
       "      <th>2</th>\n",
       "      <td>Lal Bahadur Shastri</td>\n",
       "      <td>(1904–1966)</td>\n",
       "      <td>9 June 1964 to 11 January 1966</td>\n",
       "      <td>He has given the slogan of 'Jai Jawan Jai Kisa...</td>\n",
       "    </tr>\n",
       "    <tr>\n",
       "      <th>3</th>\n",
       "      <td>Gulzari Lal Nanda  (Acting)</td>\n",
       "      <td>(1898-1998)</td>\n",
       "      <td>11 January 1966 to 24 January 1966</td>\n",
       "      <td>-</td>\n",
       "    </tr>\n",
       "    <tr>\n",
       "      <th>4</th>\n",
       "      <td>Indira Gandhi</td>\n",
       "      <td>(1917–1984)</td>\n",
       "      <td>24 January 1966 to 24 March 1977</td>\n",
       "      <td>First female Prime Minister of India</td>\n",
       "    </tr>\n",
       "    <tr>\n",
       "      <th>5</th>\n",
       "      <td>Morarji Desai</td>\n",
       "      <td>(1896–1995)</td>\n",
       "      <td>24 March 1977 to  28 July 1979</td>\n",
       "      <td>Oldest to become PM (81 years old) and first t...</td>\n",
       "    </tr>\n",
       "    <tr>\n",
       "      <th>6</th>\n",
       "      <td>Charan Singh</td>\n",
       "      <td>(1902–1987)</td>\n",
       "      <td>28 July 1979 to 14 January 1980</td>\n",
       "      <td>Only PM who did not face the Parliament</td>\n",
       "    </tr>\n",
       "    <tr>\n",
       "      <th>7</th>\n",
       "      <td>Indira Gandhi</td>\n",
       "      <td>(1917–1984)</td>\n",
       "      <td>14 January 1980 to 31 October 1984</td>\n",
       "      <td>The first lady who served as PM for the second...</td>\n",
       "    </tr>\n",
       "    <tr>\n",
       "      <th>8</th>\n",
       "      <td>Rajiv Gandhi</td>\n",
       "      <td>(1944–1991)</td>\n",
       "      <td>31 October 1984 to 2 December 1989</td>\n",
       "      <td>Youngest to become PM (40 years old)</td>\n",
       "    </tr>\n",
       "    <tr>\n",
       "      <th>9</th>\n",
       "      <td>V. P. Singh</td>\n",
       "      <td>(1931–2008)</td>\n",
       "      <td>2 December 1989 to 10 November 1990</td>\n",
       "      <td>First PM to step down after a vote of no confi...</td>\n",
       "    </tr>\n",
       "    <tr>\n",
       "      <th>10</th>\n",
       "      <td>Chandra Shekhar</td>\n",
       "      <td>(1927–2007)</td>\n",
       "      <td>10 November 1990 to 21 June 1991</td>\n",
       "      <td>He belongs to  Samajwadi Janata Party</td>\n",
       "    </tr>\n",
       "    <tr>\n",
       "      <th>11</th>\n",
       "      <td>P. V. Narasimha Rao</td>\n",
       "      <td>(1921–2004)</td>\n",
       "      <td>21 June 1991 to 16 May 1996</td>\n",
       "      <td>First PM from south India</td>\n",
       "    </tr>\n",
       "    <tr>\n",
       "      <th>12</th>\n",
       "      <td>Atal Bihari Vajpayee</td>\n",
       "      <td>(1924- 2018)</td>\n",
       "      <td>16 May 1996 to 1 June 1996</td>\n",
       "      <td>PM for shortest tenure</td>\n",
       "    </tr>\n",
       "    <tr>\n",
       "      <th>13</th>\n",
       "      <td>H. D. Deve Gowda</td>\n",
       "      <td>(born 1933)</td>\n",
       "      <td>1 June 1996 to 21 April 1997</td>\n",
       "      <td>He belongs to  Janata Dal</td>\n",
       "    </tr>\n",
       "    <tr>\n",
       "      <th>14</th>\n",
       "      <td>Inder Kumar Gujral</td>\n",
       "      <td>(1919–2012)</td>\n",
       "      <td>21 April 1997 to 19 March 1998</td>\n",
       "      <td>------</td>\n",
       "    </tr>\n",
       "    <tr>\n",
       "      <th>15</th>\n",
       "      <td>Atal Bihari Vajpayee</td>\n",
       "      <td>(1924-2018)</td>\n",
       "      <td>19 March 1998 to 22 May 2004</td>\n",
       "      <td>The first non-congress PM who completed a ful...</td>\n",
       "    </tr>\n",
       "    <tr>\n",
       "      <th>16</th>\n",
       "      <td>Manmohan Singh</td>\n",
       "      <td>(born 1932)</td>\n",
       "      <td>22 May 2004 to 26 May 2014</td>\n",
       "      <td>First Sikh PM</td>\n",
       "    </tr>\n",
       "    <tr>\n",
       "      <th>17</th>\n",
       "      <td>Narendra Modi</td>\n",
       "      <td>(born 1950)</td>\n",
       "      <td>26 May 2014 - Present</td>\n",
       "      <td>4th Prime Minister of India who served two con...</td>\n",
       "    </tr>\n",
       "  </tbody>\n",
       "</table>\n",
       "</div>"
      ],
      "text/plain": [
       "                           Name     Born_Dead  \\\n",
       "0             Jawahar Lal Nehru   (1889–1964)   \n",
       "1     Gulzarilal Nanda (Acting)   (1898-1998)   \n",
       "2           Lal Bahadur Shastri   (1904–1966)   \n",
       "3   Gulzari Lal Nanda  (Acting)   (1898-1998)   \n",
       "4                 Indira Gandhi   (1917–1984)   \n",
       "5                 Morarji Desai   (1896–1995)   \n",
       "6                  Charan Singh   (1902–1987)   \n",
       "7                 Indira Gandhi   (1917–1984)   \n",
       "8                  Rajiv Gandhi   (1944–1991)   \n",
       "9                   V. P. Singh   (1931–2008)   \n",
       "10              Chandra Shekhar   (1927–2007)   \n",
       "11          P. V. Narasimha Rao   (1921–2004)   \n",
       "12         Atal Bihari Vajpayee  (1924- 2018)   \n",
       "13             H. D. Deve Gowda   (born 1933)   \n",
       "14           Inder Kumar Gujral   (1919–2012)   \n",
       "15         Atal Bihari Vajpayee   (1924-2018)   \n",
       "16               Manmohan Singh   (born 1932)   \n",
       "17                Narendra Modi   (born 1950)   \n",
       "\n",
       "                         Term of Office  \\\n",
       "0         15 August 1947 to 27 May 1964   \n",
       "1           27 May 1964 to 9 June 1964,   \n",
       "2        9 June 1964 to 11 January 1966   \n",
       "3    11 January 1966 to 24 January 1966   \n",
       "4      24 January 1966 to 24 March 1977   \n",
       "5       24 March 1977 to  28 July 1979    \n",
       "6       28 July 1979 to 14 January 1980   \n",
       "7    14 January 1980 to 31 October 1984   \n",
       "8    31 October 1984 to 2 December 1989   \n",
       "9   2 December 1989 to 10 November 1990   \n",
       "10     10 November 1990 to 21 June 1991   \n",
       "11          21 June 1991 to 16 May 1996   \n",
       "12           16 May 1996 to 1 June 1996   \n",
       "13         1 June 1996 to 21 April 1997   \n",
       "14      21 April 1997 to 19 March 1998    \n",
       "15        19 March 1998 to 22 May 2004    \n",
       "16        22 May 2004 to 26 May 2014      \n",
       "17                26 May 2014 - Present   \n",
       "\n",
       "                                               Remark  \n",
       "0   The first prime minister of India and the long...  \n",
       "1                            First acting PM of India  \n",
       "2   He has given the slogan of 'Jai Jawan Jai Kisa...  \n",
       "3                                                   -  \n",
       "4                First female Prime Minister of India  \n",
       "5   Oldest to become PM (81 years old) and first t...  \n",
       "6             Only PM who did not face the Parliament  \n",
       "7   The first lady who served as PM for the second...  \n",
       "8                Youngest to become PM (40 years old)  \n",
       "9   First PM to step down after a vote of no confi...  \n",
       "10              He belongs to  Samajwadi Janata Party  \n",
       "11                          First PM from south India  \n",
       "12                             PM for shortest tenure  \n",
       "13                          He belongs to  Janata Dal  \n",
       "14                                             ------  \n",
       "15   The first non-congress PM who completed a ful...  \n",
       "16                                      First Sikh PM  \n",
       "17  4th Prime Minister of India who served two con...  "
      ]
     },
     "execution_count": 357,
     "metadata": {},
     "output_type": "execute_result"
    }
   ],
   "source": [
    "#creating dataframe\n",
    "df9=pd.DataFrame({'Name':names,'Born_Dead':life,'Term of Office':term,'Remark':remark})\n",
    "print(\"List of all the Prime Ministers of India from 1947-2021\")\n",
    "df9"
   ]
  },
  {
   "cell_type": "markdown",
   "id": "eb286997",
   "metadata": {},
   "source": [
    "# Program 10"
   ]
  },
  {
   "cell_type": "code",
   "execution_count": 358,
   "id": "7c7bdb14",
   "metadata": {},
   "outputs": [],
   "source": [
    "#connecting the driver\n",
    "driver=webdriver.Chrome(r\"C:\\Users\\maahi\\Downloads\\chromedriver_win32\\chromedriver.exe\")"
   ]
  },
  {
   "cell_type": "code",
   "execution_count": 359,
   "id": "7140f511",
   "metadata": {},
   "outputs": [],
   "source": [
    "#Opening the desired page\n",
    "driver.get(\"https://www.motor1.com/\")"
   ]
  },
  {
   "cell_type": "code",
   "execution_count": 361,
   "id": "a37b8553",
   "metadata": {},
   "outputs": [],
   "source": [
    "list=driver.find_element(By.XPATH,'//a[@href=\"/features/category/lists/\"]').click()"
   ]
  },
  {
   "cell_type": "code",
   "execution_count": 362,
   "id": "7e9ab603",
   "metadata": {},
   "outputs": [],
   "source": [
    "choice_of_list=driver.find_element(By.XPATH,'//a[@href=\"/features/308149/most-expensive-new-cars-ever/\"]').click()"
   ]
  },
  {
   "cell_type": "code",
   "execution_count": 394,
   "id": "5e12ff08",
   "metadata": {},
   "outputs": [
    {
     "data": {
      "text/plain": [
       "['Drako GTE',\n",
       " 'De Tomaso P72',\n",
       " 'Ferrari LaFerrari',\n",
       " 'Pagani Huayra',\n",
       " 'McLaren Elva',\n",
       " 'Czinger 21C',\n",
       " 'Ferrari Monza',\n",
       " 'Gordon Murray T.33',\n",
       " 'Koenigsegg Gemera',\n",
       " 'Zenvo TSR-S',\n",
       " 'Hennessey Venom F5',\n",
       " 'Bentley Bacalar',\n",
       " 'Hispano Suiza Carmen Boulogne',\n",
       " 'Bentley Mulliner Batur',\n",
       " 'Deus Vayanne',\n",
       " 'SSC Tuatara',\n",
       " 'Lotus Evija',\n",
       " 'Aston Martin Vulcan',\n",
       " 'Delage D12',\n",
       " 'McLaren Speedtail',\n",
       " 'Rimac Nevera',\n",
       " 'Pagani Utopia',\n",
       " 'Pininfarina Battista',\n",
       " 'Ferrari FXX K Evo',\n",
       " 'Gordon Murray T.50',\n",
       " 'Lamborghini Countach',\n",
       " 'Mercedes-AMG Project One',\n",
       " 'Aston Martin Victor',\n",
       " 'Hennessey Venom F5 Roadster',\n",
       " 'Koenigsegg Jesko',\n",
       " 'Aston Martin Valkyrie',\n",
       " 'W Motors Lykan Hypersport',\n",
       " 'McLaren Solus',\n",
       " 'Pagani Huayra Roadster BC',\n",
       " 'Bugatti Chiron Pur Sport',\n",
       " 'Lamborghini Sian',\n",
       " 'Koenigsegg CC850',\n",
       " 'Bugatti Chiron Super Sport 300+',\n",
       " 'Lamborghini Veneno',\n",
       " 'Bugatti Bolide',\n",
       " 'Bugatti Mistral',\n",
       " 'Pagani Huayra Imola',\n",
       " 'Bugatti Divo',\n",
       " 'SP Automotive Chaos',\n",
       " 'Pagani Codalunga',\n",
       " 'Mercedes-Maybach Exelero',\n",
       " 'Bugatti Centodieci',\n",
       " 'Rolls-Royce Sweptail',\n",
       " 'Bugatti La Voiture Noire',\n",
       " 'Rolls-Royce Boat Tail*']"
      ]
     },
     "execution_count": 394,
     "metadata": {},
     "output_type": "execute_result"
    }
   ],
   "source": [
    "#scrapping data for car name\n",
    "cname=[]\n",
    "car_tag=driver.find_elements(By.CLASS_NAME,\"subheader\")\n",
    "for i in car_tag[0:50]:\n",
    "    car=i.text\n",
    "    cname.append(car)\n",
    "cname"
   ]
  },
  {
   "cell_type": "code",
   "execution_count": 387,
   "id": "1dcf2c9d",
   "metadata": {},
   "outputs": [],
   "source": [
    "#We have description of cars only in p_tag, so following the step_by_step approach\n",
    "desc_tag=driver.find_elements(By.TAG_NAME,\"p\")\n",
    "for i in desc_tag:\n",
    "    des=i.text\n",
    "    desc.append(des)"
   ]
  },
  {
   "cell_type": "code",
   "execution_count": 388,
   "id": "64ddc8aa",
   "metadata": {},
   "outputs": [
    {
     "data": {
      "text/plain": [
       "[['When it comes to high-end hypercars and super-fast supercars, a few companies should come to mind first: Bugatti, Ferrari, Koenigsegg, Rimac, and Pagani, among others. These manufacturers have cemented themselves as the top dogs in the supercar and hypercar space, extending to their wealthiest clientele the fastest, rarest, prettiest – and in this case – most expensive cars on the planet.'],\n",
       " [\"But in order to find out which of these unattainable-to-most vehicles is the priciest, we've scoured the invoice sheets and uncovered 40 cars all worth $1 million or more. The group includes hybrid Ferrari convertibles, an American speed king, a few electric Hypercars, and two a one-of-a-kind Rolls-Royce cars built for royalty.\"],\n",
       " ['We should note, though: The prices listed here are the price of the vehicles when new. So we’re not counting auction cars like the Ferrari 250 GTO, or overpriced secondhand sales. But don’t worry, there’s still hundreds of millions worth of cars here to whet your appetite.'],\n",
       " ['Price: $1.2 Million'],\n",
       " ['The Drako GTE is a super sedan in every sense of the word. Packing 1,200 horsepower and a whopping 6,491 pound-feet of torque from a fully electric powertrain, the GTE can hit 60 in just about 2.0 seconds and tops out at 206 miles per hour. The cost for this family-friendly rocket is a cool $1.2 million.'],\n",
       " ['Price: $1.3 Million'],\n",
       " ['The De Tomaso P72 is basically the definition of beautiful. The shapely supercar debuted at the 2019 Goodwood Festival Of Speed with a supercharged Ford V8 boasting 700 horsepower. The P72 marked the return of the DeTomaso brand after nearly 30 years on hiatus, and if you want one, it will cost you at least $1.3 million.'],\n",
       " ['Price: $1.4 Million'],\n",
       " ['At $1.4 million new, the Ferrari LaFerrari is actually one of the most affordable supercars on this list. It’s a bargain compared to the most expensive vehicle here. Debuting in 2013 with 950 hybrid horses (708 kilowatts) and a top speed of around 220 miles per hour (354 kilometers per hour), this is still Ferrari’s fastest and most powerful production model to date. The company built just 499 examples of the coupe between 2013 and 2016.'],\n",
       " ['Price: $1.4 Million'],\n",
       " ['Inarguably one of the prettiest cars on this list, the Pagani Huayra cost a cool $1.4 million when new. Like the LaFerrari, Pagani built the Huayra in extremely limited numbers. The company hand-constructed just 100 units of the coupe between 2012 and 2018, with another 20 versions of the BC model (which makes our list further down) between 2017 and 2019. Powering each and every example was a Mercedes-AMG V12 capable of 720 horsepower (537 kilowatts).'],\n",
       " ['Price: $1.7 Million'],\n",
       " ['The McLaren Elva is one of the latest additions to the British supercar maker’s storied legacy. Even without a proper windshield (though, no option) or roof to rely on, the Elva produces 804 horsepower and 590 pound-feet of torque from its twin-turbocharged 4.0-liter V8. Originally McLaren announced just 399 units, but later the company dropped that to an even more scarce 249 examples. Either way, most of you will never get your hands on one – the Elva costs $1.7 million.'],\n",
       " ['Price: $1.7 Million'],\n",
       " ['You might not know the name Czinger yet, but this California-based boutique automaker is responsible for the $1.7 million 21C supercar. With 1,250 horsepower on tap thanks to a 2.9-liter twin-turbocharged V8, the 21C can rocket to 60 miles per hour in 1.9 seconds and a top speed of around 281 miles per hour.'],\n",
       " ['Price: $1.7 Million'],\n",
       " ['Much like the roof-less McLaren Elva, the Ferrari Monza SP1 and SP2 are all about al fresco motoring. As the name implies, the SP1 is the single-seater option while the SP2 has just enough room for you to bring along a friend. Both cars come powered by the same naturally aspirated 6.5-liter V12 engine capable of 809 horsepower and 530 pound-feet. Unfortunately for US buyers, neither of these models are street legal in the States. But f you have the funds to afford the car’s $1.75 million price tag, getting onto a track probably won’t be an issue anyway.'],\n",
       " ['Price: $1.7 Million'],\n",
       " [\"The second and slightly more affordable supercar in the new Gordon Murray lineup is the T.33. With 607 horsepower courtesy of a naturally aspirated 3.9-liter V12, the T.33 revs to a ridiculous 10,500 RPM. With a price tag of around $1.7 million at current conversion rates, Gordon Murray automotive promises to sell this car globally, in both right- and left-hand-drive configurations. Too bad it's already sold out.\"],\n",
       " ['Price: $1.7 Million'],\n",
       " ['One of two Koenigsegg models on this list, the Gemera is actually the Swedish supercar maker’s first four-seater. But that doesn’t mean it’s some family car. With a twin-turbocharged 2.0-liter engine under the hood and three electric motors, the Gemera has 1,700 horsepower and will hit 60 in just 1.9 seconds. The company only plans to build 300 of them, each one costing at least $1.7 million.'],\n",
       " ['Price: $1.7 Million'],\n",
       " ['Hailing from Denmark, the Zenvo TSR-S debuted in 2018 at the Geneva Motor Show as the most extreme option in the supercar startup’s repertoire. Boasting a twin-charged 5.8-liter V8 engine, the TSR-S produces 1,177 horsepower and will hit 62 miles per hour in just 2.8 seconds. Expect to pay at least $1.7 million to get your hands on this powerful and limited supercar.'],\n",
       " ['Price: $1.8 Million'],\n",
       " ['The Hennessey Venom GT was a record-breaker, topping out at 265.7 miles per hour in a world record run. But the new F5 plans to beat its predecessor with an estimated top speed of 311 mph, and with that comes a higher price, too. The Venom F5 starts at $1.8 million, according to the company, which makes it just a bit pricier than its $1.2-million predecessor.'],\n",
       " ['Price: $1.9 Million'],\n",
       " ['With just 12 total units produced, the Bentley Bacalar makes some of the \"limited\" cars on this list look plentiful by comparison. Although the car’s opulent design may be the first thing to grab your attention, the Bacalar is no slouch in terms of performance either. With Bentley’s signature turbocharged 6.0-liter W12 turbocharged engine, this car delivers 650 horsepower and 664 pound-feet. If you have a spare $1.9 million lying around and are considering buying one, you’re already too late – Bentley says that every example is now in customer hands.'],\n",
       " ['Price: $1.9 Million'],\n",
       " [\"To call the Hispano Suiza Carmen Boulogne beautiful would be... a stretch. But this interesting-looking supercar made its US debut at this year's Amelia Island Concours d'Elegance boasting a 1,114-horsepower electric powertrain and a 0-60 time of 2.6 seconds. The Boulogne version pictured here – the lighter and more powerful of the two – costs close to $1.9 million.\"],\n",
       " ['Price: $2.0 Million'],\n",
       " [\"The electric onslaught is coming. Bentley says it will be a fully electric automaker by 2030. But before the luxury brand transitions to battery power fully, the Mulliner Batur helps send the iconic W12 engine off in style. With 710 horsepower from that twin-turbocharged engine, the Batur is the most powerful Bentley ever. And since it's limited to just 18 examples globally, the Batur costs a whopping $2.0 million.\"],\n",
       " ['Price: $2.0 Million'],\n",
       " ['The Deus Vayanne may not be a household name (yet), but the all-electric hypercar debuted earlier this year with 2,200 horsepower, a 0-60 time of just under 2.0 seconds, and an estimated top speed of 248 miles per hour. Deus plans to build 99 examples of the Vayanne, with the first few examples scheduled to go on sale in 2025.'],\n",
       " ['Price: $2.0 Million*'],\n",
       " ['Although initially cloaked in controversy, SSC did manage to hit 282.9 miles per hour with its Tuatara hypercar, breaking a world record. But not only is the Tuatara one of the fastest vehicles on the planet, it’s also one of the priciest. The cost for all that speed is estimated to be around $2.0 million for the base Tuatara, limited to just 100 units worldwide.'],\n",
       " ['Price: $2.1 Million'],\n",
       " ['With a new Emira sports car and an Eletre electric SUV, Lotus is on the brink of a comeback. The automaker plans to roll out a number of new products within the next few years, with part of that strategy including the range-topping Evija. This supercar comes in at a cool $2.1 million and produces nearly 2,000 horsepower via four electric motors. Lotus plans to build just 130 road-going examples of the Evija.'],\n",
       " ['Price: $2.3 Million'],\n",
       " ['As with a few other cars on this list, the Aston Martin Vulcan was a track-only special. The British supercar made its world debut in 2015, powered by a naturally aspirated 7.0-liter V12 that produced 820 horsepower, and limited to just 24 examples worldwide. An even more track-focused AMR Pro model followed, but even the base Vulcan was a pricey commodity, costing about $2.4-million from the factory.'],\n",
       " ['Price: $2.3 Million'],\n",
       " ['You may have heard of Delage before. In the early 1900s, this French automaker was competing on the track with Bugatti and Ferrari. Now Delage is back and with a beautiful new hypercar dubbed the D12. Powered by a 7.6-liter V12 engine, the new D12 produces upwards of 1,010 horsepower and costs a cool $2.3 million.'],\n",
       " ['Price: $2.3 Million'],\n",
       " [\"What would you pay for the fastest production McLaren ever? Well, at least $2.3 million. With 1,035 horsepower courtesy of a gasoline-electric hybrid V8 powertrain, the Speedtail tops out at 250 miles per hour and is able to reach 186 mph in just 12.8 seconds – 2.7 seconds faster than the P1. Unfortunately, if you didn't get your hands on one new in 2020, you'll have to shell out serious cash on the used market. McLaren only built 106 examples.\"],\n",
       " ['Price: $2.4 Million'],\n",
       " ['The Rimac Nevera takes the title of most expensive EV with its $2.4 million price tag – but only by a few hundred thousand dollars over the next priciest electric supercar. Packing 1,914 horsepower and 1,740 pound-feet of torque, the Nevera can hit 60 in under 2.0 seconds and will continue on to a top speed of 258 miles per hour. Those lucky enough to order one should see it in their driveway before the end of 2022.'],\n",
       " ['Price: $2.5 Million'],\n",
       " ['First came the Zonda, then the Huayra, and now the Pagani Utopia. With 852 horsepower and an available seven-speed manual gearbox, the Utopia is the most powerful road-going Pagani ever produced and it’s limited to just 99 examples worldwide. The cost for one is a cool $2.5 million.'],\n",
       " ['Price: $2.5 Million'],\n",
       " ['Aptly named after the company’s founder, Battista Farina, the Pininfarina Battista delivers the kind of performance (and price!) to make its namesake proud. Revealed at the 2019 Geneva Motor Show, the Battista is completely electric, putting out 1,827 horsepower. If a normal supercar’s 0 to 60 time sounds too leisurely for you, the company says that the Battista will take you there in under 2.0 seconds. Pininfarina plans on building 150 examples of the Battista, costing $2.5 million each.'],\n",
       " ['Price: $2.6 Million'],\n",
       " [\"Sure, you could buy a normal LaFerrari (which also makes the list further down), but why settle for a supercar so mundane when you can take home this track-only version instead? Granted, the Ferrari FXX K Evo came out in 2017, and it's well past the point of being sold out. But when it was new, this 1,036-horsepower Ferrari tore up the track with its naturally aspirated V12 and aggressive aerodynamics.\"],\n",
       " ['Price: $2.6 Million'],\n",
       " [\"If the name Gordon Murray sounds familiar, it’s because he's the man behind the design of the iconic McLaren F1. These days, Mr. Murray has his own supercar venture, and the handsome T.50 is the crown jewel of the lineup. At $2.6 million, the T.50 packs a naturally aspirated 4.0-liter V12 that makes 654 horsepower. The car itself weighs a mere 2,174 pounds, and at 392 pounds, the T.50 has the lightest V12 on the road today.\"],\n",
       " ['Price: $2.6 Million'],\n",
       " [\"The name Countach may be iconic, but is it worth $2.6 million? That's what Lamborghini hopes you will spend on its new Aventador-based model. Debuting in August of 2021, the Countach LPI 800-4 has a 6.5-liter V12 with a light hybrid assist that gives it a whopping 803 horsepower, allowing for a 60 time of 2.8 seconds and a top speed of more than 220 miles per hour.\"],\n",
       " ['Price: $2.7 Million'],\n",
       " ['Mercedes has promised a production version of the Project One hypercar for quite a while now. The first official announcement was in March of 2017 before the first concept debuted later that same year. But after nearly five years of teasing, it appears as if the Project One will finally hit public roads. And when it does, the hybrid hypercar will have over 1,200 horsepower (895 kilowatts) and a price tag of $2.7 million.'],\n",
       " ['Price: $3.0 Million'],\n",
       " ['The folks at Aston Martin know a thing or two about exclusive vehicles, and the Victor might be the most exclusive project for the British brand to date. Based on the One-77 platform, the Victor uses parts from several donor Astons including the track project Vulcan and the upcoming Valkyrie. And talking about limited production – the Victor is one-of-one and rumored to cost nearly $3 million.'],\n",
       " ['$3.0 Million'],\n",
       " ['The same Hennessey Venom F5 hypercar we all know and love, but with less roof. The F5 Roadster has the same twin-turbocharged 6.6-liter V8 as the coupe, producing the same 1,817 horsepower and 1,193 pound-feet of torque. Hennessey estimates a top speed of over 300 miles per hour, but if you want one, it will cost you at least $3.0 million.'],\n",
       " ['Price: $3.0 Million'],\n",
       " [\"The Koenigsegg Jesko, apart from being the fastest car the company has made to date, is also the most expensive. At $3.0 million out of the box, the handsome hypercar has 1,600-horsepower courtesy of the brand's ubiquitous twin-turbocharged 5.0-liter V8 engine. Opt for the Absolut model, and the Jesko, in theory, will be able to hit 300 miles per hour.\"],\n",
       " ['Price: $3.2 Million'],\n",
       " ['The upcoming Aston Martin hybrid hypercar hasn’t even hit the market yet, but already the $3.2 million Valkyrie has sold out. For what it’s worth, Aston Martin hasn’t officially released pricing. Estimates suggest the hypercar could go for anywhere between $2.6 and $3.9 million – but $3.2 million seems to be the magic number. Whatever the case, this machine is impressive. Its Cosworth-sourced 6.5-liter V12 produces 1,160 horsepower (865 kilowatts) and 664 pound-feet (900 Newton-meters) of torque, meaning its top speed should be well over 200 miles per hour (321 kilometers per hour). The company will build just 150 examples of the standard Valkyrie, with a limited 25-run AMR model arriving later.'],\n",
       " ['Price: $3.4 Million'],\n",
       " [\"Dubai-based W Motors shocked the world with its edgy Lykan Hypersport supercar in 2013. With titanium LED headlights housing 420 15-carat diamonds and a holographic display in the center console, it's no surprise it was the third most expensive car ever when new. It falls to number six on our list here, but it's still a wild hypercar with a powerful heart; the twin-turbocharged 3.7-liter six-cylinder engine underhood produces 780 horsepower (581 kilowatts) and 708 (960 Newton-meters) of torque.\"],\n",
       " ['$3.5 Million'],\n",
       " ['One seat, 829 horsepower, and a top speed of over 200 miles per hour. The new McLaren Solus is about as close as you can get to a Formula 1 car from the factory, powered by a naturally aspirated 5.2-liter V10 engine with a 0-62 mile-per-hour time of just 2.5 seconds. Estimates suggest a McLaren Solus will set you back about $3.5 million.'],\n",
       " ['Price: $3.5 Million'],\n",
       " ['Following Pagani’s past playbook, a roadster version of the ferocious Huayra BC was inevitable. Last year, the company made it official by showing off the Huayra Roadster BC, a topless monster with 800 horsepower (597 kilowatts) and 774 lb-ft of torque (1049 Newton-meters). Somewhat surprisingly, Pagani gave the roadster 50 more horsepower than its coupe sibling, by cranking up its AMG-sourced twin-turbocharged 6.0-liter V12. In addition to the joy of hearing the glorious engine note without a roof in the way, owners should take comfort in knowing that their car is ultra-rare. Pagani is limiting production to just 40 units, each with a sticker price of $3.5 million.'],\n",
       " ['Price: $3.6 Million'],\n",
       " ['Another showstopper from the Geneva Motor Show that never was, the Bugatti Chiron Pur Sport is a special edition Chiron with a focus on aerodynamics, weight reduction, and power distribution. It’s the same 8.0-liter quad-turbo W16 engine underneath the skin but it’s now mated to a recalibrated automatic gearbox. While the peak output remains unchanged at 1,500 horsepower (1,103 kilowatts), the rpm redline has been set 200 rpm higher, up to 6,900 rpm. The Pur Sport also features slightly revised bodywork, with a bigger rear wing and more aerodynamic front fascia. Beginning production in late 2020, the Bugatti starts at $3.6 million.'],\n",
       " ['Price: $3.6 million'],\n",
       " ['In several ways, the Sian represents a bridge to Lamborghini’s future. Though it’s based on the Aventador SVJ, this wild-looking Lambo is the brand’s first production electrified offering. In addition to the SVJ-sourced 6.5-liter V12, the Sian uses a 48-volt mild-hybrid system. Total system output is 819 horsepower (611 kilowatts), which also makes it the most powerful Lamborghini ever. As confirmed by the 63 stuck on either side of the Sian’s wing, Lamborghini will produce just 63 units. And each will cost far more than the Aventador SVJ, carrying a price of $3.6 million.'],\n",
       " ['Price: $3.7 Million'],\n",
       " ['The Koenigsegg CC850 was a surprise to be sure, but a welcomed one. Borrowing the twin-turbocharged 5.0-liter V8 from the Jesko, it notches that output up to 1,385 horsepower and 1,022 pound-feet of torque, with a so-called “TWMPAFMPC” transmission that shifts (pun intended) between manual and automatic functions. Of course, all that performance technology will cost you; the CC850 starts at $3.7 million.'],\n",
       " ['Price: $3.9 Million'],\n",
       " ['Earlier this year, Bugatti captured the collective attention of the automotive world by announcing that it broke the 300 miles per hour barrier with a modified version of the Chiron. The Super Sport 300 + is a road-going version of that car, meant to celebrate the occasion. Limited to just 30 units, the Super Sport 300+ is a beautiful version of the Chiron, with flowing, slippery bodywork and a sweet stripe motif. Even with 300 in the name, Bugatti is limiting the top speed of each car to \"just\" 277 mph. Production starts this year.'],\n",
       " ['Price: $4.5 Million'],\n",
       " [\"Lamborghini built just 14 examples of the Aventador-based Veneno between 2014 and 2015. Each one cost around $4.5 million, depending on how it was spec'd, and was available in both convertible and coupe configurations. Underhood Lamborghini fitted a more-powerful iteration of the Aventador's 6.5-liter V12, now producing 740 horsepower (552 kilowatts) and 509 pound-feet (609 Newton-meters) of torque, which gave it the ability to sprint to 60 miles per hour (96 kilometers per hour) in a blistering 2.9 seconds. To date, it’s the most expensive new Lamborghini ever.\"],\n",
       " ['Price: $4.7 Million'],\n",
       " [\"Produced in extremely limited numbers atop the body of a Chiron, it's no wonder Bugatti's one-of-40 Bolide track car is this pricey. At $4.7 million, the 1,824-horsepower hypercar has more power than the Chiron Super Sport 300+, and more extreme bodywork that allow it to lap tracks like the Nurburgring in record time (in theory). Bugatti says the Bolide would be able to conquer the ‘Ring in record time.\"],\n",
       " ['Price: $5.0 Million'],\n",
       " ['The Bugatti Mistral sends the iconic W16 engine off in style. With 1,577 horsepower and no roof, the Mistral takes the best bits of the Chiron and borrows elements from the Bolide and Divo to create a truly unique roadster. Of course, Bugatti plans to build just 99 examples of the Mistral at the cost of around $5.0 million in the US – and all of them are already accounted for.'],\n",
       " ['Price: $5.4 Million'],\n",
       " ['Even though the new Utopia marks the next big step for Pagani, the Huayra Imola packs nearly as much power with a twin-turbocharged 6.0-liter V12 engine producing 827 horsepower and 811 pound-feet of torque. The Huayra Imola is estimated to cost around $5.4 million new, which would make it the second most expensive Pagani of all time.'],\n",
       " ['Price: $5.8 Million'],\n",
       " ['Among Bugatti’s recently debuted vehicles, the Divo is a staff favorite. Though it shares much in common with its cheaper (!) sibling the Chiron, the Divo has a lot going for it to justify the extra money. By adding lighter wheels, a carbon fiber intercooler and removing some sound deadening, Bugatti made the Divo 77 pounds lighter than the Chiron. Though power is unchanged from the Chiron’s 1,500 ponies (1,119 kilowatts), The Divo features a different aerodynamic setup, which makes it 8 seconds quicker around the Nardo test track. Finally, the moment you’ve been waiting for: Bugatti is making 40 examples of the car, each costing $5.8 million.'],\n",
       " ['Price: $6.4 Million'],\n",
       " [\"SP Automotive (short for Spyros Panopoulos) is a new name in the world of hypercars, but the brand's 2,000-horsepower, $6.4-million, aptly named Chaos has already made an impact. With a twin-turbocharged 4.0-liter V10, the base SP Automotive Chaos is one of the most expensive cars on this list – beating out many Lambos and Bugattis – but there's an even pricier version of this car that costs an eye-watering $14.4 million. That version reportedly packs 3,000 hp.\"],\n",
       " ['Price: $7.4 Million'],\n",
       " ['The long list of pricey (new) Paganis ends with the Codualunga. Inspired by 1960s Italian coachbuilding, the stunning exterior and steampunk-esque interior – while equally stunning – are only part of what makes this Pagani so pricey. Under the hood is a twin-turbocharged 6.0-liter V12 producing 829 horsepower and 809 pound-feet of torque, paired to a seven-speed sequential transmission for a real race-car–like feel. The cost for this one-of-five Pagani is $7.4 million.'],\n",
       " ['Price: $8.0 Million'],\n",
       " [\"Like many others before it, the Mercedes-Benz Maybach Exelero is a one-off. Commissioned by Fulda, a German subsidiary of Goodyear, to test its new tires, the Exlero debuted in 2004. Mercedes built the Exelero on the bones of a Maybach, and gave it the same twin-turbo V12 engine producing 690 horsepower (510 kilowatts) and 752 pound-feet (1,020 Newton-meters) of torque. Top speed is listed at 218 miles per hour (350 kilometers per hour) and adjusted for inflation, the Exelero would cost more than $10 million in today's money.\"],\n",
       " ['Price: $9.0 Million'],\n",
       " ['Bugatti debuted the Centodieci at last year’s Pebble Beach car week, showing off yet another ultra-rare, super-expensive model to the world. Limited to just 10 – dieci – units, the car is a modern throwback to the Bugatti EB110. At the same time, it’s meant to celebrate Bugatti’s momentous 110-year anniversary. Its unique styling cues won’t make everyone fall in love, but at least you won’t have to worry about seeing another one on the road. Carrying a price just shy of $9 million, the Centodiece is one of the most exclusive cars ever made.'],\n",
       " ['Price: $12.8 Million'],\n",
       " [\"Rolls-Royce, expectedly, takes two of the top three spots on this list, with the stunning Sweptail one-off from 2017 coming in at number three. With a monumental price tag of $13.0 million, it was, at the time of its debut, the most expensive new car ever. It's been outpriced since then, but the 453-horsepower luxury car is still a jaw-dropper.\"],\n",
       " ['Price: $13.4 Million'],\n",
       " [\"With a price tag of $13.4 million, the one-off Bugatti La Voiture Noire is officially the most expensive new Bugatti ever made. And understandably so. A modern interpretation of Jean Bugatti's personal Type 57 SC Atlantic, the La Voiture Noire uses the same quad-turbocharged 8.0-liter W16 engine as the Chiron, producing 1,479 horsepower. It has six – that's right, six exhaust tips, radical new wheels, an aggressive, bespoke fascia, and a gigantic light-up badge in the rear that spells out the name of the brand. Of course, this one-of-one Bugatti already has a home.\"],\n",
       " ['Price: $28.0 Million (est.)'],\n",
       " ['Rolls-Royce is back in the business of coachbuilding with the gorgeous new Boat Tail. A successor to the stunning Sweptail from 2017 – which itself cost a reported $12.8 million – the Boat Tail has a unique two-tone exterior, custom high-end finishes inside, and even a \"hosting suite\" complete with a champagne fridge and built-in sun umbrella. Although Rolls-Royce doesn’t officially announce pricing for one-off builds such as this, rumor has it that the Boat Tail cost a whopping $28.0 million new.'],\n",
       " ['What Is The Most Expensive Car In The World?'],\n",
       " ['What Is The Most Expensive Car Ever Sold?'],\n",
       " ['What Is The Most Valuable Car Brand?'],\n",
       " ['As of 2022, Tesla is still the world’s most valuable car brand with a valuation of $694 billion. Toyota, at second, has a valuation of $216 billion but outsells Tesla by a significant margin globally.'],\n",
       " ['TRENDING'],\n",
       " ['ABOUT THIS ARTICLE'],\n",
       " ['When it comes to high-end hypercars and super-fast supercars, a few companies should come to mind first: Bugatti, Ferrari, Koenigsegg, Rimac, and Pagani, among others. These manufacturers have cemented themselves as the top dogs in the supercar and hypercar space, extending to their wealthiest clientele the fastest, rarest, prettiest – and in this case – most expensive cars on the planet.'],\n",
       " [\"But in order to find out which of these unattainable-to-most vehicles is the priciest, we've scoured the invoice sheets and uncovered 40 cars all worth $1 million or more. The group includes hybrid Ferrari convertibles, an American speed king, a few electric Hypercars, and two a one-of-a-kind Rolls-Royce cars built for royalty.\"],\n",
       " ['We should note, though: The prices listed here are the price of the vehicles when new. So we’re not counting auction cars like the Ferrari 250 GTO, or overpriced secondhand sales. But don’t worry, there’s still hundreds of millions worth of cars here to whet your appetite.'],\n",
       " ['Price: $1.2 Million'],\n",
       " ['The Drako GTE is a super sedan in every sense of the word. Packing 1,200 horsepower and a whopping 6,491 pound-feet of torque from a fully electric powertrain, the GTE can hit 60 in just about 2.0 seconds and tops out at 206 miles per hour. The cost for this family-friendly rocket is a cool $1.2 million.'],\n",
       " ['Price: $1.3 Million'],\n",
       " ['The De Tomaso P72 is basically the definition of beautiful. The shapely supercar debuted at the 2019 Goodwood Festival Of Speed with a supercharged Ford V8 boasting 700 horsepower. The P72 marked the return of the DeTomaso brand after nearly 30 years on hiatus, and if you want one, it will cost you at least $1.3 million.'],\n",
       " ['Price: $1.4 Million'],\n",
       " ['At $1.4 million new, the Ferrari LaFerrari is actually one of the most affordable supercars on this list. It’s a bargain compared to the most expensive vehicle here. Debuting in 2013 with 950 hybrid horses (708 kilowatts) and a top speed of around 220 miles per hour (354 kilometers per hour), this is still Ferrari’s fastest and most powerful production model to date. The company built just 499 examples of the coupe between 2013 and 2016.'],\n",
       " ['Price: $1.4 Million'],\n",
       " ['Inarguably one of the prettiest cars on this list, the Pagani Huayra cost a cool $1.4 million when new. Like the LaFerrari, Pagani built the Huayra in extremely limited numbers. The company hand-constructed just 100 units of the coupe between 2012 and 2018, with another 20 versions of the BC model (which makes our list further down) between 2017 and 2019. Powering each and every example was a Mercedes-AMG V12 capable of 720 horsepower (537 kilowatts).'],\n",
       " ['Price: $1.7 Million'],\n",
       " ['The McLaren Elva is one of the latest additions to the British supercar maker’s storied legacy. Even without a proper windshield (though, no option) or roof to rely on, the Elva produces 804 horsepower and 590 pound-feet of torque from its twin-turbocharged 4.0-liter V8. Originally McLaren announced just 399 units, but later the company dropped that to an even more scarce 249 examples. Either way, most of you will never get your hands on one – the Elva costs $1.7 million.'],\n",
       " ['Price: $1.7 Million'],\n",
       " ['You might not know the name Czinger yet, but this California-based boutique automaker is responsible for the $1.7 million 21C supercar. With 1,250 horsepower on tap thanks to a 2.9-liter twin-turbocharged V8, the 21C can rocket to 60 miles per hour in 1.9 seconds and a top speed of around 281 miles per hour.'],\n",
       " ['Price: $1.7 Million'],\n",
       " ['Much like the roof-less McLaren Elva, the Ferrari Monza SP1 and SP2 are all about al fresco motoring. As the name implies, the SP1 is the single-seater option while the SP2 has just enough room for you to bring along a friend. Both cars come powered by the same naturally aspirated 6.5-liter V12 engine capable of 809 horsepower and 530 pound-feet. Unfortunately for US buyers, neither of these models are street legal in the States. But f you have the funds to afford the car’s $1.75 million price tag, getting onto a track probably won’t be an issue anyway.'],\n",
       " ['Price: $1.7 Million'],\n",
       " [\"The second and slightly more affordable supercar in the new Gordon Murray lineup is the T.33. With 607 horsepower courtesy of a naturally aspirated 3.9-liter V12, the T.33 revs to a ridiculous 10,500 RPM. With a price tag of around $1.7 million at current conversion rates, Gordon Murray automotive promises to sell this car globally, in both right- and left-hand-drive configurations. Too bad it's already sold out.\"],\n",
       " ['Price: $1.7 Million'],\n",
       " ['One of two Koenigsegg models on this list, the Gemera is actually the Swedish supercar maker’s first four-seater. But that doesn’t mean it’s some family car. With a twin-turbocharged 2.0-liter engine under the hood and three electric motors, the Gemera has 1,700 horsepower and will hit 60 in just 1.9 seconds. The company only plans to build 300 of them, each one costing at least $1.7 million.'],\n",
       " ['Price: $1.7 Million'],\n",
       " ['Hailing from Denmark, the Zenvo TSR-S debuted in 2018 at the Geneva Motor Show as the most extreme option in the supercar startup’s repertoire. Boasting a twin-charged 5.8-liter V8 engine, the TSR-S produces 1,177 horsepower and will hit 62 miles per hour in just 2.8 seconds. Expect to pay at least $1.7 million to get your hands on this powerful and limited supercar.'],\n",
       " ['Price: $1.8 Million'],\n",
       " ['The Hennessey Venom GT was a record-breaker, topping out at 265.7 miles per hour in a world record run. But the new F5 plans to beat its predecessor with an estimated top speed of 311 mph, and with that comes a higher price, too. The Venom F5 starts at $1.8 million, according to the company, which makes it just a bit pricier than its $1.2-million predecessor.'],\n",
       " ['Price: $1.9 Million'],\n",
       " ['With just 12 total units produced, the Bentley Bacalar makes some of the \"limited\" cars on this list look plentiful by comparison. Although the car’s opulent design may be the first thing to grab your attention, the Bacalar is no slouch in terms of performance either. With Bentley’s signature turbocharged 6.0-liter W12 turbocharged engine, this car delivers 650 horsepower and 664 pound-feet. If you have a spare $1.9 million lying around and are considering buying one, you’re already too late – Bentley says that every example is now in customer hands.'],\n",
       " ['Price: $1.9 Million'],\n",
       " [\"To call the Hispano Suiza Carmen Boulogne beautiful would be... a stretch. But this interesting-looking supercar made its US debut at this year's Amelia Island Concours d'Elegance boasting a 1,114-horsepower electric powertrain and a 0-60 time of 2.6 seconds. The Boulogne version pictured here – the lighter and more powerful of the two – costs close to $1.9 million.\"],\n",
       " ['Price: $2.0 Million'],\n",
       " [\"The electric onslaught is coming. Bentley says it will be a fully electric automaker by 2030. But before the luxury brand transitions to battery power fully, the Mulliner Batur helps send the iconic W12 engine off in style. With 710 horsepower from that twin-turbocharged engine, the Batur is the most powerful Bentley ever. And since it's limited to just 18 examples globally, the Batur costs a whopping $2.0 million.\"],\n",
       " ['Price: $2.0 Million'],\n",
       " ['The Deus Vayanne may not be a household name (yet), but the all-electric hypercar debuted earlier this year with 2,200 horsepower, a 0-60 time of just under 2.0 seconds, and an estimated top speed of 248 miles per hour. Deus plans to build 99 examples of the Vayanne, with the first few examples scheduled to go on sale in 2025.'],\n",
       " ['Price: $2.0 Million*'],\n",
       " ['Although initially cloaked in controversy, SSC did manage to hit 282.9 miles per hour with its Tuatara hypercar, breaking a world record. But not only is the Tuatara one of the fastest vehicles on the planet, it’s also one of the priciest. The cost for all that speed is estimated to be around $2.0 million for the base Tuatara, limited to just 100 units worldwide.'],\n",
       " ['Price: $2.1 Million'],\n",
       " ['With a new Emira sports car and an Eletre electric SUV, Lotus is on the brink of a comeback. The automaker plans to roll out a number of new products within the next few years, with part of that strategy including the range-topping Evija. This supercar comes in at a cool $2.1 million and produces nearly 2,000 horsepower via four electric motors. Lotus plans to build just 130 road-going examples of the Evija.'],\n",
       " ['Price: $2.3 Million'],\n",
       " ['As with a few other cars on this list, the Aston Martin Vulcan was a track-only special. The British supercar made its world debut in 2015, powered by a naturally aspirated 7.0-liter V12 that produced 820 horsepower, and limited to just 24 examples worldwide. An even more track-focused AMR Pro model followed, but even the base Vulcan was a pricey commodity, costing about $2.4-million from the factory.'],\n",
       " ['Price: $2.3 Million'],\n",
       " ['You may have heard of Delage before. In the early 1900s, this French automaker was competing on the track with Bugatti and Ferrari. Now Delage is back and with a beautiful new hypercar dubbed the D12. Powered by a 7.6-liter V12 engine, the new D12 produces upwards of 1,010 horsepower and costs a cool $2.3 million.'],\n",
       " ['Price: $2.3 Million'],\n",
       " [\"What would you pay for the fastest production McLaren ever? Well, at least $2.3 million. With 1,035 horsepower courtesy of a gasoline-electric hybrid V8 powertrain, the Speedtail tops out at 250 miles per hour and is able to reach 186 mph in just 12.8 seconds – 2.7 seconds faster than the P1. Unfortunately, if you didn't get your hands on one new in 2020, you'll have to shell out serious cash on the used market. McLaren only built 106 examples.\"],\n",
       " ['Price: $2.4 Million'],\n",
       " ['The Rimac Nevera takes the title of most expensive EV with its $2.4 million price tag – but only by a few hundred thousand dollars over the next priciest electric supercar. Packing 1,914 horsepower and 1,740 pound-feet of torque, the Nevera can hit 60 in under 2.0 seconds and will continue on to a top speed of 258 miles per hour. Those lucky enough to order one should see it in their driveway before the end of 2022.'],\n",
       " ['Price: $2.5 Million'],\n",
       " ['First came the Zonda, then the Huayra, and now the Pagani Utopia. With 852 horsepower and an available seven-speed manual gearbox, the Utopia is the most powerful road-going Pagani ever produced and it’s limited to just 99 examples worldwide. The cost for one is a cool $2.5 million.'],\n",
       " ['Price: $2.5 Million'],\n",
       " ['Aptly named after the company’s founder, Battista Farina, the Pininfarina Battista delivers the kind of performance (and price!) to make its namesake proud. Revealed at the 2019 Geneva Motor Show, the Battista is completely electric, putting out 1,827 horsepower. If a normal supercar’s 0 to 60 time sounds too leisurely for you, the company says that the Battista will take you there in under 2.0 seconds. Pininfarina plans on building 150 examples of the Battista, costing $2.5 million each.'],\n",
       " ['Price: $2.6 Million'],\n",
       " [\"Sure, you could buy a normal LaFerrari (which also makes the list further down), but why settle for a supercar so mundane when you can take home this track-only version instead? Granted, the Ferrari FXX K Evo came out in 2017, and it's well past the point of being sold out. But when it was new, this 1,036-horsepower Ferrari tore up the track with its naturally aspirated V12 and aggressive aerodynamics.\"],\n",
       " ['Price: $2.6 Million'],\n",
       " [\"If the name Gordon Murray sounds familiar, it’s because he's the man behind the design of the iconic McLaren F1. These days, Mr. Murray has his own supercar venture, and the handsome T.50 is the crown jewel of the lineup. At $2.6 million, the T.50 packs a naturally aspirated 4.0-liter V12 that makes 654 horsepower. The car itself weighs a mere 2,174 pounds, and at 392 pounds, the T.50 has the lightest V12 on the road today.\"],\n",
       " ['Price: $2.6 Million'],\n",
       " [\"The name Countach may be iconic, but is it worth $2.6 million? That's what Lamborghini hopes you will spend on its new Aventador-based model. Debuting in August of 2021, the Countach LPI 800-4 has a 6.5-liter V12 with a light hybrid assist that gives it a whopping 803 horsepower, allowing for a 60 time of 2.8 seconds and a top speed of more than 220 miles per hour.\"],\n",
       " ['Price: $2.7 Million'],\n",
       " ['Mercedes has promised a production version of the Project One hypercar for quite a while now. The first official announcement was in March of 2017 before the first concept debuted later that same year. But after nearly five years of teasing, it appears as if the Project One will finally hit public roads. And when it does, the hybrid hypercar will have over 1,200 horsepower (895 kilowatts) and a price tag of $2.7 million.'],\n",
       " ['Price: $3.0 Million'],\n",
       " ['The folks at Aston Martin know a thing or two about exclusive vehicles, and the Victor might be the most exclusive project for the British brand to date. Based on the One-77 platform, the Victor uses parts from several donor Astons including the track project Vulcan and the upcoming Valkyrie. And talking about limited production – the Victor is one-of-one and rumored to cost nearly $3 million.'],\n",
       " ['$3.0 Million'],\n",
       " ['The same Hennessey Venom F5 hypercar we all know and love, but with less roof. The F5 Roadster has the same twin-turbocharged 6.6-liter V8 as the coupe, producing the same 1,817 horsepower and 1,193 pound-feet of torque. Hennessey estimates a top speed of over 300 miles per hour, but if you want one, it will cost you at least $3.0 million.'],\n",
       " ['Price: $3.0 Million'],\n",
       " [\"The Koenigsegg Jesko, apart from being the fastest car the company has made to date, is also the most expensive. At $3.0 million out of the box, the handsome hypercar has 1,600-horsepower courtesy of the brand's ubiquitous twin-turbocharged 5.0-liter V8 engine. Opt for the Absolut model, and the Jesko, in theory, will be able to hit 300 miles per hour.\"],\n",
       " ['Price: $3.2 Million'],\n",
       " ['The upcoming Aston Martin hybrid hypercar hasn’t even hit the market yet, but already the $3.2 million Valkyrie has sold out. For what it’s worth, Aston Martin hasn’t officially released pricing. Estimates suggest the hypercar could go for anywhere between $2.6 and $3.9 million – but $3.2 million seems to be the magic number. Whatever the case, this machine is impressive. Its Cosworth-sourced 6.5-liter V12 produces 1,160 horsepower (865 kilowatts) and 664 pound-feet (900 Newton-meters) of torque, meaning its top speed should be well over 200 miles per hour (321 kilometers per hour). The company will build just 150 examples of the standard Valkyrie, with a limited 25-run AMR model arriving later.'],\n",
       " ['Price: $3.4 Million'],\n",
       " [\"Dubai-based W Motors shocked the world with its edgy Lykan Hypersport supercar in 2013. With titanium LED headlights housing 420 15-carat diamonds and a holographic display in the center console, it's no surprise it was the third most expensive car ever when new. It falls to number six on our list here, but it's still a wild hypercar with a powerful heart; the twin-turbocharged 3.7-liter six-cylinder engine underhood produces 780 horsepower (581 kilowatts) and 708 (960 Newton-meters) of torque.\"],\n",
       " ['$3.5 Million'],\n",
       " ['One seat, 829 horsepower, and a top speed of over 200 miles per hour. The new McLaren Solus is about as close as you can get to a Formula 1 car from the factory, powered by a naturally aspirated 5.2-liter V10 engine with a 0-62 mile-per-hour time of just 2.5 seconds. Estimates suggest a McLaren Solus will set you back about $3.5 million.'],\n",
       " ['Price: $3.5 Million'],\n",
       " ['Following Pagani’s past playbook, a roadster version of the ferocious Huayra BC was inevitable. Last year, the company made it official by showing off the Huayra Roadster BC, a topless monster with 800 horsepower (597 kilowatts) and 774 lb-ft of torque (1049 Newton-meters). Somewhat surprisingly, Pagani gave the roadster 50 more horsepower than its coupe sibling, by cranking up its AMG-sourced twin-turbocharged 6.0-liter V12. In addition to the joy of hearing the glorious engine note without a roof in the way, owners should take comfort in knowing that their car is ultra-rare. Pagani is limiting production to just 40 units, each with a sticker price of $3.5 million.'],\n",
       " ['Price: $3.6 Million'],\n",
       " ['Another showstopper from the Geneva Motor Show that never was, the Bugatti Chiron Pur Sport is a special edition Chiron with a focus on aerodynamics, weight reduction, and power distribution. It’s the same 8.0-liter quad-turbo W16 engine underneath the skin but it’s now mated to a recalibrated automatic gearbox. While the peak output remains unchanged at 1,500 horsepower (1,103 kilowatts), the rpm redline has been set 200 rpm higher, up to 6,900 rpm. The Pur Sport also features slightly revised bodywork, with a bigger rear wing and more aerodynamic front fascia. Beginning production in late 2020, the Bugatti starts at $3.6 million.'],\n",
       " ['Price: $3.6 million'],\n",
       " ['In several ways, the Sian represents a bridge to Lamborghini’s future. Though it’s based on the Aventador SVJ, this wild-looking Lambo is the brand’s first production electrified offering. In addition to the SVJ-sourced 6.5-liter V12, the Sian uses a 48-volt mild-hybrid system. Total system output is 819 horsepower (611 kilowatts), which also makes it the most powerful Lamborghini ever. As confirmed by the 63 stuck on either side of the Sian’s wing, Lamborghini will produce just 63 units. And each will cost far more than the Aventador SVJ, carrying a price of $3.6 million.'],\n",
       " ['Price: $3.7 Million'],\n",
       " ['The Koenigsegg CC850 was a surprise to be sure, but a welcomed one. Borrowing the twin-turbocharged 5.0-liter V8 from the Jesko, it notches that output up to 1,385 horsepower and 1,022 pound-feet of torque, with a so-called “TWMPAFMPC” transmission that shifts (pun intended) between manual and automatic functions. Of course, all that performance technology will cost you; the CC850 starts at $3.7 million.'],\n",
       " ['Price: $3.9 Million'],\n",
       " ['Earlier this year, Bugatti captured the collective attention of the automotive world by announcing that it broke the 300 miles per hour barrier with a modified version of the Chiron. The Super Sport 300 + is a road-going version of that car, meant to celebrate the occasion. Limited to just 30 units, the Super Sport 300+ is a beautiful version of the Chiron, with flowing, slippery bodywork and a sweet stripe motif. Even with 300 in the name, Bugatti is limiting the top speed of each car to \"just\" 277 mph. Production starts this year.'],\n",
       " ['Price: $4.5 Million'],\n",
       " [\"Lamborghini built just 14 examples of the Aventador-based Veneno between 2014 and 2015. Each one cost around $4.5 million, depending on how it was spec'd, and was available in both convertible and coupe configurations. Underhood Lamborghini fitted a more-powerful iteration of the Aventador's 6.5-liter V12, now producing 740 horsepower (552 kilowatts) and 509 pound-feet (609 Newton-meters) of torque, which gave it the ability to sprint to 60 miles per hour (96 kilometers per hour) in a blistering 2.9 seconds. To date, it’s the most expensive new Lamborghini ever.\"],\n",
       " ['Price: $4.7 Million'],\n",
       " [\"Produced in extremely limited numbers atop the body of a Chiron, it's no wonder Bugatti's one-of-40 Bolide track car is this pricey. At $4.7 million, the 1,824-horsepower hypercar has more power than the Chiron Super Sport 300+, and more extreme bodywork that allow it to lap tracks like the Nurburgring in record time (in theory). Bugatti says the Bolide would be able to conquer the ‘Ring in record time.\"],\n",
       " ['Price: $5.0 Million'],\n",
       " ['The Bugatti Mistral sends the iconic W16 engine off in style. With 1,577 horsepower and no roof, the Mistral takes the best bits of the Chiron and borrows elements from the Bolide and Divo to create a truly unique roadster. Of course, Bugatti plans to build just 99 examples of the Mistral at the cost of around $5.0 million in the US – and all of them are already accounted for.'],\n",
       " ['Price: $5.4 Million'],\n",
       " ['Even though the new Utopia marks the next big step for Pagani, the Huayra Imola packs nearly as much power with a twin-turbocharged 6.0-liter V12 engine producing 827 horsepower and 811 pound-feet of torque. The Huayra Imola is estimated to cost around $5.4 million new, which would make it the second most expensive Pagani of all time.'],\n",
       " ['Price: $5.8 Million'],\n",
       " ['Among Bugatti’s recently debuted vehicles, the Divo is a staff favorite. Though it shares much in common with its cheaper (!) sibling the Chiron, the Divo has a lot going for it to justify the extra money. By adding lighter wheels, a carbon fiber intercooler and removing some sound deadening, Bugatti made the Divo 77 pounds lighter than the Chiron. Though power is unchanged from the Chiron’s 1,500 ponies (1,119 kilowatts), The Divo features a different aerodynamic setup, which makes it 8 seconds quicker around the Nardo test track. Finally, the moment you’ve been waiting for: Bugatti is making 40 examples of the car, each costing $5.8 million.'],\n",
       " ['Price: $6.4 Million'],\n",
       " [\"SP Automotive (short for Spyros Panopoulos) is a new name in the world of hypercars, but the brand's 2,000-horsepower, $6.4-million, aptly named Chaos has already made an impact. With a twin-turbocharged 4.0-liter V10, the base SP Automotive Chaos is one of the most expensive cars on this list – beating out many Lambos and Bugattis – but there's an even pricier version of this car that costs an eye-watering $14.4 million. That version reportedly packs 3,000 hp.\"],\n",
       " ['Price: $7.4 Million'],\n",
       " ['The long list of pricey (new) Paganis ends with the Codualunga. Inspired by 1960s Italian coachbuilding, the stunning exterior and steampunk-esque interior – while equally stunning – are only part of what makes this Pagani so pricey. Under the hood is a twin-turbocharged 6.0-liter V12 producing 829 horsepower and 809 pound-feet of torque, paired to a seven-speed sequential transmission for a real race-car–like feel. The cost for this one-of-five Pagani is $7.4 million.'],\n",
       " ['Price: $8.0 Million'],\n",
       " [\"Like many others before it, the Mercedes-Benz Maybach Exelero is a one-off. Commissioned by Fulda, a German subsidiary of Goodyear, to test its new tires, the Exlero debuted in 2004. Mercedes built the Exelero on the bones of a Maybach, and gave it the same twin-turbo V12 engine producing 690 horsepower (510 kilowatts) and 752 pound-feet (1,020 Newton-meters) of torque. Top speed is listed at 218 miles per hour (350 kilometers per hour) and adjusted for inflation, the Exelero would cost more than $10 million in today's money.\"],\n",
       " ['Price: $9.0 Million'],\n",
       " ['Bugatti debuted the Centodieci at last year’s Pebble Beach car week, showing off yet another ultra-rare, super-expensive model to the world. Limited to just 10 – dieci – units, the car is a modern throwback to the Bugatti EB110. At the same time, it’s meant to celebrate Bugatti’s momentous 110-year anniversary. Its unique styling cues won’t make everyone fall in love, but at least you won’t have to worry about seeing another one on the road. Carrying a price just shy of $9 million, the Centodiece is one of the most exclusive cars ever made.'],\n",
       " ['Price: $12.8 Million'],\n",
       " [\"Rolls-Royce, expectedly, takes two of the top three spots on this list, with the stunning Sweptail one-off from 2017 coming in at number three. With a monumental price tag of $13.0 million, it was, at the time of its debut, the most expensive new car ever. It's been outpriced since then, but the 453-horsepower luxury car is still a jaw-dropper.\"],\n",
       " ['Price: $13.4 Million'],\n",
       " [\"With a price tag of $13.4 million, the one-off Bugatti La Voiture Noire is officially the most expensive new Bugatti ever made. And understandably so. A modern interpretation of Jean Bugatti's personal Type 57 SC Atlantic, the La Voiture Noire uses the same quad-turbocharged 8.0-liter W16 engine as the Chiron, producing 1,479 horsepower. It has six – that's right, six exhaust tips, radical new wheels, an aggressive, bespoke fascia, and a gigantic light-up badge in the rear that spells out the name of the brand. Of course, this one-of-one Bugatti already has a home.\"],\n",
       " ['Price: $28.0 Million (est.)'],\n",
       " ['Rolls-Royce is back in the business of coachbuilding with the gorgeous new Boat Tail. A successor to the stunning Sweptail from 2017 – which itself cost a reported $12.8 million – the Boat Tail has a unique two-tone exterior, custom high-end finishes inside, and even a \"hosting suite\" complete with a champagne fridge and built-in sun umbrella. Although Rolls-Royce doesn’t officially announce pricing for one-off builds such as this, rumor has it that the Boat Tail cost a whopping $28.0 million new.'],\n",
       " ['What Is The Most Expensive Car In The World?'],\n",
       " ['What Is The Most Expensive Car Ever Sold?'],\n",
       " ['What Is The Most Valuable Car Brand?'],\n",
       " ['As of 2022, Tesla is still the world’s most valuable car brand with a valuation of $694 billion. Toyota, at second, has a valuation of $216 billion but outsells Tesla by a significant margin globally.'],\n",
       " ['TRENDING'],\n",
       " ['ABOUT THIS ARTICLE'],\n",
       " ['When it comes to high-end hypercars and super-fast supercars, a few companies should come to mind first: Bugatti, Ferrari, Koenigsegg, Rimac, and Pagani, among others. These manufacturers have cemented themselves as the top dogs in the supercar and hypercar space, extending to their wealthiest clientele the fastest, rarest, prettiest – and in this case – most expensive cars on the planet.'],\n",
       " [\"But in order to find out which of these unattainable-to-most vehicles is the priciest, we've scoured the invoice sheets and uncovered 40 cars all worth $1 million or more. The group includes hybrid Ferrari convertibles, an American speed king, a few electric Hypercars, and two a one-of-a-kind Rolls-Royce cars built for royalty.\"],\n",
       " ['We should note, though: The prices listed here are the price of the vehicles when new. So we’re not counting auction cars like the Ferrari 250 GTO, or overpriced secondhand sales. But don’t worry, there’s still hundreds of millions worth of cars here to whet your appetite.'],\n",
       " ['Price: $1.2 Million'],\n",
       " ['The Drako GTE is a super sedan in every sense of the word. Packing 1,200 horsepower and a whopping 6,491 pound-feet of torque from a fully electric powertrain, the GTE can hit 60 in just about 2.0 seconds and tops out at 206 miles per hour. The cost for this family-friendly rocket is a cool $1.2 million.'],\n",
       " ['Price: $1.3 Million'],\n",
       " ['The De Tomaso P72 is basically the definition of beautiful. The shapely supercar debuted at the 2019 Goodwood Festival Of Speed with a supercharged Ford V8 boasting 700 horsepower. The P72 marked the return of the DeTomaso brand after nearly 30 years on hiatus, and if you want one, it will cost you at least $1.3 million.'],\n",
       " ['Price: $1.4 Million'],\n",
       " ['At $1.4 million new, the Ferrari LaFerrari is actually one of the most affordable supercars on this list. It’s a bargain compared to the most expensive vehicle here. Debuting in 2013 with 950 hybrid horses (708 kilowatts) and a top speed of around 220 miles per hour (354 kilometers per hour), this is still Ferrari’s fastest and most powerful production model to date. The company built just 499 examples of the coupe between 2013 and 2016.'],\n",
       " ['Price: $1.4 Million'],\n",
       " ['Inarguably one of the prettiest cars on this list, the Pagani Huayra cost a cool $1.4 million when new. Like the LaFerrari, Pagani built the Huayra in extremely limited numbers. The company hand-constructed just 100 units of the coupe between 2012 and 2018, with another 20 versions of the BC model (which makes our list further down) between 2017 and 2019. Powering each and every example was a Mercedes-AMG V12 capable of 720 horsepower (537 kilowatts).'],\n",
       " ['Price: $1.7 Million'],\n",
       " ['The McLaren Elva is one of the latest additions to the British supercar maker’s storied legacy. Even without a proper windshield (though, no option) or roof to rely on, the Elva produces 804 horsepower and 590 pound-feet of torque from its twin-turbocharged 4.0-liter V8. Originally McLaren announced just 399 units, but later the company dropped that to an even more scarce 249 examples. Either way, most of you will never get your hands on one – the Elva costs $1.7 million.'],\n",
       " ['Price: $1.7 Million'],\n",
       " ['You might not know the name Czinger yet, but this California-based boutique automaker is responsible for the $1.7 million 21C supercar. With 1,250 horsepower on tap thanks to a 2.9-liter twin-turbocharged V8, the 21C can rocket to 60 miles per hour in 1.9 seconds and a top speed of around 281 miles per hour.'],\n",
       " ['Price: $1.7 Million'],\n",
       " ['Much like the roof-less McLaren Elva, the Ferrari Monza SP1 and SP2 are all about al fresco motoring. As the name implies, the SP1 is the single-seater option while the SP2 has just enough room for you to bring along a friend. Both cars come powered by the same naturally aspirated 6.5-liter V12 engine capable of 809 horsepower and 530 pound-feet. Unfortunately for US buyers, neither of these models are street legal in the States. But f you have the funds to afford the car’s $1.75 million price tag, getting onto a track probably won’t be an issue anyway.'],\n",
       " ['Price: $1.7 Million'],\n",
       " [\"The second and slightly more affordable supercar in the new Gordon Murray lineup is the T.33. With 607 horsepower courtesy of a naturally aspirated 3.9-liter V12, the T.33 revs to a ridiculous 10,500 RPM. With a price tag of around $1.7 million at current conversion rates, Gordon Murray automotive promises to sell this car globally, in both right- and left-hand-drive configurations. Too bad it's already sold out.\"],\n",
       " ['Price: $1.7 Million'],\n",
       " ['One of two Koenigsegg models on this list, the Gemera is actually the Swedish supercar maker’s first four-seater. But that doesn’t mean it’s some family car. With a twin-turbocharged 2.0-liter engine under the hood and three electric motors, the Gemera has 1,700 horsepower and will hit 60 in just 1.9 seconds. The company only plans to build 300 of them, each one costing at least $1.7 million.'],\n",
       " ['Price: $1.7 Million'],\n",
       " ['Hailing from Denmark, the Zenvo TSR-S debuted in 2018 at the Geneva Motor Show as the most extreme option in the supercar startup’s repertoire. Boasting a twin-charged 5.8-liter V8 engine, the TSR-S produces 1,177 horsepower and will hit 62 miles per hour in just 2.8 seconds. Expect to pay at least $1.7 million to get your hands on this powerful and limited supercar.'],\n",
       " ['Price: $1.8 Million'],\n",
       " ['The Hennessey Venom GT was a record-breaker, topping out at 265.7 miles per hour in a world record run. But the new F5 plans to beat its predecessor with an estimated top speed of 311 mph, and with that comes a higher price, too. The Venom F5 starts at $1.8 million, according to the company, which makes it just a bit pricier than its $1.2-million predecessor.'],\n",
       " ['Price: $1.9 Million'],\n",
       " ['With just 12 total units produced, the Bentley Bacalar makes some of the \"limited\" cars on this list look plentiful by comparison. Although the car’s opulent design may be the first thing to grab your attention, the Bacalar is no slouch in terms of performance either. With Bentley’s signature turbocharged 6.0-liter W12 turbocharged engine, this car delivers 650 horsepower and 664 pound-feet. If you have a spare $1.9 million lying around and are considering buying one, you’re already too late – Bentley says that every example is now in customer hands.'],\n",
       " ['Price: $1.9 Million'],\n",
       " [\"To call the Hispano Suiza Carmen Boulogne beautiful would be... a stretch. But this interesting-looking supercar made its US debut at this year's Amelia Island Concours d'Elegance boasting a 1,114-horsepower electric powertrain and a 0-60 time of 2.6 seconds. The Boulogne version pictured here – the lighter and more powerful of the two – costs close to $1.9 million.\"],\n",
       " ['Price: $2.0 Million'],\n",
       " [\"The electric onslaught is coming. Bentley says it will be a fully electric automaker by 2030. But before the luxury brand transitions to battery power fully, the Mulliner Batur helps send the iconic W12 engine off in style. With 710 horsepower from that twin-turbocharged engine, the Batur is the most powerful Bentley ever. And since it's limited to just 18 examples globally, the Batur costs a whopping $2.0 million.\"],\n",
       " ['Price: $2.0 Million'],\n",
       " ['The Deus Vayanne may not be a household name (yet), but the all-electric hypercar debuted earlier this year with 2,200 horsepower, a 0-60 time of just under 2.0 seconds, and an estimated top speed of 248 miles per hour. Deus plans to build 99 examples of the Vayanne, with the first few examples scheduled to go on sale in 2025.'],\n",
       " ['Price: $2.0 Million*'],\n",
       " ['Although initially cloaked in controversy, SSC did manage to hit 282.9 miles per hour with its Tuatara hypercar, breaking a world record. But not only is the Tuatara one of the fastest vehicles on the planet, it’s also one of the priciest. The cost for all that speed is estimated to be around $2.0 million for the base Tuatara, limited to just 100 units worldwide.'],\n",
       " ['Price: $2.1 Million'],\n",
       " ['With a new Emira sports car and an Eletre electric SUV, Lotus is on the brink of a comeback. The automaker plans to roll out a number of new products within the next few years, with part of that strategy including the range-topping Evija. This supercar comes in at a cool $2.1 million and produces nearly 2,000 horsepower via four electric motors. Lotus plans to build just 130 road-going examples of the Evija.'],\n",
       " ['Price: $2.3 Million'],\n",
       " ['As with a few other cars on this list, the Aston Martin Vulcan was a track-only special. The British supercar made its world debut in 2015, powered by a naturally aspirated 7.0-liter V12 that produced 820 horsepower, and limited to just 24 examples worldwide. An even more track-focused AMR Pro model followed, but even the base Vulcan was a pricey commodity, costing about $2.4-million from the factory.'],\n",
       " ['Price: $2.3 Million'],\n",
       " ['You may have heard of Delage before. In the early 1900s, this French automaker was competing on the track with Bugatti and Ferrari. Now Delage is back and with a beautiful new hypercar dubbed the D12. Powered by a 7.6-liter V12 engine, the new D12 produces upwards of 1,010 horsepower and costs a cool $2.3 million.'],\n",
       " ['Price: $2.3 Million'],\n",
       " [\"What would you pay for the fastest production McLaren ever? Well, at least $2.3 million. With 1,035 horsepower courtesy of a gasoline-electric hybrid V8 powertrain, the Speedtail tops out at 250 miles per hour and is able to reach 186 mph in just 12.8 seconds – 2.7 seconds faster than the P1. Unfortunately, if you didn't get your hands on one new in 2020, you'll have to shell out serious cash on the used market. McLaren only built 106 examples.\"],\n",
       " ['Price: $2.4 Million'],\n",
       " ['The Rimac Nevera takes the title of most expensive EV with its $2.4 million price tag – but only by a few hundred thousand dollars over the next priciest electric supercar. Packing 1,914 horsepower and 1,740 pound-feet of torque, the Nevera can hit 60 in under 2.0 seconds and will continue on to a top speed of 258 miles per hour. Those lucky enough to order one should see it in their driveway before the end of 2022.'],\n",
       " ['Price: $2.5 Million'],\n",
       " ['First came the Zonda, then the Huayra, and now the Pagani Utopia. With 852 horsepower and an available seven-speed manual gearbox, the Utopia is the most powerful road-going Pagani ever produced and it’s limited to just 99 examples worldwide. The cost for one is a cool $2.5 million.'],\n",
       " ['Price: $2.5 Million'],\n",
       " ['Aptly named after the company’s founder, Battista Farina, the Pininfarina Battista delivers the kind of performance (and price!) to make its namesake proud. Revealed at the 2019 Geneva Motor Show, the Battista is completely electric, putting out 1,827 horsepower. If a normal supercar’s 0 to 60 time sounds too leisurely for you, the company says that the Battista will take you there in under 2.0 seconds. Pininfarina plans on building 150 examples of the Battista, costing $2.5 million each.'],\n",
       " ['Price: $2.6 Million'],\n",
       " [\"Sure, you could buy a normal LaFerrari (which also makes the list further down), but why settle for a supercar so mundane when you can take home this track-only version instead? Granted, the Ferrari FXX K Evo came out in 2017, and it's well past the point of being sold out. But when it was new, this 1,036-horsepower Ferrari tore up the track with its naturally aspirated V12 and aggressive aerodynamics.\"],\n",
       " ['Price: $2.6 Million'],\n",
       " [\"If the name Gordon Murray sounds familiar, it’s because he's the man behind the design of the iconic McLaren F1. These days, Mr. Murray has his own supercar venture, and the handsome T.50 is the crown jewel of the lineup. At $2.6 million, the T.50 packs a naturally aspirated 4.0-liter V12 that makes 654 horsepower. The car itself weighs a mere 2,174 pounds, and at 392 pounds, the T.50 has the lightest V12 on the road today.\"],\n",
       " ['Price: $2.6 Million'],\n",
       " [\"The name Countach may be iconic, but is it worth $2.6 million? That's what Lamborghini hopes you will spend on its new Aventador-based model. Debuting in August of 2021, the Countach LPI 800-4 has a 6.5-liter V12 with a light hybrid assist that gives it a whopping 803 horsepower, allowing for a 60 time of 2.8 seconds and a top speed of more than 220 miles per hour.\"],\n",
       " ['Price: $2.7 Million'],\n",
       " ['Mercedes has promised a production version of the Project One hypercar for quite a while now. The first official announcement was in March of 2017 before the first concept debuted later that same year. But after nearly five years of teasing, it appears as if the Project One will finally hit public roads. And when it does, the hybrid hypercar will have over 1,200 horsepower (895 kilowatts) and a price tag of $2.7 million.'],\n",
       " ['Price: $3.0 Million'],\n",
       " ['The folks at Aston Martin know a thing or two about exclusive vehicles, and the Victor might be the most exclusive project for the British brand to date. Based on the One-77 platform, the Victor uses parts from several donor Astons including the track project Vulcan and the upcoming Valkyrie. And talking about limited production – the Victor is one-of-one and rumored to cost nearly $3 million.'],\n",
       " ['$3.0 Million'],\n",
       " ['The same Hennessey Venom F5 hypercar we all know and love, but with less roof. The F5 Roadster has the same twin-turbocharged 6.6-liter V8 as the coupe, producing the same 1,817 horsepower and 1,193 pound-feet of torque. Hennessey estimates a top speed of over 300 miles per hour, but if you want one, it will cost you at least $3.0 million.'],\n",
       " ['Price: $3.0 Million'],\n",
       " [\"The Koenigsegg Jesko, apart from being the fastest car the company has made to date, is also the most expensive. At $3.0 million out of the box, the handsome hypercar has 1,600-horsepower courtesy of the brand's ubiquitous twin-turbocharged 5.0-liter V8 engine. Opt for the Absolut model, and the Jesko, in theory, will be able to hit 300 miles per hour.\"],\n",
       " ['Price: $3.2 Million'],\n",
       " ['The upcoming Aston Martin hybrid hypercar hasn’t even hit the market yet, but already the $3.2 million Valkyrie has sold out. For what it’s worth, Aston Martin hasn’t officially released pricing. Estimates suggest the hypercar could go for anywhere between $2.6 and $3.9 million – but $3.2 million seems to be the magic number. Whatever the case, this machine is impressive. Its Cosworth-sourced 6.5-liter V12 produces 1,160 horsepower (865 kilowatts) and 664 pound-feet (900 Newton-meters) of torque, meaning its top speed should be well over 200 miles per hour (321 kilometers per hour). The company will build just 150 examples of the standard Valkyrie, with a limited 25-run AMR model arriving later.'],\n",
       " ['Price: $3.4 Million'],\n",
       " [\"Dubai-based W Motors shocked the world with its edgy Lykan Hypersport supercar in 2013. With titanium LED headlights housing 420 15-carat diamonds and a holographic display in the center console, it's no surprise it was the third most expensive car ever when new. It falls to number six on our list here, but it's still a wild hypercar with a powerful heart; the twin-turbocharged 3.7-liter six-cylinder engine underhood produces 780 horsepower (581 kilowatts) and 708 (960 Newton-meters) of torque.\"],\n",
       " ['$3.5 Million'],\n",
       " ['One seat, 829 horsepower, and a top speed of over 200 miles per hour. The new McLaren Solus is about as close as you can get to a Formula 1 car from the factory, powered by a naturally aspirated 5.2-liter V10 engine with a 0-62 mile-per-hour time of just 2.5 seconds. Estimates suggest a McLaren Solus will set you back about $3.5 million.'],\n",
       " ['Price: $3.5 Million'],\n",
       " ['Following Pagani’s past playbook, a roadster version of the ferocious Huayra BC was inevitable. Last year, the company made it official by showing off the Huayra Roadster BC, a topless monster with 800 horsepower (597 kilowatts) and 774 lb-ft of torque (1049 Newton-meters). Somewhat surprisingly, Pagani gave the roadster 50 more horsepower than its coupe sibling, by cranking up its AMG-sourced twin-turbocharged 6.0-liter V12. In addition to the joy of hearing the glorious engine note without a roof in the way, owners should take comfort in knowing that their car is ultra-rare. Pagani is limiting production to just 40 units, each with a sticker price of $3.5 million.'],\n",
       " ['Price: $3.6 Million'],\n",
       " ['Another showstopper from the Geneva Motor Show that never was, the Bugatti Chiron Pur Sport is a special edition Chiron with a focus on aerodynamics, weight reduction, and power distribution. It’s the same 8.0-liter quad-turbo W16 engine underneath the skin but it’s now mated to a recalibrated automatic gearbox. While the peak output remains unchanged at 1,500 horsepower (1,103 kilowatts), the rpm redline has been set 200 rpm higher, up to 6,900 rpm. The Pur Sport also features slightly revised bodywork, with a bigger rear wing and more aerodynamic front fascia. Beginning production in late 2020, the Bugatti starts at $3.6 million.'],\n",
       " ['Price: $3.6 million'],\n",
       " ['In several ways, the Sian represents a bridge to Lamborghini’s future. Though it’s based on the Aventador SVJ, this wild-looking Lambo is the brand’s first production electrified offering. In addition to the SVJ-sourced 6.5-liter V12, the Sian uses a 48-volt mild-hybrid system. Total system output is 819 horsepower (611 kilowatts), which also makes it the most powerful Lamborghini ever. As confirmed by the 63 stuck on either side of the Sian’s wing, Lamborghini will produce just 63 units. And each will cost far more than the Aventador SVJ, carrying a price of $3.6 million.'],\n",
       " ['Price: $3.7 Million'],\n",
       " ['The Koenigsegg CC850 was a surprise to be sure, but a welcomed one. Borrowing the twin-turbocharged 5.0-liter V8 from the Jesko, it notches that output up to 1,385 horsepower and 1,022 pound-feet of torque, with a so-called “TWMPAFMPC” transmission that shifts (pun intended) between manual and automatic functions. Of course, all that performance technology will cost you; the CC850 starts at $3.7 million.'],\n",
       " ['Price: $3.9 Million'],\n",
       " ['Earlier this year, Bugatti captured the collective attention of the automotive world by announcing that it broke the 300 miles per hour barrier with a modified version of the Chiron. The Super Sport 300 + is a road-going version of that car, meant to celebrate the occasion. Limited to just 30 units, the Super Sport 300+ is a beautiful version of the Chiron, with flowing, slippery bodywork and a sweet stripe motif. Even with 300 in the name, Bugatti is limiting the top speed of each car to \"just\" 277 mph. Production starts this year.'],\n",
       " ['Price: $4.5 Million'],\n",
       " [\"Lamborghini built just 14 examples of the Aventador-based Veneno between 2014 and 2015. Each one cost around $4.5 million, depending on how it was spec'd, and was available in both convertible and coupe configurations. Underhood Lamborghini fitted a more-powerful iteration of the Aventador's 6.5-liter V12, now producing 740 horsepower (552 kilowatts) and 509 pound-feet (609 Newton-meters) of torque, which gave it the ability to sprint to 60 miles per hour (96 kilometers per hour) in a blistering 2.9 seconds. To date, it’s the most expensive new Lamborghini ever.\"],\n",
       " ['Price: $4.7 Million'],\n",
       " [\"Produced in extremely limited numbers atop the body of a Chiron, it's no wonder Bugatti's one-of-40 Bolide track car is this pricey. At $4.7 million, the 1,824-horsepower hypercar has more power than the Chiron Super Sport 300+, and more extreme bodywork that allow it to lap tracks like the Nurburgring in record time (in theory). Bugatti says the Bolide would be able to conquer the ‘Ring in record time.\"],\n",
       " ['Price: $5.0 Million'],\n",
       " ['The Bugatti Mistral sends the iconic W16 engine off in style. With 1,577 horsepower and no roof, the Mistral takes the best bits of the Chiron and borrows elements from the Bolide and Divo to create a truly unique roadster. Of course, Bugatti plans to build just 99 examples of the Mistral at the cost of around $5.0 million in the US – and all of them are already accounted for.'],\n",
       " ['Price: $5.4 Million'],\n",
       " ['Even though the new Utopia marks the next big step for Pagani, the Huayra Imola packs nearly as much power with a twin-turbocharged 6.0-liter V12 engine producing 827 horsepower and 811 pound-feet of torque. The Huayra Imola is estimated to cost around $5.4 million new, which would make it the second most expensive Pagani of all time.'],\n",
       " ['Price: $5.8 Million'],\n",
       " ['Among Bugatti’s recently debuted vehicles, the Divo is a staff favorite. Though it shares much in common with its cheaper (!) sibling the Chiron, the Divo has a lot going for it to justify the extra money. By adding lighter wheels, a carbon fiber intercooler and removing some sound deadening, Bugatti made the Divo 77 pounds lighter than the Chiron. Though power is unchanged from the Chiron’s 1,500 ponies (1,119 kilowatts), The Divo features a different aerodynamic setup, which makes it 8 seconds quicker around the Nardo test track. Finally, the moment you’ve been waiting for: Bugatti is making 40 examples of the car, each costing $5.8 million.'],\n",
       " ['Price: $6.4 Million'],\n",
       " [\"SP Automotive (short for Spyros Panopoulos) is a new name in the world of hypercars, but the brand's 2,000-horsepower, $6.4-million, aptly named Chaos has already made an impact. With a twin-turbocharged 4.0-liter V10, the base SP Automotive Chaos is one of the most expensive cars on this list – beating out many Lambos and Bugattis – but there's an even pricier version of this car that costs an eye-watering $14.4 million. That version reportedly packs 3,000 hp.\"],\n",
       " ['Price: $7.4 Million'],\n",
       " ['The long list of pricey (new) Paganis ends with the Codualunga. Inspired by 1960s Italian coachbuilding, the stunning exterior and steampunk-esque interior – while equally stunning – are only part of what makes this Pagani so pricey. Under the hood is a twin-turbocharged 6.0-liter V12 producing 829 horsepower and 809 pound-feet of torque, paired to a seven-speed sequential transmission for a real race-car–like feel. The cost for this one-of-five Pagani is $7.4 million.'],\n",
       " ['Price: $8.0 Million'],\n",
       " [\"Like many others before it, the Mercedes-Benz Maybach Exelero is a one-off. Commissioned by Fulda, a German subsidiary of Goodyear, to test its new tires, the Exlero debuted in 2004. Mercedes built the Exelero on the bones of a Maybach, and gave it the same twin-turbo V12 engine producing 690 horsepower (510 kilowatts) and 752 pound-feet (1,020 Newton-meters) of torque. Top speed is listed at 218 miles per hour (350 kilometers per hour) and adjusted for inflation, the Exelero would cost more than $10 million in today's money.\"],\n",
       " ['Price: $9.0 Million'],\n",
       " ['Bugatti debuted the Centodieci at last year’s Pebble Beach car week, showing off yet another ultra-rare, super-expensive model to the world. Limited to just 10 – dieci – units, the car is a modern throwback to the Bugatti EB110. At the same time, it’s meant to celebrate Bugatti’s momentous 110-year anniversary. Its unique styling cues won’t make everyone fall in love, but at least you won’t have to worry about seeing another one on the road. Carrying a price just shy of $9 million, the Centodiece is one of the most exclusive cars ever made.'],\n",
       " ['Price: $12.8 Million'],\n",
       " [\"Rolls-Royce, expectedly, takes two of the top three spots on this list, with the stunning Sweptail one-off from 2017 coming in at number three. With a monumental price tag of $13.0 million, it was, at the time of its debut, the most expensive new car ever. It's been outpriced since then, but the 453-horsepower luxury car is still a jaw-dropper.\"],\n",
       " ['Price: $13.4 Million'],\n",
       " [\"With a price tag of $13.4 million, the one-off Bugatti La Voiture Noire is officially the most expensive new Bugatti ever made. And understandably so. A modern interpretation of Jean Bugatti's personal Type 57 SC Atlantic, the La Voiture Noire uses the same quad-turbocharged 8.0-liter W16 engine as the Chiron, producing 1,479 horsepower. It has six – that's right, six exhaust tips, radical new wheels, an aggressive, bespoke fascia, and a gigantic light-up badge in the rear that spells out the name of the brand. Of course, this one-of-one Bugatti already has a home.\"],\n",
       " ['Price: $28.0 Million (est.)'],\n",
       " ['Rolls-Royce is back in the business of coachbuilding with the gorgeous new Boat Tail. A successor to the stunning Sweptail from 2017 – which itself cost a reported $12.8 million – the Boat Tail has a unique two-tone exterior, custom high-end finishes inside, and even a \"hosting suite\" complete with a champagne fridge and built-in sun umbrella. Although Rolls-Royce doesn’t officially announce pricing for one-off builds such as this, rumor has it that the Boat Tail cost a whopping $28.0 million new.'],\n",
       " ['What Is The Most Expensive Car In The World?'],\n",
       " ['What Is The Most Expensive Car Ever Sold?'],\n",
       " ['What Is The Most Valuable Car Brand?'],\n",
       " ['As of 2022, Tesla is still the world’s most valuable car brand with a valuation of $694 billion. Toyota, at second, has a valuation of $216 billion but outsells Tesla by a significant margin globally.'],\n",
       " ['TRENDING'],\n",
       " ['ABOUT THIS ARTICLE']]"
      ]
     },
     "execution_count": 388,
     "metadata": {},
     "output_type": "execute_result"
    }
   ],
   "source": [
    "desc_mod=[i.splitlines(True) for i in desc]\n",
    "desc_mod"
   ]
  },
  {
   "cell_type": "code",
   "execution_count": 391,
   "id": "2471e562",
   "metadata": {},
   "outputs": [
    {
     "name": "stdout",
     "output_type": "stream",
     "text": [
      "[['The Drako GTE is a super sedan in every sense of the word. Packing 1,200 horsepower and a whopping 6,491 pound-feet of torque from a fully electric powertrain, the GTE can hit 60 in just about 2.0 seconds and tops out at 206 miles per hour. The cost for this family-friendly rocket is a cool $1.2 million.'], ['The De Tomaso P72 is basically the definition of beautiful. The shapely supercar debuted at the 2019 Goodwood Festival Of Speed with a supercharged Ford V8 boasting 700 horsepower. The P72 marked the return of the DeTomaso brand after nearly 30 years on hiatus, and if you want one, it will cost you at least $1.3 million.'], ['At $1.4 million new, the Ferrari LaFerrari is actually one of the most affordable supercars on this list. It’s a bargain compared to the most expensive vehicle here. Debuting in 2013 with 950 hybrid horses (708 kilowatts) and a top speed of around 220 miles per hour (354 kilometers per hour), this is still Ferrari’s fastest and most powerful production model to date. The company built just 499 examples of the coupe between 2013 and 2016.'], ['Inarguably one of the prettiest cars on this list, the Pagani Huayra cost a cool $1.4 million when new. Like the LaFerrari, Pagani built the Huayra in extremely limited numbers. The company hand-constructed just 100 units of the coupe between 2012 and 2018, with another 20 versions of the BC model (which makes our list further down) between 2017 and 2019. Powering each and every example was a Mercedes-AMG V12 capable of 720 horsepower (537 kilowatts).'], ['The McLaren Elva is one of the latest additions to the British supercar maker’s storied legacy. Even without a proper windshield (though, no option) or roof to rely on, the Elva produces 804 horsepower and 590 pound-feet of torque from its twin-turbocharged 4.0-liter V8. Originally McLaren announced just 399 units, but later the company dropped that to an even more scarce 249 examples. Either way, most of you will never get your hands on one – the Elva costs $1.7 million.'], ['You might not know the name Czinger yet, but this California-based boutique automaker is responsible for the $1.7 million 21C supercar. With 1,250 horsepower on tap thanks to a 2.9-liter twin-turbocharged V8, the 21C can rocket to 60 miles per hour in 1.9 seconds and a top speed of around 281 miles per hour.'], ['Much like the roof-less McLaren Elva, the Ferrari Monza SP1 and SP2 are all about al fresco motoring. As the name implies, the SP1 is the single-seater option while the SP2 has just enough room for you to bring along a friend. Both cars come powered by the same naturally aspirated 6.5-liter V12 engine capable of 809 horsepower and 530 pound-feet. Unfortunately for US buyers, neither of these models are street legal in the States. But f you have the funds to afford the car’s $1.75 million price tag, getting onto a track probably won’t be an issue anyway.'], [\"The second and slightly more affordable supercar in the new Gordon Murray lineup is the T.33. With 607 horsepower courtesy of a naturally aspirated 3.9-liter V12, the T.33 revs to a ridiculous 10,500 RPM. With a price tag of around $1.7 million at current conversion rates, Gordon Murray automotive promises to sell this car globally, in both right- and left-hand-drive configurations. Too bad it's already sold out.\"], ['One of two Koenigsegg models on this list, the Gemera is actually the Swedish supercar maker’s first four-seater. But that doesn’t mean it’s some family car. With a twin-turbocharged 2.0-liter engine under the hood and three electric motors, the Gemera has 1,700 horsepower and will hit 60 in just 1.9 seconds. The company only plans to build 300 of them, each one costing at least $1.7 million.'], ['Hailing from Denmark, the Zenvo TSR-S debuted in 2018 at the Geneva Motor Show as the most extreme option in the supercar startup’s repertoire. Boasting a twin-charged 5.8-liter V8 engine, the TSR-S produces 1,177 horsepower and will hit 62 miles per hour in just 2.8 seconds. Expect to pay at least $1.7 million to get your hands on this powerful and limited supercar.'], ['The Hennessey Venom GT was a record-breaker, topping out at 265.7 miles per hour in a world record run. But the new F5 plans to beat its predecessor with an estimated top speed of 311 mph, and with that comes a higher price, too. The Venom F5 starts at $1.8 million, according to the company, which makes it just a bit pricier than its $1.2-million predecessor.'], ['With just 12 total units produced, the Bentley Bacalar makes some of the \"limited\" cars on this list look plentiful by comparison. Although the car’s opulent design may be the first thing to grab your attention, the Bacalar is no slouch in terms of performance either. With Bentley’s signature turbocharged 6.0-liter W12 turbocharged engine, this car delivers 650 horsepower and 664 pound-feet. If you have a spare $1.9 million lying around and are considering buying one, you’re already too late – Bentley says that every example is now in customer hands.'], [\"To call the Hispano Suiza Carmen Boulogne beautiful would be... a stretch. But this interesting-looking supercar made its US debut at this year's Amelia Island Concours d'Elegance boasting a 1,114-horsepower electric powertrain and a 0-60 time of 2.6 seconds. The Boulogne version pictured here – the lighter and more powerful of the two – costs close to $1.9 million.\"], [\"The electric onslaught is coming. Bentley says it will be a fully electric automaker by 2030. But before the luxury brand transitions to battery power fully, the Mulliner Batur helps send the iconic W12 engine off in style. With 710 horsepower from that twin-turbocharged engine, the Batur is the most powerful Bentley ever. And since it's limited to just 18 examples globally, the Batur costs a whopping $2.0 million.\"], ['The Deus Vayanne may not be a household name (yet), but the all-electric hypercar debuted earlier this year with 2,200 horsepower, a 0-60 time of just under 2.0 seconds, and an estimated top speed of 248 miles per hour. Deus plans to build 99 examples of the Vayanne, with the first few examples scheduled to go on sale in 2025.'], ['Although initially cloaked in controversy, SSC did manage to hit 282.9 miles per hour with its Tuatara hypercar, breaking a world record. But not only is the Tuatara one of the fastest vehicles on the planet, it’s also one of the priciest. The cost for all that speed is estimated to be around $2.0 million for the base Tuatara, limited to just 100 units worldwide.'], ['With a new Emira sports car and an Eletre electric SUV, Lotus is on the brink of a comeback. The automaker plans to roll out a number of new products within the next few years, with part of that strategy including the range-topping Evija. This supercar comes in at a cool $2.1 million and produces nearly 2,000 horsepower via four electric motors. Lotus plans to build just 130 road-going examples of the Evija.'], ['As with a few other cars on this list, the Aston Martin Vulcan was a track-only special. The British supercar made its world debut in 2015, powered by a naturally aspirated 7.0-liter V12 that produced 820 horsepower, and limited to just 24 examples worldwide. An even more track-focused AMR Pro model followed, but even the base Vulcan was a pricey commodity, costing about $2.4-million from the factory.'], ['You may have heard of Delage before. In the early 1900s, this French automaker was competing on the track with Bugatti and Ferrari. Now Delage is back and with a beautiful new hypercar dubbed the D12. Powered by a 7.6-liter V12 engine, the new D12 produces upwards of 1,010 horsepower and costs a cool $2.3 million.'], [\"What would you pay for the fastest production McLaren ever? Well, at least $2.3 million. With 1,035 horsepower courtesy of a gasoline-electric hybrid V8 powertrain, the Speedtail tops out at 250 miles per hour and is able to reach 186 mph in just 12.8 seconds – 2.7 seconds faster than the P1. Unfortunately, if you didn't get your hands on one new in 2020, you'll have to shell out serious cash on the used market. McLaren only built 106 examples.\"], ['The Rimac Nevera takes the title of most expensive EV with its $2.4 million price tag – but only by a few hundred thousand dollars over the next priciest electric supercar. Packing 1,914 horsepower and 1,740 pound-feet of torque, the Nevera can hit 60 in under 2.0 seconds and will continue on to a top speed of 258 miles per hour. Those lucky enough to order one should see it in their driveway before the end of 2022.'], ['First came the Zonda, then the Huayra, and now the Pagani Utopia. With 852 horsepower and an available seven-speed manual gearbox, the Utopia is the most powerful road-going Pagani ever produced and it’s limited to just 99 examples worldwide. The cost for one is a cool $2.5 million.'], ['Aptly named after the company’s founder, Battista Farina, the Pininfarina Battista delivers the kind of performance (and price!) to make its namesake proud. Revealed at the 2019 Geneva Motor Show, the Battista is completely electric, putting out 1,827 horsepower. If a normal supercar’s 0 to 60 time sounds too leisurely for you, the company says that the Battista will take you there in under 2.0 seconds. Pininfarina plans on building 150 examples of the Battista, costing $2.5 million each.'], [\"Sure, you could buy a normal LaFerrari (which also makes the list further down), but why settle for a supercar so mundane when you can take home this track-only version instead? Granted, the Ferrari FXX K Evo came out in 2017, and it's well past the point of being sold out. But when it was new, this 1,036-horsepower Ferrari tore up the track with its naturally aspirated V12 and aggressive aerodynamics.\"], [\"If the name Gordon Murray sounds familiar, it’s because he's the man behind the design of the iconic McLaren F1. These days, Mr. Murray has his own supercar venture, and the handsome T.50 is the crown jewel of the lineup. At $2.6 million, the T.50 packs a naturally aspirated 4.0-liter V12 that makes 654 horsepower. The car itself weighs a mere 2,174 pounds, and at 392 pounds, the T.50 has the lightest V12 on the road today.\"], [\"The name Countach may be iconic, but is it worth $2.6 million? That's what Lamborghini hopes you will spend on its new Aventador-based model. Debuting in August of 2021, the Countach LPI 800-4 has a 6.5-liter V12 with a light hybrid assist that gives it a whopping 803 horsepower, allowing for a 60 time of 2.8 seconds and a top speed of more than 220 miles per hour.\"], ['Mercedes has promised a production version of the Project One hypercar for quite a while now. The first official announcement was in March of 2017 before the first concept debuted later that same year. But after nearly five years of teasing, it appears as if the Project One will finally hit public roads. And when it does, the hybrid hypercar will have over 1,200 horsepower (895 kilowatts) and a price tag of $2.7 million.'], ['The folks at Aston Martin know a thing or two about exclusive vehicles, and the Victor might be the most exclusive project for the British brand to date. Based on the One-77 platform, the Victor uses parts from several donor Astons including the track project Vulcan and the upcoming Valkyrie. And talking about limited production – the Victor is one-of-one and rumored to cost nearly $3 million.'], ['The same Hennessey Venom F5 hypercar we all know and love, but with less roof. The F5 Roadster has the same twin-turbocharged 6.6-liter V8 as the coupe, producing the same 1,817 horsepower and 1,193 pound-feet of torque. Hennessey estimates a top speed of over 300 miles per hour, but if you want one, it will cost you at least $3.0 million.'], [\"The Koenigsegg Jesko, apart from being the fastest car the company has made to date, is also the most expensive. At $3.0 million out of the box, the handsome hypercar has 1,600-horsepower courtesy of the brand's ubiquitous twin-turbocharged 5.0-liter V8 engine. Opt for the Absolut model, and the Jesko, in theory, will be able to hit 300 miles per hour.\"], ['The upcoming Aston Martin hybrid hypercar hasn’t even hit the market yet, but already the $3.2 million Valkyrie has sold out. For what it’s worth, Aston Martin hasn’t officially released pricing. Estimates suggest the hypercar could go for anywhere between $2.6 and $3.9 million – but $3.2 million seems to be the magic number. Whatever the case, this machine is impressive. Its Cosworth-sourced 6.5-liter V12 produces 1,160 horsepower (865 kilowatts) and 664 pound-feet (900 Newton-meters) of torque, meaning its top speed should be well over 200 miles per hour (321 kilometers per hour). The company will build just 150 examples of the standard Valkyrie, with a limited 25-run AMR model arriving later.'], [\"Dubai-based W Motors shocked the world with its edgy Lykan Hypersport supercar in 2013. With titanium LED headlights housing 420 15-carat diamonds and a holographic display in the center console, it's no surprise it was the third most expensive car ever when new. It falls to number six on our list here, but it's still a wild hypercar with a powerful heart; the twin-turbocharged 3.7-liter six-cylinder engine underhood produces 780 horsepower (581 kilowatts) and 708 (960 Newton-meters) of torque.\"], ['One seat, 829 horsepower, and a top speed of over 200 miles per hour. The new McLaren Solus is about as close as you can get to a Formula 1 car from the factory, powered by a naturally aspirated 5.2-liter V10 engine with a 0-62 mile-per-hour time of just 2.5 seconds. Estimates suggest a McLaren Solus will set you back about $3.5 million.'], ['Following Pagani’s past playbook, a roadster version of the ferocious Huayra BC was inevitable. Last year, the company made it official by showing off the Huayra Roadster BC, a topless monster with 800 horsepower (597 kilowatts) and 774 lb-ft of torque (1049 Newton-meters). Somewhat surprisingly, Pagani gave the roadster 50 more horsepower than its coupe sibling, by cranking up its AMG-sourced twin-turbocharged 6.0-liter V12. In addition to the joy of hearing the glorious engine note without a roof in the way, owners should take comfort in knowing that their car is ultra-rare. Pagani is limiting production to just 40 units, each with a sticker price of $3.5 million.'], ['Another showstopper from the Geneva Motor Show that never was, the Bugatti Chiron Pur Sport is a special edition Chiron with a focus on aerodynamics, weight reduction, and power distribution. It’s the same 8.0-liter quad-turbo W16 engine underneath the skin but it’s now mated to a recalibrated automatic gearbox. While the peak output remains unchanged at 1,500 horsepower (1,103 kilowatts), the rpm redline has been set 200 rpm higher, up to 6,900 rpm. The Pur Sport also features slightly revised bodywork, with a bigger rear wing and more aerodynamic front fascia. Beginning production in late 2020, the Bugatti starts at $3.6 million.'], ['In several ways, the Sian represents a bridge to Lamborghini’s future. Though it’s based on the Aventador SVJ, this wild-looking Lambo is the brand’s first production electrified offering. In addition to the SVJ-sourced 6.5-liter V12, the Sian uses a 48-volt mild-hybrid system. Total system output is 819 horsepower (611 kilowatts), which also makes it the most powerful Lamborghini ever. As confirmed by the 63 stuck on either side of the Sian’s wing, Lamborghini will produce just 63 units. And each will cost far more than the Aventador SVJ, carrying a price of $3.6 million.'], ['The Koenigsegg CC850 was a surprise to be sure, but a welcomed one. Borrowing the twin-turbocharged 5.0-liter V8 from the Jesko, it notches that output up to 1,385 horsepower and 1,022 pound-feet of torque, with a so-called “TWMPAFMPC” transmission that shifts (pun intended) between manual and automatic functions. Of course, all that performance technology will cost you; the CC850 starts at $3.7 million.'], ['Earlier this year, Bugatti captured the collective attention of the automotive world by announcing that it broke the 300 miles per hour barrier with a modified version of the Chiron. The Super Sport 300 + is a road-going version of that car, meant to celebrate the occasion. Limited to just 30 units, the Super Sport 300+ is a beautiful version of the Chiron, with flowing, slippery bodywork and a sweet stripe motif. Even with 300 in the name, Bugatti is limiting the top speed of each car to \"just\" 277 mph. Production starts this year.'], [\"Lamborghini built just 14 examples of the Aventador-based Veneno between 2014 and 2015. Each one cost around $4.5 million, depending on how it was spec'd, and was available in both convertible and coupe configurations. Underhood Lamborghini fitted a more-powerful iteration of the Aventador's 6.5-liter V12, now producing 740 horsepower (552 kilowatts) and 509 pound-feet (609 Newton-meters) of torque, which gave it the ability to sprint to 60 miles per hour (96 kilometers per hour) in a blistering 2.9 seconds. To date, it’s the most expensive new Lamborghini ever.\"], [\"Produced in extremely limited numbers atop the body of a Chiron, it's no wonder Bugatti's one-of-40 Bolide track car is this pricey. At $4.7 million, the 1,824-horsepower hypercar has more power than the Chiron Super Sport 300+, and more extreme bodywork that allow it to lap tracks like the Nurburgring in record time (in theory). Bugatti says the Bolide would be able to conquer the ‘Ring in record time.\"], ['The Bugatti Mistral sends the iconic W16 engine off in style. With 1,577 horsepower and no roof, the Mistral takes the best bits of the Chiron and borrows elements from the Bolide and Divo to create a truly unique roadster. Of course, Bugatti plans to build just 99 examples of the Mistral at the cost of around $5.0 million in the US – and all of them are already accounted for.'], ['Even though the new Utopia marks the next big step for Pagani, the Huayra Imola packs nearly as much power with a twin-turbocharged 6.0-liter V12 engine producing 827 horsepower and 811 pound-feet of torque. The Huayra Imola is estimated to cost around $5.4 million new, which would make it the second most expensive Pagani of all time.'], ['Among Bugatti’s recently debuted vehicles, the Divo is a staff favorite. Though it shares much in common with its cheaper (!) sibling the Chiron, the Divo has a lot going for it to justify the extra money. By adding lighter wheels, a carbon fiber intercooler and removing some sound deadening, Bugatti made the Divo 77 pounds lighter than the Chiron. Though power is unchanged from the Chiron’s 1,500 ponies (1,119 kilowatts), The Divo features a different aerodynamic setup, which makes it 8 seconds quicker around the Nardo test track. Finally, the moment you’ve been waiting for: Bugatti is making 40 examples of the car, each costing $5.8 million.'], [\"SP Automotive (short for Spyros Panopoulos) is a new name in the world of hypercars, but the brand's 2,000-horsepower, $6.4-million, aptly named Chaos has already made an impact. With a twin-turbocharged 4.0-liter V10, the base SP Automotive Chaos is one of the most expensive cars on this list – beating out many Lambos and Bugattis – but there's an even pricier version of this car that costs an eye-watering $14.4 million. That version reportedly packs 3,000 hp.\"], ['The long list of pricey (new) Paganis ends with the Codualunga. Inspired by 1960s Italian coachbuilding, the stunning exterior and steampunk-esque interior – while equally stunning – are only part of what makes this Pagani so pricey. Under the hood is a twin-turbocharged 6.0-liter V12 producing 829 horsepower and 809 pound-feet of torque, paired to a seven-speed sequential transmission for a real race-car–like feel. The cost for this one-of-five Pagani is $7.4 million.'], [\"Like many others before it, the Mercedes-Benz Maybach Exelero is a one-off. Commissioned by Fulda, a German subsidiary of Goodyear, to test its new tires, the Exlero debuted in 2004. Mercedes built the Exelero on the bones of a Maybach, and gave it the same twin-turbo V12 engine producing 690 horsepower (510 kilowatts) and 752 pound-feet (1,020 Newton-meters) of torque. Top speed is listed at 218 miles per hour (350 kilometers per hour) and adjusted for inflation, the Exelero would cost more than $10 million in today's money.\"], ['Bugatti debuted the Centodieci at last year’s Pebble Beach car week, showing off yet another ultra-rare, super-expensive model to the world. Limited to just 10 – dieci – units, the car is a modern throwback to the Bugatti EB110. At the same time, it’s meant to celebrate Bugatti’s momentous 110-year anniversary. Its unique styling cues won’t make everyone fall in love, but at least you won’t have to worry about seeing another one on the road. Carrying a price just shy of $9 million, the Centodiece is one of the most exclusive cars ever made.'], [\"Rolls-Royce, expectedly, takes two of the top three spots on this list, with the stunning Sweptail one-off from 2017 coming in at number three. With a monumental price tag of $13.0 million, it was, at the time of its debut, the most expensive new car ever. It's been outpriced since then, but the 453-horsepower luxury car is still a jaw-dropper.\"], [\"With a price tag of $13.4 million, the one-off Bugatti La Voiture Noire is officially the most expensive new Bugatti ever made. And understandably so. A modern interpretation of Jean Bugatti's personal Type 57 SC Atlantic, the La Voiture Noire uses the same quad-turbocharged 8.0-liter W16 engine as the Chiron, producing 1,479 horsepower. It has six – that's right, six exhaust tips, radical new wheels, an aggressive, bespoke fascia, and a gigantic light-up badge in the rear that spells out the name of the brand. Of course, this one-of-one Bugatti already has a home.\"], ['Rolls-Royce is back in the business of coachbuilding with the gorgeous new Boat Tail. A successor to the stunning Sweptail from 2017 – which itself cost a reported $12.8 million – the Boat Tail has a unique two-tone exterior, custom high-end finishes inside, and even a \"hosting suite\" complete with a champagne fridge and built-in sun umbrella. Although Rolls-Royce doesn’t officially announce pricing for one-off builds such as this, rumor has it that the Boat Tail cost a whopping $28.0 million new.']]\n"
     ]
    }
   ],
   "source": [
    "#Extracting data for description\n",
    "c_desc=[]\n",
    "for i in range(4,104,2):\n",
    "    c_desc.append(desc_mod[i][0].splitlines())\n",
    "print(c_desc)  "
   ]
  },
  {
   "cell_type": "code",
   "execution_count": 390,
   "id": "8a9b5393",
   "metadata": {},
   "outputs": [
    {
     "name": "stdout",
     "output_type": "stream",
     "text": [
      "[['Price: $1.2 Million'], ['Price: $1.3 Million'], ['Price: $1.4 Million'], ['Price: $1.4 Million'], ['Price: $1.7 Million'], ['Price: $1.7 Million'], ['Price: $1.7 Million'], ['Price: $1.7 Million'], ['Price: $1.7 Million'], ['Price: $1.7 Million'], ['Price: $1.8 Million'], ['Price: $1.9 Million'], ['Price: $1.9 Million'], ['Price: $2.0 Million'], ['Price: $2.0 Million'], ['Price: $2.0 Million*'], ['Price: $2.1 Million'], ['Price: $2.3 Million'], ['Price: $2.3 Million'], ['Price: $2.3 Million'], ['Price: $2.4 Million'], ['Price: $2.5 Million'], ['Price: $2.5 Million'], ['Price: $2.6 Million'], ['Price: $2.6 Million'], ['Price: $2.6 Million'], ['Price: $2.7 Million'], ['Price: $3.0 Million'], ['$3.0 Million'], ['Price: $3.0 Million'], ['Price: $3.2 Million'], ['Price: $3.4 Million'], ['$3.5 Million'], ['Price: $3.5 Million'], ['Price: $3.6 Million'], ['Price: $3.6 million'], ['Price: $3.7 Million'], ['Price: $3.9 Million'], ['Price: $4.5 Million'], ['Price: $4.7 Million'], ['Price: $5.0 Million'], ['Price: $5.4 Million'], ['Price: $5.8 Million'], ['Price: $6.4 Million'], ['Price: $7.4 Million'], ['Price: $8.0 Million'], ['Price: $9.0 Million'], ['Price: $12.8 Million'], ['Price: $13.4 Million'], ['Price: $28.0 Million (est.)']]\n"
     ]
    }
   ],
   "source": [
    "#Extracting data for car price\n",
    "cpricef=[]\n",
    "for i in range(3,103,2):\n",
    "    cpricef.append(desc_mod[i][0].splitlines())\n",
    "print(cpricef)  "
   ]
  },
  {
   "cell_type": "code",
   "execution_count": 395,
   "id": "f1371a92",
   "metadata": {},
   "outputs": [
    {
     "name": "stdout",
     "output_type": "stream",
     "text": [
      "50 50 50\n"
     ]
    }
   ],
   "source": [
    "print(len(cname),len(c_desc),len(cpricef))"
   ]
  },
  {
   "cell_type": "code",
   "execution_count": null,
   "id": "d6941659",
   "metadata": {},
   "outputs": [],
   "source": []
  }
 ],
 "metadata": {
  "kernelspec": {
   "display_name": "Python 3 (ipykernel)",
   "language": "python",
   "name": "python3"
  },
  "language_info": {
   "codemirror_mode": {
    "name": "ipython",
    "version": 3
   },
   "file_extension": ".py",
   "mimetype": "text/x-python",
   "name": "python",
   "nbconvert_exporter": "python",
   "pygments_lexer": "ipython3",
   "version": "3.9.12"
  }
 },
 "nbformat": 4,
 "nbformat_minor": 5
}
